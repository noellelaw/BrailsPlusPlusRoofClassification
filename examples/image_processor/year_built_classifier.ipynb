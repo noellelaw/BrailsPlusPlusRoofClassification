{
 "cells": [
  {
   "cell_type": "markdown",
   "metadata": {
    "colab_type": "text",
    "id": "view-in-github"
   },
   "source": [
    "<span style=\"display: inline-block; margin-right: 10px; vertical-align: middle; border: 1px solid #F8F8F8; border-radius: 8px; padding: 5px; background-color: #F8F8F8;\">\n",
    "    <a href=\"https://www.designsafe-ci.org/workspace/jupyter-lab-hpc-cuda-ds?appVersion=1.1.1\" target=\"_parent\" style=\"text-decoration: none;\">\n",
    "        <span style=\"font-family: Helvetica, sans-serif; font-size: 13px; color: #565656; margin-right: 5px; vertical-align: middle; font-weight: 600;\">Open in</span>\n",
    "        <img src=\"https://www.designsafe-ci.org/media/filer_public/2d/d3/2dd37fbf-289e-49cf-9c1a-879c864c4e17/nsf_nheri-ds.png\" alt=\"Open in DesignSafe\" style=\"width: 100px; height: auto; vertical-align: middle;\">\n",
    "    </a>\n",
    "</span>\n",
    "\n",
    "<span style=\"display: inline-block; margin-right: 10px; vertical-align: middle;\">\n",
    "    <a href=\"https://colab.research.google.com/github/NHERI-SimCenter/BrailsPlusPlus/blob/master/examples/image_processor/year_built_classifier.ipynb\" target=\"_parent\">\n",
    "        <img src=\"https://colab.research.google.com/assets/colab-badge.svg\" alt=\"Open In Colab\" style=\"width: 130px; height: auto; vertical-align: middle;\"/>\n",
    "    </a>\n",
    "</span>\n",
    "\n",
    "<span style=\"display: inline-block; vertical-align: middle; margin-top: 6px;\">\n",
    "    <a target=\"_blank\" href=\"https://lightning.ai/new?repo_url=https%3A//github.com/NHERI-SimCenter/BrailsPlusPlus/blob/master/examples/image_processor/year_built_classifier.ipynb\">\n",
    "        <img src=\"https://pl-bolts-doc-images.s3.us-east-2.amazonaws.com/app-2/studio-badge.svg\" alt=\"Open in Studio\" style=\"width: 120px; height: auto; vertical-align: middle;\"/>\n",
    "    </a>\n",
    "</span>"
   ]
  },
  {
   "cell_type": "markdown",
   "metadata": {
    "id": "aFu-PB0j9_-s"
   },
   "source": [
    "## **Install BRAILS++**\n",
    "BRAILS++ is not yet available on PyPi. The following line installs the latest version from the GitHub repository using `pip`."
   ]
  },
  {
   "cell_type": "code",
   "execution_count": 1,
   "metadata": {
    "colab": {
     "base_uri": "https://localhost:8080/"
    },
    "id": "KkujirTi9oZu",
    "outputId": "56ef57fa-739d-4cea-f16f-06768c53133a"
   },
   "outputs": [
    {
     "name": "stdout",
     "output_type": "stream",
     "text": [
      "Collecting git+https://github.com/bacetiner/BrailsPlusPlus\n",
      "  Cloning https://github.com/bacetiner/BrailsPlusPlus to /tmp/pip-req-build-ft1_2sd3\n",
      "  Running command git clone --filter=blob:none --quiet https://github.com/bacetiner/BrailsPlusPlus /tmp/pip-req-build-ft1_2sd3\n",
      "  Resolved https://github.com/bacetiner/BrailsPlusPlus to commit 2e67ed4d5e8c735f7eab0178057c02f5389e0217\n",
      "  Preparing metadata (setup.py) ... \u001b[?25ldone\n",
      "\u001b[?25hRequirement already satisfied: addict in /home/bacetiner/anaconda3/envs/brails_plus/lib/python3.11/site-packages (from brails==4.0) (2.4.0)\n",
      "Requirement already satisfied: Cython in /home/bacetiner/anaconda3/envs/brails_plus/lib/python3.11/site-packages (from brails==4.0) (3.0.11)\n",
      "Requirement already satisfied: ftfy in /home/bacetiner/anaconda3/envs/brails_plus/lib/python3.11/site-packages (from brails==4.0) (6.2.3)\n",
      "Requirement already satisfied: matplotlib in /home/bacetiner/anaconda3/envs/brails_plus/lib/python3.11/site-packages (from brails==4.0) (3.9.2)\n",
      "Requirement already satisfied: pillow in /home/bacetiner/anaconda3/envs/brails_plus/lib/python3.11/site-packages (from brails==4.0) (10.4.0)\n",
      "Requirement already satisfied: plotly in /home/bacetiner/anaconda3/envs/brails_plus/lib/python3.11/site-packages (from brails==4.0) (5.24.1)\n",
      "Requirement already satisfied: pycocotools in /home/bacetiner/anaconda3/envs/brails_plus/lib/python3.11/site-packages (from brails==4.0) (2.0.8)\n",
      "Requirement already satisfied: requests in /home/bacetiner/anaconda3/envs/brails_plus/lib/python3.11/site-packages (from brails==4.0) (2.32.3)\n",
      "Requirement already satisfied: seaborn in /home/bacetiner/anaconda3/envs/brails_plus/lib/python3.11/site-packages (from brails==4.0) (0.13.2)\n",
      "Requirement already satisfied: shapely in /home/bacetiner/anaconda3/envs/brails_plus/lib/python3.11/site-packages (from brails==4.0) (2.0.6)\n",
      "Requirement already satisfied: supervision in /home/bacetiner/anaconda3/envs/brails_plus/lib/python3.11/site-packages (from brails==4.0) (0.24.0)\n",
      "Requirement already satisfied: timm in /home/bacetiner/anaconda3/envs/brails_plus/lib/python3.11/site-packages (from brails==4.0) (1.0.9)\n",
      "Requirement already satisfied: tensorboard in /home/bacetiner/anaconda3/envs/brails_plus/lib/python3.11/site-packages (from brails==4.0) (2.18.0)\n",
      "Requirement already satisfied: tensorboardX in /home/bacetiner/anaconda3/envs/brails_plus/lib/python3.11/site-packages (from brails==4.0) (2.6.2.2)\n",
      "Requirement already satisfied: torch in /home/bacetiner/anaconda3/envs/brails_plus/lib/python3.11/site-packages (from brails==4.0) (2.4.1)\n",
      "Requirement already satisfied: torchvision in /home/bacetiner/anaconda3/envs/brails_plus/lib/python3.11/site-packages (from brails==4.0) (0.19.1)\n",
      "Requirement already satisfied: transformers in /home/bacetiner/anaconda3/envs/brails_plus/lib/python3.11/site-packages (from brails==4.0) (4.45.2)\n",
      "Requirement already satisfied: typing in /home/bacetiner/anaconda3/envs/brails_plus/lib/python3.11/site-packages (from brails==4.0) (3.7.4.3)\n",
      "Requirement already satisfied: wget in /home/bacetiner/anaconda3/envs/brails_plus/lib/python3.11/site-packages (from brails==4.0) (3.2)\n",
      "Requirement already satisfied: yapf in /home/bacetiner/anaconda3/envs/brails_plus/lib/python3.11/site-packages (from brails==4.0) (0.40.2)\n",
      "Requirement already satisfied: yacs in /home/bacetiner/anaconda3/envs/brails_plus/lib/python3.11/site-packages (from brails==4.0) (0.1.8)\n",
      "Requirement already satisfied: webcolors in /home/bacetiner/anaconda3/envs/brails_plus/lib/python3.11/site-packages (from brails==4.0) (24.8.0)\n",
      "Requirement already satisfied: opencv-python in /home/bacetiner/anaconda3/envs/brails_plus/lib/python3.11/site-packages (from brails==4.0) (4.10.0.84)\n",
      "Requirement already satisfied: pandas in /home/bacetiner/anaconda3/envs/brails_plus/lib/python3.11/site-packages (from brails==4.0) (2.2.3)\n",
      "Requirement already satisfied: wcwidth<0.3.0,>=0.2.12 in /home/bacetiner/anaconda3/envs/brails_plus/lib/python3.11/site-packages (from ftfy->brails==4.0) (0.2.13)\n",
      "Requirement already satisfied: contourpy>=1.0.1 in /home/bacetiner/anaconda3/envs/brails_plus/lib/python3.11/site-packages (from matplotlib->brails==4.0) (1.3.0)\n",
      "Requirement already satisfied: cycler>=0.10 in /home/bacetiner/anaconda3/envs/brails_plus/lib/python3.11/site-packages (from matplotlib->brails==4.0) (0.12.1)\n",
      "Requirement already satisfied: fonttools>=4.22.0 in /home/bacetiner/anaconda3/envs/brails_plus/lib/python3.11/site-packages (from matplotlib->brails==4.0) (4.54.1)\n",
      "Requirement already satisfied: kiwisolver>=1.3.1 in /home/bacetiner/anaconda3/envs/brails_plus/lib/python3.11/site-packages (from matplotlib->brails==4.0) (1.4.7)\n",
      "Requirement already satisfied: numpy>=1.23 in /home/bacetiner/anaconda3/envs/brails_plus/lib/python3.11/site-packages (from matplotlib->brails==4.0) (2.1.2)\n",
      "Requirement already satisfied: packaging>=20.0 in /home/bacetiner/anaconda3/envs/brails_plus/lib/python3.11/site-packages (from matplotlib->brails==4.0) (24.1)\n",
      "Requirement already satisfied: pyparsing>=2.3.1 in /home/bacetiner/anaconda3/envs/brails_plus/lib/python3.11/site-packages (from matplotlib->brails==4.0) (3.1.4)\n",
      "Requirement already satisfied: python-dateutil>=2.7 in /home/bacetiner/anaconda3/envs/brails_plus/lib/python3.11/site-packages (from matplotlib->brails==4.0) (2.9.0.post0)\n",
      "Requirement already satisfied: pytz>=2020.1 in /home/bacetiner/anaconda3/envs/brails_plus/lib/python3.11/site-packages (from pandas->brails==4.0) (2024.2)\n",
      "Requirement already satisfied: tzdata>=2022.7 in /home/bacetiner/anaconda3/envs/brails_plus/lib/python3.11/site-packages (from pandas->brails==4.0) (2024.2)\n",
      "Requirement already satisfied: tenacity>=6.2.0 in /home/bacetiner/anaconda3/envs/brails_plus/lib/python3.11/site-packages (from plotly->brails==4.0) (9.0.0)\n",
      "Requirement already satisfied: charset-normalizer<4,>=2 in /home/bacetiner/anaconda3/envs/brails_plus/lib/python3.11/site-packages (from requests->brails==4.0) (3.3.2)\n",
      "Requirement already satisfied: idna<4,>=2.5 in /home/bacetiner/anaconda3/envs/brails_plus/lib/python3.11/site-packages (from requests->brails==4.0) (3.7)\n",
      "Requirement already satisfied: urllib3<3,>=1.21.1 in /home/bacetiner/anaconda3/envs/brails_plus/lib/python3.11/site-packages (from requests->brails==4.0) (2.2.3)\n",
      "Requirement already satisfied: certifi>=2017.4.17 in /home/bacetiner/anaconda3/envs/brails_plus/lib/python3.11/site-packages (from requests->brails==4.0) (2024.8.30)\n",
      "Requirement already satisfied: defusedxml<0.8.0,>=0.7.1 in /home/bacetiner/anaconda3/envs/brails_plus/lib/python3.11/site-packages (from supervision->brails==4.0) (0.7.1)\n",
      "Requirement already satisfied: pyyaml>=5.3 in /home/bacetiner/anaconda3/envs/brails_plus/lib/python3.11/site-packages (from supervision->brails==4.0) (6.0.2)\n",
      "Requirement already satisfied: scipy<2.0.0,>=1.10.0 in /home/bacetiner/anaconda3/envs/brails_plus/lib/python3.11/site-packages (from supervision->brails==4.0) (1.14.1)\n",
      "Requirement already satisfied: absl-py>=0.4 in /home/bacetiner/anaconda3/envs/brails_plus/lib/python3.11/site-packages (from tensorboard->brails==4.0) (2.1.0)\n",
      "Requirement already satisfied: grpcio>=1.48.2 in /home/bacetiner/anaconda3/envs/brails_plus/lib/python3.11/site-packages (from tensorboard->brails==4.0) (1.67.1)\n",
      "Requirement already satisfied: markdown>=2.6.8 in /home/bacetiner/anaconda3/envs/brails_plus/lib/python3.11/site-packages (from tensorboard->brails==4.0) (3.7)\n",
      "Requirement already satisfied: protobuf!=4.24.0,>=3.19.6 in /home/bacetiner/anaconda3/envs/brails_plus/lib/python3.11/site-packages (from tensorboard->brails==4.0) (5.28.3)\n",
      "Requirement already satisfied: setuptools>=41.0.0 in /home/bacetiner/anaconda3/envs/brails_plus/lib/python3.11/site-packages (from tensorboard->brails==4.0) (75.1.0)\n",
      "Requirement already satisfied: six>1.9 in /home/bacetiner/anaconda3/envs/brails_plus/lib/python3.11/site-packages (from tensorboard->brails==4.0) (1.16.0)\n",
      "Requirement already satisfied: tensorboard-data-server<0.8.0,>=0.7.0 in /home/bacetiner/anaconda3/envs/brails_plus/lib/python3.11/site-packages (from tensorboard->brails==4.0) (0.7.2)\n",
      "Requirement already satisfied: werkzeug>=1.0.1 in /home/bacetiner/anaconda3/envs/brails_plus/lib/python3.11/site-packages (from tensorboard->brails==4.0) (3.1.3)\n",
      "Requirement already satisfied: huggingface_hub in /home/bacetiner/anaconda3/envs/brails_plus/lib/python3.11/site-packages (from timm->brails==4.0) (0.25.2)\n",
      "Requirement already satisfied: safetensors in /home/bacetiner/anaconda3/envs/brails_plus/lib/python3.11/site-packages (from timm->brails==4.0) (0.4.5)\n",
      "Requirement already satisfied: filelock in /home/bacetiner/anaconda3/envs/brails_plus/lib/python3.11/site-packages (from torch->brails==4.0) (3.16.1)\n",
      "Requirement already satisfied: typing-extensions>=4.8.0 in /home/bacetiner/anaconda3/envs/brails_plus/lib/python3.11/site-packages (from torch->brails==4.0) (4.12.2)\n",
      "Requirement already satisfied: sympy in /home/bacetiner/anaconda3/envs/brails_plus/lib/python3.11/site-packages (from torch->brails==4.0) (1.13.3)\n",
      "Requirement already satisfied: networkx in /home/bacetiner/anaconda3/envs/brails_plus/lib/python3.11/site-packages (from torch->brails==4.0) (3.3)\n",
      "Requirement already satisfied: jinja2 in /home/bacetiner/anaconda3/envs/brails_plus/lib/python3.11/site-packages (from torch->brails==4.0) (3.1.4)\n",
      "Requirement already satisfied: fsspec in /home/bacetiner/anaconda3/envs/brails_plus/lib/python3.11/site-packages (from torch->brails==4.0) (2024.9.0)\n",
      "Requirement already satisfied: nvidia-cuda-nvrtc-cu12==12.1.105 in /home/bacetiner/anaconda3/envs/brails_plus/lib/python3.11/site-packages (from torch->brails==4.0) (12.1.105)\n",
      "Requirement already satisfied: nvidia-cuda-runtime-cu12==12.1.105 in /home/bacetiner/anaconda3/envs/brails_plus/lib/python3.11/site-packages (from torch->brails==4.0) (12.1.105)\n",
      "Requirement already satisfied: nvidia-cuda-cupti-cu12==12.1.105 in /home/bacetiner/anaconda3/envs/brails_plus/lib/python3.11/site-packages (from torch->brails==4.0) (12.1.105)\n",
      "Requirement already satisfied: nvidia-cudnn-cu12==9.1.0.70 in /home/bacetiner/anaconda3/envs/brails_plus/lib/python3.11/site-packages (from torch->brails==4.0) (9.1.0.70)\n",
      "Requirement already satisfied: nvidia-cublas-cu12==12.1.3.1 in /home/bacetiner/anaconda3/envs/brails_plus/lib/python3.11/site-packages (from torch->brails==4.0) (12.1.3.1)\n",
      "Requirement already satisfied: nvidia-cufft-cu12==11.0.2.54 in /home/bacetiner/anaconda3/envs/brails_plus/lib/python3.11/site-packages (from torch->brails==4.0) (11.0.2.54)\n",
      "Requirement already satisfied: nvidia-curand-cu12==10.3.2.106 in /home/bacetiner/anaconda3/envs/brails_plus/lib/python3.11/site-packages (from torch->brails==4.0) (10.3.2.106)\n",
      "Requirement already satisfied: nvidia-cusolver-cu12==11.4.5.107 in /home/bacetiner/anaconda3/envs/brails_plus/lib/python3.11/site-packages (from torch->brails==4.0) (11.4.5.107)\n",
      "Requirement already satisfied: nvidia-cusparse-cu12==12.1.0.106 in /home/bacetiner/anaconda3/envs/brails_plus/lib/python3.11/site-packages (from torch->brails==4.0) (12.1.0.106)\n",
      "Requirement already satisfied: nvidia-nccl-cu12==2.20.5 in /home/bacetiner/anaconda3/envs/brails_plus/lib/python3.11/site-packages (from torch->brails==4.0) (2.20.5)\n",
      "Requirement already satisfied: nvidia-nvtx-cu12==12.1.105 in /home/bacetiner/anaconda3/envs/brails_plus/lib/python3.11/site-packages (from torch->brails==4.0) (12.1.105)\n",
      "Requirement already satisfied: triton==3.0.0 in /home/bacetiner/anaconda3/envs/brails_plus/lib/python3.11/site-packages (from torch->brails==4.0) (3.0.0)\n",
      "Requirement already satisfied: nvidia-nvjitlink-cu12 in /home/bacetiner/anaconda3/envs/brails_plus/lib/python3.11/site-packages (from nvidia-cusolver-cu12==11.4.5.107->torch->brails==4.0) (12.6.77)\n",
      "Requirement already satisfied: regex!=2019.12.17 in /home/bacetiner/anaconda3/envs/brails_plus/lib/python3.11/site-packages (from transformers->brails==4.0) (2024.9.11)\n",
      "Requirement already satisfied: tokenizers<0.21,>=0.20 in /home/bacetiner/anaconda3/envs/brails_plus/lib/python3.11/site-packages (from transformers->brails==4.0) (0.20.1)\n",
      "Requirement already satisfied: tqdm>=4.27 in /home/bacetiner/anaconda3/envs/brails_plus/lib/python3.11/site-packages (from transformers->brails==4.0) (4.66.5)\n",
      "Requirement already satisfied: importlib-metadata>=6.6.0 in /home/bacetiner/anaconda3/envs/brails_plus/lib/python3.11/site-packages (from yapf->brails==4.0) (7.0.1)\n",
      "Requirement already satisfied: platformdirs>=3.5.1 in /home/bacetiner/anaconda3/envs/brails_plus/lib/python3.11/site-packages (from yapf->brails==4.0) (4.3.6)\n",
      "Requirement already satisfied: tomli>=2.0.1 in /home/bacetiner/anaconda3/envs/brails_plus/lib/python3.11/site-packages (from yapf->brails==4.0) (2.0.1)\n",
      "Requirement already satisfied: zipp>=0.5 in /home/bacetiner/anaconda3/envs/brails_plus/lib/python3.11/site-packages (from importlib-metadata>=6.6.0->yapf->brails==4.0) (3.20.2)\n",
      "Requirement already satisfied: MarkupSafe>=2.1.1 in /home/bacetiner/anaconda3/envs/brails_plus/lib/python3.11/site-packages (from werkzeug>=1.0.1->tensorboard->brails==4.0) (3.0.1)\n",
      "Requirement already satisfied: mpmath<1.4,>=1.1.0 in /home/bacetiner/anaconda3/envs/brails_plus/lib/python3.11/site-packages (from sympy->torch->brails==4.0) (1.3.0)\n",
      "Building wheels for collected packages: brails\n",
      "  Building wheel for brails (setup.py) ... \u001b[?25ldone\n",
      "\u001b[?25h  Created wheel for brails: filename=brails-4.0-py3-none-any.whl size=2024144 sha256=b1af3309b92b22a0bc62a4ce8775692a9e8ec90e0194e6557ffd13e108a9a100\n",
      "  Stored in directory: /tmp/pip-ephem-wheel-cache-158l70x1/wheels/65/0b/aa/a9113e0557b48ca6dfe52e54ff2df5af4aa9945a3736b53797\n",
      "Successfully built brails\n",
      "Installing collected packages: brails\n",
      "Successfully installed brails-4.0\n"
     ]
    }
   ],
   "source": [
    "!pip install git+https://github.com/NHERI-SimCenter/BrailsPlusPlus"
   ]
  },
  {
   "cell_type": "markdown",
   "metadata": {
    "id": "sqCVhpcm-ePA"
   },
   "source": [
    "## **Import ImageSet and Importer Methods of BRAILS++**\n",
    "BRAILS++ offers various Artificial Intelligence-powered modules for predicting building and infrastructure attributes from images, such as the `YearBuiltClassifier` demonstrated in this example.\n",
    "\n",
    "The `Importer` class provides the main methods to load these modules. To gather the images needed for attribute prediction, users can use the ImageSet class or BRAILS++ scrapers, which facilitate automated asset geometry and image retrieval. This example illustrates both methods for sourcing imagery for use with the `YearBuiltClassifier` module."
   ]
  },
  {
   "cell_type": "code",
   "execution_count": 2,
   "metadata": {
    "id": "hKRsVFR4-M1b"
   },
   "outputs": [],
   "source": [
    "from brails import Importer\n",
    "from brails.types.image_set import ImageSet"
   ]
  },
  {
   "cell_type": "markdown",
   "metadata": {},
   "source": [
    "## **Define Google API Key**\n",
    "You need a Google API Key with Street View Static API enabled to download the Google Street View imagery required for this example. Please follow this [link](https://support.google.com/googleapi/answer/6158862?hl=en) for instructions on setting up a Google API key."
   ]
  },
  {
   "cell_type": "code",
   "execution_count": 3,
   "metadata": {},
   "outputs": [],
   "source": [
    "API_KEY = 'YOUR-API-KEY-HERE'"
   ]
  },
  {
   "cell_type": "markdown",
   "metadata": {
    "id": "WWtc71tt-rbt"
   },
   "source": [
    "## **Load Street-Level Imagery: (Option 1) Download Imagery by Specifying the Region Name**\n",
    "The `YearBuiltClassifier` class identifies the construction era of a building from street-level imagery. In this option, BRAILS++ retrieves the required imagery by following the steps below.\n",
    "1. <strong>Call the `RegionBoundary` class with the necessary details to specify the region of interest.</strong> In this example, street-level imagery of buildings in Lake Charles, LA, are downloaded. Therefore, the required information includes the `type` of information provided and the `data` itself, which are the `locationName` and `Lake Charles, Louisiana`.\n",
    "\n",
    "2. <strong>Download the footprint inventory for the `RegionBoundary` saved in `region_boundary_object` by downloading the Microsoft footprint data through the `MS_FootprintScraper`.</strong> The only information required to initialize `MS_FootprintScraper` is the desired output unit for `length`, which, in this case, is `ft`. The output of `MS_FootprintScraper` is an `AssetInventory` saved in `lake_charles_fp`.\n",
    "\n",
    "3. <strong>Get a randomly selected `100` building subset of the footprint inventory obtained using `lake_charles_fp`. </strong> This subset is obtained using the `get_random_sample` method of an `AssetInventory` object and is stored in `lake_charles_fp_subset`. For this example, the random seed is set to `15` for reproducibility of the results.\n",
    "\n",
    "4. <strong>Get the street-level imagery for the selected subset using `get_images` method of `GoogleStreetview` module.</strong> `get_images` requires two inputs 1) AssetInventory for which the images will be retrieved (in this example, `lake_charles_fp_subset`) and 2) the path to the folder where the retrieved images will be saved, which in this case is `tmp/street/`."
   ]
  },
  {
   "cell_type": "code",
   "execution_count": 4,
   "metadata": {
    "id": "nAYEbgmj6GxA"
   },
   "outputs": [
    {
     "name": "stdout",
     "output_type": "stream",
     "text": [
      "\n",
      "Searching for Lake Charles, Louisiana...\n",
      "Found Lake Charles, Calcasieu Parish, Louisiana, United States\n"
     ]
    },
    {
     "name": "stderr",
     "output_type": "stream",
     "text": [
      "Processing quadkeys:   0%|                                                                                                                                              | 0/2 [00:00<?, ?it/s]\n",
      "Processing footprints:   0%|                                                                                                                                        | 0/14263 [00:00<?, ?it/s]\u001b[A\n",
      "Processing footprints:  10%|███████████▉                                                                                                              | 1392/14263 [00:00<00:00, 13915.14it/s]\u001b[A\n",
      "Processing footprints:  20%|███████████████████████▊                                                                                                  | 2784/14263 [00:00<00:00, 13873.44it/s]\u001b[A\n",
      "Processing footprints:  29%|███████████████████████████████████▋                                                                                      | 4172/14263 [00:00<00:00, 13841.21it/s]\u001b[A\n",
      "Processing footprints:  39%|███████████████████████████████████████████████▌                                                                          | 5561/14263 [00:00<00:00, 13853.73it/s]\u001b[A\n",
      "Processing footprints:  49%|███████████████████████████████████████████████████████████▌                                                              | 6960/14263 [00:00<00:00, 13901.21it/s]\u001b[A\n",
      "Processing footprints:  59%|███████████████████████████████████████████████████████████████████████▍                                                  | 8351/14263 [00:00<00:00, 13888.43it/s]\u001b[A\n",
      "Processing footprints:  68%|███████████████████████████████████████████████████████████████████████████████████▎                                      | 9740/14263 [00:00<00:00, 13849.94it/s]\u001b[A\n",
      "Processing footprints:  78%|██████████████████████████████████████████████████████████████████████████████████████████████▍                          | 11126/14263 [00:00<00:00, 13782.73it/s]\u001b[A\n",
      "Processing footprints:  88%|██████████████████████████████████████████████████████████████████████████████████████████████████████████▎              | 12530/14263 [00:00<00:00, 13856.95it/s]\u001b[A\n",
      "Processing footprints: 100%|█████████████████████████████████████████████████████████████████████████████████████████████████████████████████████████| 14263/14263 [00:01<00:00, 13860.04it/s]\u001b[A\n",
      "Processing quadkeys:  50%|███████████████████████████████████████████████████████████████████                                                                   | 1/2 [00:02<00:02,  2.41s/it]\n",
      "Processing footprints:   0%|                                                                                                                                       | 0/119814 [00:00<?, ?it/s]\u001b[A\n",
      "Processing footprints:   1%|█                                                                                                                          | 987/119814 [00:00<00:12, 9867.26it/s]\u001b[A\n",
      "Processing footprints:   2%|██                                                                                                                       | 2094/119814 [00:00<00:11, 10573.14it/s]\u001b[A\n",
      "Processing footprints:   3%|███▏                                                                                                                     | 3196/119814 [00:00<00:10, 10776.87it/s]\u001b[A\n",
      "Processing footprints:   4%|████▎                                                                                                                    | 4331/119814 [00:00<00:10, 11001.70it/s]\u001b[A\n",
      "Processing footprints:   5%|█████▌                                                                                                                   | 5469/119814 [00:00<00:10, 11137.12it/s]\u001b[A\n",
      "Processing footprints:   5%|██████▋                                                                                                                  | 6583/119814 [00:00<00:10, 11127.40it/s]\u001b[A\n",
      "Processing footprints:   6%|███████▊                                                                                                                 | 7696/119814 [00:00<00:10, 11037.86it/s]\u001b[A\n",
      "Processing footprints:   7%|████████▉                                                                                                                | 8822/119814 [00:00<00:09, 11105.00it/s]\u001b[A\n",
      "Processing footprints:   8%|██████████                                                                                                               | 9943/119814 [00:00<00:09, 11134.81it/s]\u001b[A\n",
      "Processing footprints:   9%|███████████                                                                                                             | 11096/119814 [00:01<00:09, 11253.20it/s]\u001b[A\n",
      "Processing footprints:  10%|████████████▏                                                                                                           | 12222/119814 [00:01<00:09, 11146.70it/s]\u001b[A\n",
      "Processing footprints:  11%|█████████████▍                                                                                                          | 13361/119814 [00:01<00:09, 11215.59it/s]\u001b[A\n",
      "Processing footprints:  12%|██████████████▌                                                                                                         | 14483/119814 [00:01<00:09, 11121.18it/s]\u001b[A\n",
      "Processing footprints:  13%|███████████████▋                                                                                                        | 15607/119814 [00:01<00:09, 11156.24it/s]\u001b[A\n",
      "Processing footprints:  14%|████████████████▋                                                                                                       | 16723/119814 [00:01<00:09, 10815.75it/s]\u001b[A\n",
      "Processing footprints:  15%|█████████████████▊                                                                                                      | 17807/119814 [00:01<00:09, 10659.01it/s]\u001b[A\n",
      "Processing footprints:  16%|██████████████████▉                                                                                                     | 18875/119814 [00:01<00:09, 10448.71it/s]\u001b[A\n",
      "Processing footprints:  17%|███████████████████▉                                                                                                    | 19922/119814 [00:01<00:09, 10176.19it/s]\u001b[A\n",
      "Processing footprints:  18%|█████████████████████                                                                                                   | 21034/119814 [00:01<00:09, 10447.09it/s]\u001b[A\n",
      "Processing footprints:  18%|██████████████████████▏                                                                                                 | 22162/119814 [00:02<00:09, 10687.96it/s]\u001b[A\n",
      "Processing footprints:  19%|███████████████████████▎                                                                                                | 23316/119814 [00:02<00:08, 10934.64it/s]\u001b[A\n",
      "Processing footprints:  20%|████████████████████████▍                                                                                               | 24436/119814 [00:02<00:08, 11010.80it/s]\u001b[A\n",
      "Processing footprints:  21%|█████████████████████████▌                                                                                              | 25549/119814 [00:02<00:08, 11043.35it/s]\u001b[A\n",
      "Processing footprints:  22%|██████████████████████████▋                                                                                             | 26667/119814 [00:02<00:08, 11083.73it/s]\u001b[A\n",
      "Processing footprints:  23%|███████████████████████████▊                                                                                            | 27806/119814 [00:02<00:08, 11172.42it/s]\u001b[A\n",
      "Processing footprints:  24%|████████████████████████████▉                                                                                           | 28949/119814 [00:02<00:08, 11244.65it/s]\u001b[A\n",
      "Processing footprints:  25%|██████████████████████████████▏                                                                                         | 30096/119814 [00:02<00:07, 11309.26it/s]\u001b[A\n",
      "Processing footprints:  26%|███████████████████████████████▎                                                                                        | 31235/119814 [00:02<00:07, 11330.00it/s]\u001b[A\n",
      "Processing footprints:  27%|████████████████████████████████▍                                                                                       | 32369/119814 [00:02<00:07, 11230.00it/s]\u001b[A\n",
      "Processing footprints:  28%|█████████████████████████████████▌                                                                                      | 33493/119814 [00:03<00:07, 11024.59it/s]\u001b[A\n",
      "Processing footprints:  29%|██████████████████████████████████▋                                                                                     | 34597/119814 [00:03<00:07, 10844.63it/s]\u001b[A\n",
      "Processing footprints:  30%|███████████████████████████████████▋                                                                                    | 35693/119814 [00:03<00:07, 10877.91it/s]\u001b[A\n",
      "Processing footprints:  31%|████████████████████████████████████▊                                                                                   | 36792/119814 [00:03<00:07, 10908.97it/s]\u001b[A\n",
      "Processing footprints:  32%|█████████████████████████████████████▉                                                                                  | 37934/119814 [00:03<00:07, 11058.23it/s]\u001b[A\n",
      "Processing footprints:  33%|███████████████████████████████████████                                                                                 | 39041/119814 [00:03<00:07, 10838.02it/s]\u001b[A\n",
      "Processing footprints:  34%|████████████████████████████████████████▏                                                                               | 40186/119814 [00:03<00:07, 11015.10it/s]\u001b[A\n",
      "Processing footprints:  35%|█████████████████████████████████████████▍                                                                              | 41343/119814 [00:03<00:07, 11178.13it/s]\u001b[A\n",
      "Processing footprints:  36%|██████████████████████████████████████████▋                                                                             | 42563/119814 [00:03<00:06, 11480.76it/s]\u001b[A\n",
      "Processing footprints:  36%|███████████████████████████████████████████▊                                                                            | 43713/119814 [00:03<00:06, 11420.36it/s]\u001b[A\n",
      "Processing footprints:  37%|████████████████████████████████████████████▉                                                                           | 44856/119814 [00:04<00:06, 11279.17it/s]\u001b[A\n",
      "Processing footprints:  38%|██████████████████████████████████████████████                                                                          | 45985/119814 [00:04<00:06, 11168.67it/s]\u001b[A\n",
      "Processing footprints:  39%|███████████████████████████████████████████████▏                                                                        | 47103/119814 [00:04<00:06, 11120.31it/s]\u001b[A\n",
      "Processing footprints:  40%|████████████████████████████████████████████████▎                                                                       | 48246/119814 [00:04<00:06, 11210.77it/s]\u001b[A\n",
      "Processing footprints:  41%|█████████████████████████████████████████████████▌                                                                      | 49428/119814 [00:04<00:06, 11387.61it/s]\u001b[A\n",
      "Processing footprints:  42%|██████████████████████████████████████████████████▋                                                                     | 50568/119814 [00:04<00:06, 11287.44it/s]\u001b[A\n",
      "Processing footprints:  43%|███████████████████████████████████████████████████▊                                                                    | 51711/119814 [00:04<00:06, 11329.41it/s]\u001b[A\n",
      "Processing footprints:  44%|████████████████████████████████████████████████████▉                                                                   | 52879/119814 [00:04<00:05, 11431.83it/s]\u001b[A\n",
      "Processing footprints:  45%|██████████████████████████████████████████████████████                                                                  | 54023/119814 [00:04<00:05, 11394.96it/s]\u001b[A\n",
      "Processing footprints:  46%|███████████████████████████████████████████████████████▎                                                                | 55187/119814 [00:04<00:05, 11466.02it/s]\u001b[A\n",
      "Processing footprints:  47%|████████████████████████████████████████████████████████▍                                                               | 56334/119814 [00:05<00:05, 11156.00it/s]\u001b[A\n",
      "Processing footprints:  48%|█████████████████████████████████████████████████████████▌                                                              | 57455/119814 [00:05<00:05, 11171.62it/s]\u001b[A\n",
      "Processing footprints:  49%|██████████████████████████████████████████████████████████▋                                                             | 58574/119814 [00:05<00:05, 11163.20it/s]\u001b[A\n",
      "Processing footprints:  50%|███████████████████████████████████████████████████████████▊                                                            | 59696/119814 [00:05<00:05, 11179.77it/s]\u001b[A\n",
      "Processing footprints:  51%|████████████████████████████████████████████████████████████▉                                                           | 60842/119814 [00:05<00:05, 11262.60it/s]\u001b[A\n",
      "Processing footprints:  52%|██████████████████████████████████████████████████████████████                                                          | 61999/119814 [00:05<00:05, 11349.85it/s]\u001b[A\n",
      "Processing footprints:  53%|███████████████████████████████████████████████████████████████▎                                                        | 63190/119814 [00:05<00:04, 11516.01it/s]\u001b[A\n",
      "Processing footprints:  54%|████████████████████████████████████████████████████████████████▍                                                       | 64342/119814 [00:05<00:04, 11469.69it/s]\u001b[A\n",
      "Processing footprints:  55%|█████████████████████████████████████████████████████████████████▋                                                      | 65536/119814 [00:05<00:04, 11608.84it/s]\u001b[A\n",
      "Processing footprints:  56%|██████████████████████████████████████████████████████████████████▊                                                     | 66703/119814 [00:05<00:04, 11626.68it/s]\u001b[A\n",
      "Processing footprints:  57%|███████████████████████████████████████████████████████████████████▉                                                    | 67866/119814 [00:06<00:04, 11367.79it/s]\u001b[A\n",
      "Processing footprints:  58%|█████████████████████████████████████████████████████████████████████                                                   | 69005/119814 [00:06<00:04, 11277.15it/s]\u001b[A\n",
      "Processing footprints:  59%|██████████████████████████████████████████████████████████████████████▎                                                 | 70190/119814 [00:06<00:04, 11444.89it/s]\u001b[A\n",
      "Processing footprints:  60%|███████████████████████████████████████████████████████████████████████▍                                                | 71351/119814 [00:06<00:04, 11492.41it/s]\u001b[A\n",
      "Processing footprints:  61%|████████████████████████████████████████████████████████████████████████▌                                               | 72501/119814 [00:06<00:04, 11340.61it/s]\u001b[A\n",
      "Processing footprints:  61%|█████████████████████████████████████████████████████████████████████████▊                                              | 73636/119814 [00:06<00:04, 11199.66it/s]\u001b[A\n",
      "Processing footprints:  62%|██████████████████████████████████████████████████████████████████████████▊                                             | 74757/119814 [00:06<00:04, 11072.80it/s]\u001b[A\n",
      "Processing footprints:  63%|████████████████████████████████████████████████████████████████████████████                                            | 75883/119814 [00:06<00:03, 11124.83it/s]\u001b[A\n",
      "Processing footprints:  64%|█████████████████████████████████████████████████████████████████████████████▏                                          | 77054/119814 [00:06<00:03, 11297.51it/s]\u001b[A\n",
      "Processing footprints:  65%|██████████████████████████████████████████████████████████████████████████████▎                                         | 78191/119814 [00:07<00:03, 11314.57it/s]\u001b[A\n",
      "Processing footprints:  66%|███████████████████████████████████████████████████████████████████████████████▍                                        | 79323/119814 [00:07<00:03, 11067.31it/s]\u001b[A\n",
      "Processing footprints:  67%|████████████████████████████████████████████████████████████████████████████████▌                                       | 80476/119814 [00:07<00:03, 11200.71it/s]\u001b[A\n",
      "Processing footprints:  68%|█████████████████████████████████████████████████████████████████████████████████▋                                      | 81603/119814 [00:07<00:03, 11220.93it/s]\u001b[A\n",
      "Processing footprints:  69%|██████████████████████████████████████████████████████████████████████████████████▊                                     | 82744/119814 [00:07<00:03, 11275.57it/s]\u001b[A\n",
      "Processing footprints:  70%|████████████████████████████████████████████████████████████████████████████████████                                    | 83873/119814 [00:07<00:03, 11088.58it/s]\u001b[A\n",
      "Processing footprints:  71%|█████████████████████████████████████████████████████████████████████████████████████                                   | 84983/119814 [00:07<00:03, 11012.62it/s]\u001b[A\n",
      "Processing footprints:  72%|██████████████████████████████████████████████████████████████████████████████████████▏                                 | 86086/119814 [00:07<00:03, 10991.28it/s]\u001b[A\n",
      "Processing footprints:  73%|███████████████████████████████████████████████████████████████████████████████████████▎                                | 87205/119814 [00:07<00:02, 11048.94it/s]\u001b[A\n",
      "Processing footprints:  74%|████████████████████████████████████████████████████████████████████████████████████████▍                               | 88347/119814 [00:07<00:02, 11158.80it/s]\u001b[A\n",
      "Processing footprints:  75%|█████████████████████████████████████████████████████████████████████████████████████████▌                              | 89464/119814 [00:08<00:02, 11066.48it/s]\u001b[A\n",
      "Processing footprints:  76%|██████████████████████████████████████████████████████████████████████████████████████████▋                             | 90595/119814 [00:08<00:02, 11137.18it/s]\u001b[A\n",
      "Processing footprints:  77%|███████████████████████████████████████████████████████████████████████████████████████████▊                            | 91710/119814 [00:08<00:02, 11095.53it/s]\u001b[A\n",
      "Processing footprints:  77%|████████████████████████████████████████████████████████████████████████████████████████████▉                           | 92820/119814 [00:08<00:02, 11054.89it/s]\u001b[A\n",
      "Processing footprints:  78%|██████████████████████████████████████████████████████████████████████████████████████████████                          | 93926/119814 [00:08<00:02, 10916.62it/s]\u001b[A\n",
      "Processing footprints:  79%|███████████████████████████████████████████████████████████████████████████████████████████████▏                        | 95019/119814 [00:08<00:02, 10836.19it/s]\u001b[A\n",
      "Processing footprints:  80%|████████████████████████████████████████████████████████████████████████████████████████████████▎                       | 96103/119814 [00:08<00:02, 10767.48it/s]\u001b[A\n",
      "Processing footprints:  81%|█████████████████████████████████████████████████████████████████████████████████████████████████▎                      | 97193/119814 [00:08<00:02, 10805.01it/s]\u001b[A\n",
      "Processing footprints:  82%|██████████████████████████████████████████████████████████████████████████████████████████████████▍                     | 98274/119814 [00:08<00:02, 10666.55it/s]\u001b[A\n",
      "Processing footprints:  83%|███████████████████████████████████████████████████████████████████████████████████████████████████▍                    | 99342/119814 [00:08<00:01, 10612.14it/s]\u001b[A\n",
      "Processing footprints:  84%|███████████████████████████████████████████████████████████████████████████████████████████████████▋                   | 100412/119814 [00:09<00:01, 10636.94it/s]\u001b[A\n",
      "Processing footprints:  85%|████████████████████████████████████████████████████████████████████████████████████████████████████▊                  | 101508/119814 [00:09<00:01, 10731.63it/s]\u001b[A\n",
      "Processing footprints:  86%|█████████████████████████████████████████████████████████████████████████████████████████████████████▉                 | 102645/119814 [00:09<00:01, 10918.84it/s]\u001b[A\n",
      "Processing footprints:  87%|███████████████████████████████████████████████████████████████████████████████████████████████████████                | 103800/119814 [00:09<00:01, 11104.55it/s]\u001b[A\n",
      "Processing footprints:  88%|████████████████████████████████████████████████████████████████████████████████████████████████████████▏              | 104950/119814 [00:09<00:01, 11221.87it/s]\u001b[A\n",
      "Processing footprints:  89%|█████████████████████████████████████████████████████████████████████████████████████████████████████████▍             | 106101/119814 [00:09<00:01, 11307.92it/s]\u001b[A\n",
      "Processing footprints:  89%|██████████████████████████████████████████████████████████████████████████████████████████████████████████▌            | 107233/119814 [00:09<00:01, 11129.79it/s]\u001b[A\n",
      "Processing footprints:  90%|███████████████████████████████████████████████████████████████████████████████████████████████████████████▌           | 108347/119814 [00:09<00:01, 11099.60it/s]\u001b[A\n",
      "Processing footprints:  91%|████████████████████████████████████████████████████████████████████████████████████████████████████████████▋          | 109458/119814 [00:09<00:00, 11081.94it/s]\u001b[A\n",
      "Processing footprints:  92%|█████████████████████████████████████████████████████████████████████████████████████████████████████████████▊         | 110567/119814 [00:09<00:00, 10992.41it/s]\u001b[A\n",
      "Processing footprints:  93%|██████████████████████████████████████████████████████████████████████████████████████████████████████████████▉        | 111705/119814 [00:10<00:00, 11104.69it/s]\u001b[A\n",
      "Processing footprints:  94%|████████████████████████████████████████████████████████████████████████████████████████████████████████████████       | 112890/119814 [00:10<00:00, 11325.35it/s]\u001b[A\n",
      "Processing footprints:  95%|█████████████████████████████████████████████████████████████████████████████████████████████████████████████████▏     | 114023/119814 [00:10<00:00, 11277.56it/s]\u001b[A\n",
      "Processing footprints:  96%|██████████████████████████████████████████████████████████████████████████████████████████████████████████████████▍    | 115173/119814 [00:10<00:00, 11343.67it/s]\u001b[A\n",
      "Processing footprints:  97%|███████████████████████████████████████████████████████████████████████████████████████████████████████████████████▌   | 116308/119814 [00:10<00:00, 11207.98it/s]\u001b[A\n",
      "Processing footprints:  98%|████████████████████████████████████████████████████████████████████████████████████████████████████████████████████▋  | 117430/119814 [00:10<00:00, 11038.62it/s]\u001b[A\n",
      "Processing footprints:  99%|█████████████████████████████████████████████████████████████████████████████████████████████████████████████████████▋ | 118535/119814 [00:10<00:00, 10921.18it/s]\u001b[A\n",
      "Processing footprints: 100%|███████████████████████████████████████████████████████████████████████████████████████████████████████████████████████| 119814/119814 [00:10<00:00, 11101.49it/s]\u001b[A\n",
      "Processing quadkeys: 100%|██████████████████████████████████████████████████████████████████████████████████████████████████████████████████████████████████████| 2/2 [00:17<00:00,  8.67s/it]\n"
     ]
    },
    {
     "name": "stdout",
     "output_type": "stream",
     "text": [
      "\n",
      "Found a total of 34913 building footprints in Lake Charles\n"
     ]
    },
    {
     "name": "stderr",
     "output_type": "stream",
     "text": [
      "INFO:brails.scrapers.google_streetview.google_streetview:\n",
      "Images will be saved to: /home/bacetiner/Documents/BrailsPlusPlus/examples/image_processor/tmp/street\n",
      "\n",
      "Obtaining street-level imagery:   0%|                                                                                                                                 | 0/100 [00:00<?, ?it/s]INFO:brails.scrapers.google_streetview.google_streetview:No street-level imagery found for the building located at 30.1736, -93.2530\n",
      "Obtaining street-level imagery:   1%|█▏                                                                                                                       | 1/100 [00:00<00:10,  9.84it/s]INFO:brails.scrapers.google_streetview.google_streetview:No street-level imagery found for the building located at 30.1640, -93.2614\n",
      "INFO:brails.scrapers.google_streetview.google_streetview:No street-level imagery found for the building located at 30.1645, -93.2106\n",
      "Obtaining street-level imagery:  30%|████████████████████████████████████                                                                                    | 30/100 [00:03<00:08,  8.51it/s]INFO:brails.scrapers.google_streetview.google_streetview:No street-level imagery found for the building located at 30.1851, -93.1746\n",
      "INFO:brails.scrapers.google_streetview.google_streetview:No street-level imagery found for the building located at 30.1647, -93.2612\n",
      "Obtaining street-level imagery:  77%|████████████████████████████████████████████████████████████████████████████████████████████▍                           | 77/100 [00:07<00:01, 12.96it/s]INFO:brails.scrapers.google_streetview.google_streetview:No street-level imagery found for the building located at 30.1848, -93.2066\n",
      "Obtaining street-level imagery: 100%|███████████████████████████████████████████████████████████████████████████████████████████████████████████████████████| 100/100 [00:10<00:00,  9.97it/s]\n"
     ]
    }
   ],
   "source": [
    "# Select a region and create its RegionBoundary:\n",
    "importer = Importer()\n",
    "\n",
    "region_data = {\"type\": \"locationName\",\n",
    "               \"data\": \"Lake Charles, Louisiana\"}\n",
    "region_boundary_class = importer.get_class(\"RegionBoundary\")\n",
    "region_boundary_object = region_boundary_class(region_data)\n",
    "\n",
    "ms_fp_class = importer.get_class(\"MS_FootprintScraper\")\n",
    "ms_fp_data = {\"length\": \"ft\"}\n",
    "footprint_scraper = ms_fp_class(ms_fp_data)\n",
    "lake_charles_fp = footprint_scraper.get_footprints(region_boundary_object)\n",
    "\n",
    "# Subsample from the extracted assets to keep the image downloading step quick.\n",
    "# Here, we are randomly sampling 20 buildings using a random seed value of 40:\n",
    "lake_charles_fp_subset = lake_charles_fp.get_random_sample(100, 40)\n",
    "\n",
    "# Get aerial imagery for the selected subset using GoogleSatellite:\n",
    "google_street_class = importer.get_class(\"GoogleStreetview\")\n",
    "google_street = google_street_class({'apiKey': API_KEY})\n",
    "images_street = google_street.get_images(\n",
    "    lake_charles_fp_subset, \"tmp/street/\")"
   ]
  },
  {
   "cell_type": "markdown",
   "metadata": {
    "id": "-Ce9IL05AMqD"
   },
   "source": [
    "## **Predict Building Construction Eras Using the YearBuiltClassifier Module**\n",
    "`YearBuiltClassifier` includes a pre-trained ResNet-50 model that has been trained on a custom dataset of 10,000 images. This model is capable of predicting six eras of construction 1) Pre-1970, 2) 1970 - 1979, 3) 1980 - 1989, 4) 1990 - 1999, 5) 2000 - 2009, and 6) Post-2010, denoted with `1960`, `1975`, `1985`, `1995`, `2005`, and `2015` respectively."
   ]
  },
  {
   "cell_type": "code",
   "execution_count": 5,
   "metadata": {
    "id": "XWG53_xtFa_F"
   },
   "outputs": [
    {
     "name": "stdout",
     "output_type": "stream",
     "text": [
      "Default model checkpoint found at tmp/models.\n",
      "Performing construction era classifications...\n"
     ]
    },
    {
     "name": "stderr",
     "output_type": "stream",
     "text": [
      "/home/bacetiner/anaconda3/envs/brails_plus/lib/python3.11/site-packages/brails/processors/year_built_classifier/year_built_classifier.py:161: FutureWarning: You are using `torch.load` with `weights_only=False` (the current default value), which uses the default pickle module implicitly. It is possible to construct malicious pickle data which will execute arbitrary code during unpickling (See https://github.com/pytorch/pytorch/blob/main/SECURITY.md#untrusted-models for more details). In a future release, the default value for `weights_only` will be flipped to `True`. This limits the functions that could be executed during unpickling. Arbitrary objects will no longer be allowed to be loaded via this mode unless they are explicitly allowlisted by the user via `torch.serialization.add_safe_globals`. We recommend you start setting `weights_only=True` for any use case where you don't have full control of the loaded file. Please open an issue on GitHub for any issues related to this experimental feature.\n",
      "  self.model = torch.load(self.model_file)\n",
      "/home/bacetiner/anaconda3/envs/brails_plus/lib/python3.11/site-packages/torch/nn/modules/module.py:1553: UserWarning: Implicit dimension choice for softmax has been deprecated. Change the call to include dim=X as an argument.\n",
      "  return self._call_impl(*args, **kwargs)\n",
      "100%|█████████████████████████████████████████████████████████████████████████████████████████████████████████████████████████████████████████████████████| 94/94 [00:00<00:00, 816282.77it/s]\n"
     ]
    }
   ],
   "source": [
    "importer = Importer()\n",
    "consyear_classifier_class = importer.get_class('YearBuiltClassifier')\n",
    "consyear_classifier = consyear_classifier_class()\n",
    "predictions = consyear_classifier.predict(images_street)"
   ]
  },
  {
   "cell_type": "markdown",
   "metadata": {
    "id": "oKSebGtqGEb_"
   },
   "source": [
    "## **Show Prediction Results**"
   ]
  },
  {
   "cell_type": "code",
   "execution_count": 6,
   "metadata": {
    "id": "dNLUWp3IEq74"
   },
   "outputs": [
    {
     "name": "stdout",
     "output_type": "stream",
     "text": [
      "{20375: 1985, 20693: 1985, 21302: 1960, 30055: 1960, 6394: 1960, 30265: 1975, 18509: 1985, 13958: 1960, 28404: 1960, 18679: 1975, 13522: 1960, 15759: 1985, 9490: 1960, 31406: 1960, 8511: 1960, 29733: 1985, 28201: 1985, 25223: 1975, 22832: 1975, 34339: 1960, 16075: 1985, 3216: 1975, 3646: 1960, 34104: 1960, 10656: 2005, 16563: 1960, 6015: 1960, 3484: 1960, 10353: 1960, 11324: 1985, 7445: 1975, 6506: 1960, 33838: 1960, 15481: 2005, 7070: 1960, 12232: 1985, 9743: 1985, 30234: 1960, 13792: 1960, 10698: 1960, 14587: 1975, 33623: 1960, 33555: 1960, 16414: 1960, 34040: 1960, 22015: 1960, 13237: 1995, 1876: 1960, 14881: 1960, 19872: 1960, 16329: 1960, 29699: 1960, 15787: 1995, 33172: 1960, 13433: 1960, 30190: 1960, 2433: 1960, 3886: 1960, 11193: 1960, 32243: 1960, 12525: 1960, 11570: 1960, 18161: 1960, 15854: 1960, 12245: 1960, 20233: 1985, 28855: 1960, 10459: 1960, 20299: 1960, 27471: 1960, 19096: 1960, 20526: 1975, 10080: 1960, 34300: 1960, 20006: 1960, 7357: 1960, 30893: 1985, 27401: 1960, 2087: 1960, 21743: 1960, 4220: 1960, 12694: 1960, 27263: 1960, 1265: 1960, 4576: 1960, 22109: 1960, 16189: 1960, 20329: 1960, 26698: 1960, 3769: 1960, 586: 1960, 12429: 1975, 11226: 1960, 29256: 1960}\n"
     ]
    }
   ],
   "source": [
    "print(predictions)"
   ]
  }
 ],
 "metadata": {
  "colab": {
   "authorship_tag": "ABX9TyPD5kIUNSmC7PH87RZernWS",
   "include_colab_link": true,
   "provenance": []
  },
  "kernelspec": {
   "display_name": "Python 3 (ipykernel)",
   "language": "python",
   "name": "python3"
  },
  "language_info": {
   "codemirror_mode": {
    "name": "ipython",
    "version": 3
   },
   "file_extension": ".py",
   "mimetype": "text/x-python",
   "name": "python",
   "nbconvert_exporter": "python",
   "pygments_lexer": "ipython3",
   "version": "3.11.10"
  }
 },
 "nbformat": 4,
 "nbformat_minor": 4
}
