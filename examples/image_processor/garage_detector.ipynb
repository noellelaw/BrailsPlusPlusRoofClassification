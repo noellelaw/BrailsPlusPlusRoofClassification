{
 "cells": [
  {
   "cell_type": "markdown",
   "metadata": {
    "colab_type": "text",
    "id": "view-in-github"
   },
   "source": [
    "<span style=\"display: inline-block; margin-right: 10px; vertical-align: middle; border: 1px solid #F8F8F8; border-radius: 8px; padding: 5px; background-color: #F8F8F8;\">\n",
    "    <a href=\"https://www.designsafe-ci.org/workspace/jupyter-lab-hpc-cuda-ds?appVersion=1.1.1\" target=\"_parent\" style=\"text-decoration: none;\">\n",
    "        <span style=\"font-family: Helvetica, sans-serif; font-size: 13px; color: #565656; margin-right: 5px; vertical-align: middle; font-weight: 600;\">Open in</span>\n",
    "        <img src=\"https://www.designsafe-ci.org/media/filer_public/2d/d3/2dd37fbf-289e-49cf-9c1a-879c864c4e17/nsf_nheri-ds.png\" alt=\"Open in DesignSafe\" style=\"width: 100px; height: auto; vertical-align: middle;\">\n",
    "    </a>\n",
    "</span>\n",
    "\n",
    "<span style=\"display: inline-block; margin-right: 10px; vertical-align: middle;\">\n",
    "    <a href=\"https://colab.research.google.com/github/NHERI-SimCenter/BrailsPlusPlus/blob/master/examples/image_processor/garage_detector.ipynb\" target=\"_parent\">\n",
    "        <img src=\"https://colab.research.google.com/assets/colab-badge.svg\" alt=\"Open In Colab\" style=\"width: 130px; height: auto; vertical-align: middle;\"/>\n",
    "    </a>\n",
    "</span>\n",
    "\n",
    "<span style=\"display: inline-block; vertical-align: middle; margin-top: 6px;\">\n",
    "    <a target=\"_blank\" href=\"https://lightning.ai/new?repo_url=https%3A//github.com/NHERI-SimCenter/BrailsPlusPlus/blob/master/examples/image_processor/garage_detector.ipynb\">\n",
    "        <img src=\"https://pl-bolts-doc-images.s3.us-east-2.amazonaws.com/app-2/studio-badge.svg\" alt=\"Open in Studio\" style=\"width: 120px; height: auto; vertical-align: middle;\"/>\n",
    "    </a>\n",
    "</span>"
   ]
  },
  {
   "cell_type": "markdown",
   "metadata": {
    "id": "aFu-PB0j9_-s"
   },
   "source": [
    "## **Install BRAILS++**\n",
    "BRAILS++ is not yet available on PyPi. The following line installs the latest version from the GitHub repository using `pip`."
   ]
  },
  {
   "cell_type": "code",
   "execution_count": 1,
   "metadata": {
    "colab": {
     "base_uri": "https://localhost:8080/"
    },
    "id": "KkujirTi9oZu",
    "outputId": "56ef57fa-739d-4cea-f16f-06768c53133a"
   },
   "outputs": [
    {
     "name": "stdout",
     "output_type": "stream",
     "text": [
      "Collecting git+https://github.com/bacetiner/BrailsPlusPlus\n",
      "  Cloning https://github.com/bacetiner/BrailsPlusPlus to /tmp/pip-req-build-0bfpjwiw\n",
      "  Running command git clone --filter=blob:none --quiet https://github.com/bacetiner/BrailsPlusPlus /tmp/pip-req-build-0bfpjwiw\n",
      "  Resolved https://github.com/bacetiner/BrailsPlusPlus to commit 7280af6926637fda5cb802c8e2adb3b14558012a\n",
      "  Preparing metadata (setup.py) ... \u001b[?25ldone\n",
      "\u001b[?25hRequirement already satisfied: addict in /home/bacetiner/anaconda3/envs/brails_plus/lib/python3.11/site-packages (from brails==4.0) (2.4.0)\n",
      "Requirement already satisfied: Cython in /home/bacetiner/anaconda3/envs/brails_plus/lib/python3.11/site-packages (from brails==4.0) (3.0.11)\n",
      "Requirement already satisfied: ftfy in /home/bacetiner/anaconda3/envs/brails_plus/lib/python3.11/site-packages (from brails==4.0) (6.2.3)\n",
      "Requirement already satisfied: matplotlib in /home/bacetiner/anaconda3/envs/brails_plus/lib/python3.11/site-packages (from brails==4.0) (3.9.2)\n",
      "Requirement already satisfied: pillow in /home/bacetiner/anaconda3/envs/brails_plus/lib/python3.11/site-packages (from brails==4.0) (10.4.0)\n",
      "Requirement already satisfied: plotly in /home/bacetiner/anaconda3/envs/brails_plus/lib/python3.11/site-packages (from brails==4.0) (5.24.1)\n",
      "Requirement already satisfied: pycocotools in /home/bacetiner/anaconda3/envs/brails_plus/lib/python3.11/site-packages (from brails==4.0) (2.0.8)\n",
      "Requirement already satisfied: requests in /home/bacetiner/anaconda3/envs/brails_plus/lib/python3.11/site-packages (from brails==4.0) (2.32.3)\n",
      "Requirement already satisfied: seaborn in /home/bacetiner/anaconda3/envs/brails_plus/lib/python3.11/site-packages (from brails==4.0) (0.13.2)\n",
      "Requirement already satisfied: shapely in /home/bacetiner/anaconda3/envs/brails_plus/lib/python3.11/site-packages (from brails==4.0) (2.0.6)\n",
      "Requirement already satisfied: supervision in /home/bacetiner/anaconda3/envs/brails_plus/lib/python3.11/site-packages (from brails==4.0) (0.24.0)\n",
      "Requirement already satisfied: timm in /home/bacetiner/anaconda3/envs/brails_plus/lib/python3.11/site-packages (from brails==4.0) (1.0.9)\n",
      "Requirement already satisfied: tensorboard in /home/bacetiner/anaconda3/envs/brails_plus/lib/python3.11/site-packages (from brails==4.0) (2.18.0)\n",
      "Requirement already satisfied: tensorboardX in /home/bacetiner/anaconda3/envs/brails_plus/lib/python3.11/site-packages (from brails==4.0) (2.6.2.2)\n",
      "Requirement already satisfied: torch in /home/bacetiner/anaconda3/envs/brails_plus/lib/python3.11/site-packages (from brails==4.0) (2.4.1)\n",
      "Requirement already satisfied: torchvision in /home/bacetiner/anaconda3/envs/brails_plus/lib/python3.11/site-packages (from brails==4.0) (0.19.1)\n",
      "Requirement already satisfied: transformers in /home/bacetiner/anaconda3/envs/brails_plus/lib/python3.11/site-packages (from brails==4.0) (4.45.2)\n",
      "Requirement already satisfied: typing in /home/bacetiner/anaconda3/envs/brails_plus/lib/python3.11/site-packages (from brails==4.0) (3.7.4.3)\n",
      "Requirement already satisfied: wget in /home/bacetiner/anaconda3/envs/brails_plus/lib/python3.11/site-packages (from brails==4.0) (3.2)\n",
      "Requirement already satisfied: yapf in /home/bacetiner/anaconda3/envs/brails_plus/lib/python3.11/site-packages (from brails==4.0) (0.40.2)\n",
      "Requirement already satisfied: webcolors in /home/bacetiner/anaconda3/envs/brails_plus/lib/python3.11/site-packages (from brails==4.0) (24.8.0)\n",
      "Requirement already satisfied: opencv-python in /home/bacetiner/anaconda3/envs/brails_plus/lib/python3.11/site-packages (from brails==4.0) (4.10.0.84)\n",
      "Requirement already satisfied: pandas in /home/bacetiner/anaconda3/envs/brails_plus/lib/python3.11/site-packages (from brails==4.0) (2.2.3)\n",
      "Requirement already satisfied: wcwidth<0.3.0,>=0.2.12 in /home/bacetiner/anaconda3/envs/brails_plus/lib/python3.11/site-packages (from ftfy->brails==4.0) (0.2.13)\n",
      "Requirement already satisfied: contourpy>=1.0.1 in /home/bacetiner/anaconda3/envs/brails_plus/lib/python3.11/site-packages (from matplotlib->brails==4.0) (1.3.0)\n",
      "Requirement already satisfied: cycler>=0.10 in /home/bacetiner/anaconda3/envs/brails_plus/lib/python3.11/site-packages (from matplotlib->brails==4.0) (0.12.1)\n",
      "Requirement already satisfied: fonttools>=4.22.0 in /home/bacetiner/anaconda3/envs/brails_plus/lib/python3.11/site-packages (from matplotlib->brails==4.0) (4.54.1)\n",
      "Requirement already satisfied: kiwisolver>=1.3.1 in /home/bacetiner/anaconda3/envs/brails_plus/lib/python3.11/site-packages (from matplotlib->brails==4.0) (1.4.7)\n",
      "Requirement already satisfied: numpy>=1.23 in /home/bacetiner/anaconda3/envs/brails_plus/lib/python3.11/site-packages (from matplotlib->brails==4.0) (2.1.2)\n",
      "Requirement already satisfied: packaging>=20.0 in /home/bacetiner/anaconda3/envs/brails_plus/lib/python3.11/site-packages (from matplotlib->brails==4.0) (24.1)\n",
      "Requirement already satisfied: pyparsing>=2.3.1 in /home/bacetiner/anaconda3/envs/brails_plus/lib/python3.11/site-packages (from matplotlib->brails==4.0) (3.1.4)\n",
      "Requirement already satisfied: python-dateutil>=2.7 in /home/bacetiner/anaconda3/envs/brails_plus/lib/python3.11/site-packages (from matplotlib->brails==4.0) (2.9.0.post0)\n",
      "Requirement already satisfied: pytz>=2020.1 in /home/bacetiner/anaconda3/envs/brails_plus/lib/python3.11/site-packages (from pandas->brails==4.0) (2024.2)\n",
      "Requirement already satisfied: tzdata>=2022.7 in /home/bacetiner/anaconda3/envs/brails_plus/lib/python3.11/site-packages (from pandas->brails==4.0) (2024.2)\n",
      "Requirement already satisfied: tenacity>=6.2.0 in /home/bacetiner/anaconda3/envs/brails_plus/lib/python3.11/site-packages (from plotly->brails==4.0) (9.0.0)\n",
      "Requirement already satisfied: charset-normalizer<4,>=2 in /home/bacetiner/anaconda3/envs/brails_plus/lib/python3.11/site-packages (from requests->brails==4.0) (3.3.2)\n",
      "Requirement already satisfied: idna<4,>=2.5 in /home/bacetiner/anaconda3/envs/brails_plus/lib/python3.11/site-packages (from requests->brails==4.0) (3.7)\n",
      "Requirement already satisfied: urllib3<3,>=1.21.1 in /home/bacetiner/anaconda3/envs/brails_plus/lib/python3.11/site-packages (from requests->brails==4.0) (2.2.3)\n",
      "Requirement already satisfied: certifi>=2017.4.17 in /home/bacetiner/anaconda3/envs/brails_plus/lib/python3.11/site-packages (from requests->brails==4.0) (2024.8.30)\n",
      "Requirement already satisfied: defusedxml<0.8.0,>=0.7.1 in /home/bacetiner/anaconda3/envs/brails_plus/lib/python3.11/site-packages (from supervision->brails==4.0) (0.7.1)\n",
      "Requirement already satisfied: pyyaml>=5.3 in /home/bacetiner/anaconda3/envs/brails_plus/lib/python3.11/site-packages (from supervision->brails==4.0) (6.0.2)\n",
      "Requirement already satisfied: scipy<2.0.0,>=1.10.0 in /home/bacetiner/anaconda3/envs/brails_plus/lib/python3.11/site-packages (from supervision->brails==4.0) (1.14.1)\n",
      "Requirement already satisfied: absl-py>=0.4 in /home/bacetiner/anaconda3/envs/brails_plus/lib/python3.11/site-packages (from tensorboard->brails==4.0) (2.1.0)\n",
      "Requirement already satisfied: grpcio>=1.48.2 in /home/bacetiner/anaconda3/envs/brails_plus/lib/python3.11/site-packages (from tensorboard->brails==4.0) (1.67.1)\n",
      "Requirement already satisfied: markdown>=2.6.8 in /home/bacetiner/anaconda3/envs/brails_plus/lib/python3.11/site-packages (from tensorboard->brails==4.0) (3.7)\n",
      "Requirement already satisfied: protobuf!=4.24.0,>=3.19.6 in /home/bacetiner/anaconda3/envs/brails_plus/lib/python3.11/site-packages (from tensorboard->brails==4.0) (5.28.3)\n",
      "Requirement already satisfied: setuptools>=41.0.0 in /home/bacetiner/anaconda3/envs/brails_plus/lib/python3.11/site-packages (from tensorboard->brails==4.0) (75.1.0)\n",
      "Requirement already satisfied: six>1.9 in /home/bacetiner/anaconda3/envs/brails_plus/lib/python3.11/site-packages (from tensorboard->brails==4.0) (1.16.0)\n",
      "Requirement already satisfied: tensorboard-data-server<0.8.0,>=0.7.0 in /home/bacetiner/anaconda3/envs/brails_plus/lib/python3.11/site-packages (from tensorboard->brails==4.0) (0.7.2)\n",
      "Requirement already satisfied: werkzeug>=1.0.1 in /home/bacetiner/anaconda3/envs/brails_plus/lib/python3.11/site-packages (from tensorboard->brails==4.0) (3.1.3)\n",
      "Requirement already satisfied: huggingface_hub in /home/bacetiner/anaconda3/envs/brails_plus/lib/python3.11/site-packages (from timm->brails==4.0) (0.25.2)\n",
      "Requirement already satisfied: safetensors in /home/bacetiner/anaconda3/envs/brails_plus/lib/python3.11/site-packages (from timm->brails==4.0) (0.4.5)\n",
      "Requirement already satisfied: filelock in /home/bacetiner/anaconda3/envs/brails_plus/lib/python3.11/site-packages (from torch->brails==4.0) (3.16.1)\n",
      "Requirement already satisfied: typing-extensions>=4.8.0 in /home/bacetiner/anaconda3/envs/brails_plus/lib/python3.11/site-packages (from torch->brails==4.0) (4.12.2)\n",
      "Requirement already satisfied: sympy in /home/bacetiner/anaconda3/envs/brails_plus/lib/python3.11/site-packages (from torch->brails==4.0) (1.13.3)\n",
      "Requirement already satisfied: networkx in /home/bacetiner/anaconda3/envs/brails_plus/lib/python3.11/site-packages (from torch->brails==4.0) (3.3)\n",
      "Requirement already satisfied: jinja2 in /home/bacetiner/anaconda3/envs/brails_plus/lib/python3.11/site-packages (from torch->brails==4.0) (3.1.4)\n",
      "Requirement already satisfied: fsspec in /home/bacetiner/anaconda3/envs/brails_plus/lib/python3.11/site-packages (from torch->brails==4.0) (2024.9.0)\n",
      "Requirement already satisfied: nvidia-cuda-nvrtc-cu12==12.1.105 in /home/bacetiner/anaconda3/envs/brails_plus/lib/python3.11/site-packages (from torch->brails==4.0) (12.1.105)\n",
      "Requirement already satisfied: nvidia-cuda-runtime-cu12==12.1.105 in /home/bacetiner/anaconda3/envs/brails_plus/lib/python3.11/site-packages (from torch->brails==4.0) (12.1.105)\n",
      "Requirement already satisfied: nvidia-cuda-cupti-cu12==12.1.105 in /home/bacetiner/anaconda3/envs/brails_plus/lib/python3.11/site-packages (from torch->brails==4.0) (12.1.105)\n",
      "Requirement already satisfied: nvidia-cudnn-cu12==9.1.0.70 in /home/bacetiner/anaconda3/envs/brails_plus/lib/python3.11/site-packages (from torch->brails==4.0) (9.1.0.70)\n",
      "Requirement already satisfied: nvidia-cublas-cu12==12.1.3.1 in /home/bacetiner/anaconda3/envs/brails_plus/lib/python3.11/site-packages (from torch->brails==4.0) (12.1.3.1)\n",
      "Requirement already satisfied: nvidia-cufft-cu12==11.0.2.54 in /home/bacetiner/anaconda3/envs/brails_plus/lib/python3.11/site-packages (from torch->brails==4.0) (11.0.2.54)\n",
      "Requirement already satisfied: nvidia-curand-cu12==10.3.2.106 in /home/bacetiner/anaconda3/envs/brails_plus/lib/python3.11/site-packages (from torch->brails==4.0) (10.3.2.106)\n",
      "Requirement already satisfied: nvidia-cusolver-cu12==11.4.5.107 in /home/bacetiner/anaconda3/envs/brails_plus/lib/python3.11/site-packages (from torch->brails==4.0) (11.4.5.107)\n",
      "Requirement already satisfied: nvidia-cusparse-cu12==12.1.0.106 in /home/bacetiner/anaconda3/envs/brails_plus/lib/python3.11/site-packages (from torch->brails==4.0) (12.1.0.106)\n",
      "Requirement already satisfied: nvidia-nccl-cu12==2.20.5 in /home/bacetiner/anaconda3/envs/brails_plus/lib/python3.11/site-packages (from torch->brails==4.0) (2.20.5)\n",
      "Requirement already satisfied: nvidia-nvtx-cu12==12.1.105 in /home/bacetiner/anaconda3/envs/brails_plus/lib/python3.11/site-packages (from torch->brails==4.0) (12.1.105)\n",
      "Requirement already satisfied: triton==3.0.0 in /home/bacetiner/anaconda3/envs/brails_plus/lib/python3.11/site-packages (from torch->brails==4.0) (3.0.0)\n",
      "Requirement already satisfied: nvidia-nvjitlink-cu12 in /home/bacetiner/anaconda3/envs/brails_plus/lib/python3.11/site-packages (from nvidia-cusolver-cu12==11.4.5.107->torch->brails==4.0) (12.6.77)\n",
      "Requirement already satisfied: regex!=2019.12.17 in /home/bacetiner/anaconda3/envs/brails_plus/lib/python3.11/site-packages (from transformers->brails==4.0) (2024.9.11)\n",
      "Requirement already satisfied: tokenizers<0.21,>=0.20 in /home/bacetiner/anaconda3/envs/brails_plus/lib/python3.11/site-packages (from transformers->brails==4.0) (0.20.1)\n",
      "Requirement already satisfied: tqdm>=4.27 in /home/bacetiner/anaconda3/envs/brails_plus/lib/python3.11/site-packages (from transformers->brails==4.0) (4.66.5)\n",
      "Requirement already satisfied: importlib-metadata>=6.6.0 in /home/bacetiner/anaconda3/envs/brails_plus/lib/python3.11/site-packages (from yapf->brails==4.0) (7.0.1)\n",
      "Requirement already satisfied: platformdirs>=3.5.1 in /home/bacetiner/anaconda3/envs/brails_plus/lib/python3.11/site-packages (from yapf->brails==4.0) (4.3.6)\n",
      "Requirement already satisfied: tomli>=2.0.1 in /home/bacetiner/anaconda3/envs/brails_plus/lib/python3.11/site-packages (from yapf->brails==4.0) (2.0.1)\n",
      "Requirement already satisfied: zipp>=0.5 in /home/bacetiner/anaconda3/envs/brails_plus/lib/python3.11/site-packages (from importlib-metadata>=6.6.0->yapf->brails==4.0) (3.20.2)\n",
      "Requirement already satisfied: MarkupSafe>=2.1.1 in /home/bacetiner/anaconda3/envs/brails_plus/lib/python3.11/site-packages (from werkzeug>=1.0.1->tensorboard->brails==4.0) (3.0.1)\n",
      "Requirement already satisfied: mpmath<1.4,>=1.1.0 in /home/bacetiner/anaconda3/envs/brails_plus/lib/python3.11/site-packages (from sympy->torch->brails==4.0) (1.3.0)\n",
      "Building wheels for collected packages: brails\n",
      "  Building wheel for brails (setup.py) ... \u001b[?25ldone\n",
      "\u001b[?25h  Created wheel for brails: filename=brails-4.0-py3-none-any.whl size=2008520 sha256=17532d90a4e1d348444b199de0a672b41550eef630fc244d91fc08d6ca15cea8\n",
      "  Stored in directory: /tmp/pip-ephem-wheel-cache-xda4kwtz/wheels/65/0b/aa/a9113e0557b48ca6dfe52e54ff2df5af4aa9945a3736b53797\n",
      "Successfully built brails\n",
      "Installing collected packages: brails\n",
      "Successfully installed brails-4.0\n"
     ]
    }
   ],
   "source": [
    "!pip install git+https://github.com/NHERI-SimCenter/BrailsPlusPlus"
   ]
  },
  {
   "cell_type": "markdown",
   "metadata": {
    "id": "sqCVhpcm-ePA"
   },
   "source": [
    "## **Import ImageSet and Importer Methods of BRAILS++**\n",
    "BRAILS++ offers various Artificial Intelligence-powered modules for predicting building and infrastructure attributes from images, such as the `GarageDetector` demonstrated in this example.\n",
    "\n",
    "The `Importer` class provides the main methods to load these modules. To gather the images needed for attribute prediction, users can use the ImageSet class or BRAILS++ scrapers, which facilitate automated asset geometry and image retrieval. This example illustrates both methods for sourcing imagery for use with the `GarageDetector` module."
   ]
  },
  {
   "cell_type": "code",
   "execution_count": 2,
   "metadata": {
    "id": "hKRsVFR4-M1b"
   },
   "outputs": [],
   "source": [
    "from brails.types.image_set import ImageSet\n",
    "from brails import Importer"
   ]
  },
  {
   "cell_type": "markdown",
   "metadata": {},
   "source": [
    "## **Define Google API Key**\n",
    "You need a Google API Key with Street View Static API enabled to download the Google Street View imagery required for this example. Please follow this [link](https://support.google.com/googleapi/answer/6158862?hl=en) for instructions on setting up a Google API key."
   ]
  },
  {
   "cell_type": "code",
   "execution_count": 3,
   "metadata": {},
   "outputs": [],
   "source": [
    "API_KEY = 'YOUR-API-KEY-HERE'"
   ]
  },
  {
   "cell_type": "markdown",
   "metadata": {
    "id": "WWtc71tt-rbt"
   },
   "source": [
    "## **Load Street-Level Imagery: (Option 1) Download Imagery by Specifying the Region Name**\n",
    "The `GarageDetector` class is created to identify the existence of garages in buildings from street-level imagery. In this option, BRAILS++ retrieves the required imagery by following the steps below.\n",
    "1. <strong>Call the `RegionBoundary` class with the necessary details to specify the region of interest.</strong> In this example, street-level imagery of buildings in Atlantic County, NJ, are downloaded. Therefore, the required information includes the `type` of information provided and the `data` itself, which are the `locationName` and `Atlantic County, NJ`.\n",
    "\n",
    "2. <strong>Download the footprint inventory for the `RegionBoundary` saved in `region_boundary_object` by downloading the OpenStreetMap footprint data through the `USA_FootprintScraper`.</strong> The only information required to initialize `USA_FootprintScraper` is the desired output unit for `length`, which, in this case, is `ft`. The output of `USA_FootprintScraper` is an `AssetInventory` saved in `atlantic_fp`.\n",
    "\n",
    "3. <strong>Get a randomly selected `100` building subset of the footprint inventory obtained using `atlantic_fp`. </strong> This subset is obtained using the `get_random_sample` method of an `AssetInventory` object and is stored in `atlantic_fp_subset`. For this example, the random seed is set to `10` for reproducibility of the results.\n",
    "\n",
    "4. <strong>Get the street-level imagery for the selected subset using `get_images` method of `GoogleStreetview` module.</strong> `get_images` requires two inputs 1) AssetInventory for which the images will be retrieved (in this example, `atlantic_fp_subset`) and 2) the path to the folder where the retrieved images will be saved, which in this case is `tmp/street/`.\n"
   ]
  },
  {
   "cell_type": "code",
   "execution_count": 4,
   "metadata": {
    "id": "nAYEbgmj6GxA"
   },
   "outputs": [
    {
     "name": "stdout",
     "output_type": "stream",
     "text": [
      "\n",
      "Searching for Atlantic County, NJ...\n",
      "Found Atlantic County, New Jersey, United States\n",
      "\n",
      "Meshing the defined area...\n"
     ]
    },
    {
     "name": "stderr",
     "output_type": "stream",
     "text": [
      "Obtaining the number of buildings in each cell: 100%|█████████████████████████████████████████████████████████████████████████████████████████████████████████| 55/55 [00:00<00:00, 70.48it/s]\n",
      "Obtaining the number of buildings in each cell: 100%|███████████████████████████████████████████████████████████████████████████████████████████████████████| 344/344 [00:05<00:00, 58.83it/s]\n"
     ]
    },
    {
     "name": "stdout",
     "output_type": "stream",
     "text": [
      "\n",
      "Meshing complete. Split Atlantic County into 385 cells\n"
     ]
    },
    {
     "name": "stderr",
     "output_type": "stream",
     "text": [
      "Obtaining the building attributes for each cell: 100%|██████████████████████████████████████████████████████████████████████████████████████████████████████| 385/385 [00:28<00:00, 13.59it/s]\n",
      "100%|████████████████████████████████████████████████████████████████████████████████████████████████████████████████████████████████████████████████████| 385/385 [00:00<00:00, 71231.01it/s]\n"
     ]
    },
    {
     "name": "stdout",
     "output_type": "stream",
     "text": [
      "\n",
      "Found a total of 93932 building footprints in Atlantic County\n"
     ]
    },
    {
     "name": "stderr",
     "output_type": "stream",
     "text": [
      "INFO:brails.scrapers.google_streetview.google_streetview:\n",
      "Images will be saved to: /home/bacetiner/Documents/BrailsPlusPlus/examples/image_processor/tmp/street\n",
      "\n",
      "Obtaining street-level imagery:   0%|                                                                                                                                 | 0/100 [00:00<?, ?it/s]INFO:brails.scrapers.google_streetview.google_streetview:No street-level imagery found for the building located at 39.4552, -74.4696\n",
      "Obtaining street-level imagery:   1%|█▏                                                                                                                       | 1/100 [00:00<00:11,  8.41it/s]INFO:brails.scrapers.google_streetview.google_streetview:No street-level imagery found for the building located at 39.5190, -74.5928\n",
      "INFO:brails.scrapers.google_streetview.google_streetview:No street-level imagery found for the building located at 39.4333, -74.6320\n",
      "INFO:brails.scrapers.google_streetview.google_streetview:No street-level imagery found for the building located at 39.3833, -74.3995\n",
      "INFO:brails.scrapers.google_streetview.google_streetview:No street-level imagery found for the building located at 39.4350, -74.4879\n",
      "INFO:brails.scrapers.google_streetview.google_streetview:No street-level imagery found for the building located at 39.4888, -74.4717\n",
      "Obtaining street-level imagery:   6%|███████▎                                                                                                                 | 6/100 [00:00<00:03, 25.73it/s]INFO:brails.scrapers.google_streetview.google_streetview:No street-level imagery found for the building located at 39.4201, -74.7130\n",
      "INFO:brails.scrapers.google_streetview.google_streetview:No street-level imagery found for the building located at 39.6263, -74.6494\n",
      "Obtaining street-level imagery:   9%|██████████▉                                                                                                              | 9/100 [00:01<00:19,  4.75it/s]INFO:brails.scrapers.google_streetview.google_streetview:No street-level imagery found for the building located at 39.5572, -74.8493\n",
      "Obtaining street-level imagery:  19%|██████████████████████▊                                                                                                 | 19/100 [00:02<00:08,  9.78it/s]INFO:brails.scrapers.google_streetview.google_streetview:No street-level imagery found for the building located at 39.6198, -74.6181\n",
      "Obtaining street-level imagery:  24%|████████████████████████████▊                                                                                           | 24/100 [00:02<00:05, 14.95it/s]INFO:brails.scrapers.google_streetview.google_streetview:No street-level imagery found for the building located at 39.5451, -74.8800\n",
      "INFO:brails.scrapers.google_streetview.google_streetview:No street-level imagery found for the building located at 39.4687, -74.5164\n",
      "Obtaining street-level imagery:  29%|██████████████████████████████████▊                                                                                     | 29/100 [00:02<00:03, 20.38it/s]INFO:brails.scrapers.google_streetview.google_streetview:No street-level imagery found for the building located at 39.4866, -74.5096\n",
      "INFO:brails.scrapers.google_streetview.google_streetview:No street-level imagery found for the building located at 39.4132, -74.5194\n",
      "Obtaining street-level imagery:  33%|███████████████████████████████████████▌                                                                                | 33/100 [00:02<00:02, 23.43it/s]INFO:brails.scrapers.google_streetview.google_streetview:No street-level imagery found for the building located at 39.3480, -74.6335\n",
      "Obtaining street-level imagery:  37%|████████████████████████████████████████████▍                                                                           | 37/100 [00:04<00:09,  6.89it/s]INFO:brails.scrapers.google_streetview.google_streetview:No street-level imagery found for the building located at 39.4121, -74.5588\n",
      "Obtaining street-level imagery:  40%|████████████████████████████████████████████████                                                                        | 40/100 [00:04<00:07,  8.45it/s]INFO:brails.scrapers.google_streetview.google_streetview:No street-level imagery found for the building located at 39.4225, -74.6127\n",
      "Obtaining street-level imagery:  46%|███████████████████████████████████████████████████████▏                                                                | 46/100 [00:04<00:05, 10.56it/s]INFO:brails.scrapers.google_streetview.google_streetview:No street-level imagery found for the building located at 39.6338, -74.8447\n",
      "Obtaining street-level imagery:  52%|██████████████████████████████████████████████████████████████▍                                                         | 52/100 [00:04<00:02, 16.30it/s]INFO:brails.scrapers.google_streetview.google_streetview:No street-level imagery found for the building located at 39.3618, -74.6312\n",
      "INFO:brails.scrapers.google_streetview.google_streetview:No street-level imagery found for the building located at 39.3588, -74.5863\n",
      "INFO:brails.scrapers.google_streetview.google_streetview:No street-level imagery found for the building located at 39.3661, -74.6561\n",
      "Obtaining street-level imagery:  56%|███████████████████████████████████████████████████████████████████▏                                                    | 56/100 [00:04<00:02, 19.31it/s]INFO:brails.scrapers.google_streetview.google_streetview:No street-level imagery found for the building located at 39.4339, -74.6306\n",
      "INFO:brails.scrapers.google_streetview.google_streetview:No street-level imagery found for the building located at 39.3892, -74.5615\n",
      "Obtaining street-level imagery:  60%|████████████████████████████████████████████████████████████████████████                                                | 60/100 [00:05<00:02, 18.89it/s]INFO:brails.scrapers.google_streetview.google_streetview:No street-level imagery found for the building located at 39.4085, -74.6048\n",
      "INFO:brails.scrapers.google_streetview.google_streetview:No street-level imagery found for the building located at 39.5616, -74.8625\n",
      "Obtaining street-level imagery:  63%|███████████████████████████████████████████████████████████████████████████▌                                            | 63/100 [00:05<00:01, 20.39it/s]INFO:brails.scrapers.google_streetview.google_streetview:No street-level imagery found for the building located at 39.4949, -74.8191\n",
      "Obtaining street-level imagery:  69%|██████████████████████████████████████████████████████████████████████████████████▊                                     | 69/100 [00:06<00:03,  8.05it/s]INFO:brails.scrapers.google_streetview.google_streetview:No street-level imagery found for the building located at 39.3392, -74.6391\n",
      "Obtaining street-level imagery:  72%|██████████████████████████████████████████████████████████████████████████████████████▍                                 | 72/100 [00:06<00:02,  9.44it/s]INFO:brails.scrapers.google_streetview.google_streetview:No street-level imagery found for the building located at 39.5094, -74.9138\n",
      "INFO:brails.scrapers.google_streetview.google_streetview:No street-level imagery found for the building located at 39.3842, -74.5076\n",
      "Obtaining street-level imagery:  77%|████████████████████████████████████████████████████████████████████████████████████████████▍                           | 77/100 [00:06<00:01, 12.92it/s]INFO:brails.scrapers.google_streetview.google_streetview:No street-level imagery found for the building located at 39.5309, -74.7890\n",
      "Obtaining street-level imagery:  80%|████████████████████████████████████████████████████████████████████████████████████████████████                        | 80/100 [00:06<00:01, 14.28it/s]INFO:brails.scrapers.google_streetview.google_streetview:No street-level imagery found for the building located at 39.5098, -74.9245\n",
      "INFO:brails.scrapers.google_streetview.google_streetview:No street-level imagery found for the building located at 39.4933, -74.5049\n",
      "Obtaining street-level imagery: 100%|███████████████████████████████████████████████████████████████████████████████████████████████████████████████████████| 100/100 [00:09<00:00, 10.87it/s]\n"
     ]
    }
   ],
   "source": [
    "# Select a region and create its RegionBoundary:\n",
    "importer = Importer()\n",
    "\n",
    "region_data = {\"type\": \"locationName\",\n",
    "               \"data\": \"Atlantic County, NJ\"}\n",
    "region_boundary_class = importer.get_class(\"RegionBoundary\")\n",
    "region_boundary_object = region_boundary_class(region_data)\n",
    "\n",
    "usa_fp_class = importer.get_class(\"USA_FootprintScraper\")\n",
    "usa_fp_data = {\"length\": \"ft\"}\n",
    "footprint_scraper = usa_fp_class(usa_fp_data)\n",
    "atlantic_fp = footprint_scraper.get_footprints(region_boundary_object)\n",
    "\n",
    "# Subsample from the extracted assets to keep the image downloading step quick.\n",
    "# Here, we are randomly sampling 100 buildings using a random seed value of 40:\n",
    "atlantic_fp_subset = atlantic_fp.get_random_sample(100, 10)\n",
    "\n",
    "# Get street-level imagery for the selected subset using GoogleStreetview:\n",
    "google_street_class = importer.get_class(\"GoogleStreetview\")\n",
    "google_street = google_street_class({'apiKey': API_KEY})\n",
    "images_street = google_street.get_images(\n",
    "    atlantic_fp_subset, \"tmp/street/\")"
   ]
  },
  {
   "cell_type": "markdown",
   "metadata": {
    "id": "-Ce9IL05AMqD"
   },
   "source": [
    "## **Predict Existence of Garages in Buildings Using the GarageDetector Module**\n",
    "`GarageDetector` includes a pre-trained EfficientDet_D4 model that has been trained on a custom dataset of 22,600 images. This model is capable of identifying if garages exist in buildings."
   ]
  },
  {
   "cell_type": "code",
   "execution_count": 5,
   "metadata": {
    "id": "XWG53_xtFa_F"
   },
   "outputs": [
    {
     "name": "stdout",
     "output_type": "stream",
     "text": [
      "\n",
      "Checking the existence of garages for each building...\n",
      "Default garage detector model in tmp/models/efficientdet-d4_garageDetector.pth loaded\n",
      "\n",
      "Performing garage detections...\n"
     ]
    },
    {
     "name": "stderr",
     "output_type": "stream",
     "text": [
      "100%|███████████████████████████████████████████████████████████████████████████████████████████████████████████████████████████████████████████████████████| 100/100 [00:09<00:00, 10.51it/s]"
     ]
    },
    {
     "name": "stdout",
     "output_type": "stream",
     "text": [
      "\n",
      "Total execution time: 00:00:09.91\n"
     ]
    },
    {
     "name": "stderr",
     "output_type": "stream",
     "text": [
      "\n"
     ]
    }
   ],
   "source": [
    "importer = Importer()\n",
    "garage_detector_class = importer.get_class('GarageDetector')\n",
    "garage_detector_classifier = garage_detector_class()\n",
    "predictions = garage_detector_classifier.predict(images_street)"
   ]
  },
  {
   "cell_type": "markdown",
   "metadata": {
    "id": "oKSebGtqGEb_"
   },
   "source": [
    "## **Show Prediction Results**"
   ]
  },
  {
   "cell_type": "code",
   "execution_count": 6,
   "metadata": {
    "id": "dNLUWp3IEq74"
   },
   "outputs": [
    {
     "name": "stdout",
     "output_type": "stream",
     "text": [
      "{60110: 1, 75954: 0, 68678: 0, 4174: 0, 32150: 1, 37018: 0, 87104: 0, 83505: None, 87073: 1, 27044: None, 16826: 0, 45664: 0, 36322: 1, 57771: 0, 3752: 0, 69139: 0, 17022: None, 7773: None, 84052: None, 26474: 0, 81209: 0, 92683: 0, 60380: 0, 6969: 0, 23141: None, 79265: None, 41053: None, 14890: 1, 32828: None, 42605: 0, 18980: 0, 67246: 0, 89232: 0, 68601: 0, 12788: 0, 53396: 0, 6433: 0, 41387: None, 44031: 0, 29762: None, 20161: 0, 40659: 0, 21312: None, 68208: 0, 40467: 0, 91159: None, 38193: 0, 60531: 0, 20706: 0, 76822: None, 27585: 0, 64486: 0, 56808: None, 67676: 1, 8440: 0, 22387: 1, 76509: None, 26867: 0, 79859: None, 76719: 0, 1173: 1, 11613: 1, 61218: 0, 80132: 1, 39744: None, 14714: 0, 25050: 0, 31574: 0, 60469: None, 59466: None, 13013: 0, 61786: None, 83690: None, 43486: 0, 81497: 0, 59399: 0, 37358: 0, 69904: None, 75087: None, 32379: None, 9152: 0, 4867: 1, 19487: None, 79589: 1, 50446: 0, 24490: 0, 58513: 0, 14140: 1, 54527: None, 24858: None, 76968: 0, 2531: 0, 54802: 0, 62812: 0, 68081: None, 31518: 0, 29174: None, 57711: 1, 25388: None, 22452: None}\n"
     ]
    }
   ],
   "source": [
    "print(predictions)"
   ]
  }
 ],
 "metadata": {
  "colab": {
   "authorship_tag": "ABX9TyNMaZBsyNA2CxVaq55JaM3s",
   "include_colab_link": true,
   "provenance": []
  },
  "kernelspec": {
   "display_name": "Python 3 (ipykernel)",
   "language": "python",
   "name": "python3"
  },
  "language_info": {
   "codemirror_mode": {
    "name": "ipython",
    "version": 3
   },
   "file_extension": ".py",
   "mimetype": "text/x-python",
   "name": "python",
   "nbconvert_exporter": "python",
   "pygments_lexer": "ipython3",
   "version": "3.11.10"
  }
 },
 "nbformat": 4,
 "nbformat_minor": 4
}
