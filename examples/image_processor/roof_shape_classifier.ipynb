{
 "cells": [
  {
   "cell_type": "markdown",
   "metadata": {
    "colab_type": "text",
    "id": "view-in-github"
   },
   "source": [
    "<span style=\"display: inline-block; margin-right: 10px; vertical-align: middle; border: 1px solid #F8F8F8; border-radius: 8px; padding: 5px; background-color: #F8F8F8;\">\n",
    "    <a href=\"https://www.designsafe-ci.org/workspace/jupyter-lab-hpc-cuda-ds?appVersion=1.1.1\" target=\"_parent\" style=\"text-decoration: none;\">\n",
    "        <span style=\"font-family: Helvetica, sans-serif; font-size: 13px; color: #565656; margin-right: 5px; vertical-align: middle; font-weight: 600;\">Open in</span>\n",
    "        <img src=\"https://www.designsafe-ci.org/media/filer_public/2d/d3/2dd37fbf-289e-49cf-9c1a-879c864c4e17/nsf_nheri-ds.png\" alt=\"Open in DesignSafe\" style=\"width: 100px; height: auto; vertical-align: middle;\">\n",
    "    </a>\n",
    "</span>\n",
    "\n",
    "<span style=\"display: inline-block; margin-right: 10px; vertical-align: middle;\">\n",
    "    <a href=\"https://colab.research.google.com/github/NHERI-SimCenter/BrailsPlusPlus/blob/master/examples/image_processor/roof_type_classifier.ipynb\" target=\"_parent\">\n",
    "        <img src=\"https://colab.research.google.com/assets/colab-badge.svg\" alt=\"Open In Colab\" style=\"width: 130px; height: auto; vertical-align: middle;\"/>\n",
    "    </a>\n",
    "</span>\n",
    "\n",
    "<span style=\"display: inline-block; vertical-align: middle; margin-top: 6px;\">\n",
    "    <a target=\"_blank\" href=\"https://lightning.ai/new?repo_url=https%3A//github.com/NHERI-SimCenter/BrailsPlusPlus/blob/master/examples/image_processor/roof_type_classifier.ipynb\">\n",
    "        <img src=\"https://pl-bolts-doc-images.s3.us-east-2.amazonaws.com/app-2/studio-badge.svg\" alt=\"Open in Studio\" style=\"width: 120px; height: auto; vertical-align: middle;\"/>\n",
    "    </a>\n",
    "</span>"
   ]
  },
  {
   "cell_type": "markdown",
   "metadata": {
    "id": "aFu-PB0j9_-s"
   },
   "source": [
    "## **Install BRAILS++**"
   ]
  },
  {
   "cell_type": "code",
   "execution_count": 1,
   "metadata": {
    "colab": {
     "base_uri": "https://localhost:8080/"
    },
    "id": "KkujirTi9oZu",
    "outputId": "56ef57fa-739d-4cea-f16f-06768c53133a"
   },
   "outputs": [
    {
     "name": "stdout",
     "output_type": "stream",
     "text": [
      "Collecting git+https://github.com/NHERI-SimCenter/BrailsPlusPlus\n",
      "  Cloning https://github.com/NHERI-SimCenter/BrailsPlusPlus to /tmp/pip-req-build-gee3iwui\n",
      "  Running command git clone --filter=blob:none --quiet https://github.com/NHERI-SimCenter/BrailsPlusPlus /tmp/pip-req-build-gee3iwui\n",
      "  Resolved https://github.com/NHERI-SimCenter/BrailsPlusPlus to commit b66c74f769619a89198c23895b2d83dbf2fc6527\n",
      "  Preparing metadata (setup.py) ... \u001b[?25ldone\n",
      "\u001b[?25hRequirement already satisfied: addict in /home/bacetiner/anaconda3/envs/brails_plus/lib/python3.11/site-packages (from brails==4.0) (2.4.0)\n",
      "Requirement already satisfied: Cython in /home/bacetiner/anaconda3/envs/brails_plus/lib/python3.11/site-packages (from brails==4.0) (3.0.11)\n",
      "Requirement already satisfied: ftfy in /home/bacetiner/anaconda3/envs/brails_plus/lib/python3.11/site-packages (from brails==4.0) (6.2.3)\n",
      "Requirement already satisfied: matplotlib in /home/bacetiner/anaconda3/envs/brails_plus/lib/python3.11/site-packages (from brails==4.0) (3.9.2)\n",
      "Requirement already satisfied: pillow in /home/bacetiner/anaconda3/envs/brails_plus/lib/python3.11/site-packages (from brails==4.0) (10.4.0)\n",
      "Requirement already satisfied: plotly in /home/bacetiner/anaconda3/envs/brails_plus/lib/python3.11/site-packages (from brails==4.0) (5.24.1)\n",
      "Requirement already satisfied: pycocotools in /home/bacetiner/anaconda3/envs/brails_plus/lib/python3.11/site-packages (from brails==4.0) (2.0.8)\n",
      "Requirement already satisfied: requests in /home/bacetiner/anaconda3/envs/brails_plus/lib/python3.11/site-packages (from brails==4.0) (2.32.3)\n",
      "Requirement already satisfied: seaborn in /home/bacetiner/anaconda3/envs/brails_plus/lib/python3.11/site-packages (from brails==4.0) (0.13.2)\n",
      "Requirement already satisfied: shapely in /home/bacetiner/anaconda3/envs/brails_plus/lib/python3.11/site-packages (from brails==4.0) (2.0.6)\n",
      "Requirement already satisfied: supervision in /home/bacetiner/anaconda3/envs/brails_plus/lib/python3.11/site-packages (from brails==4.0) (0.24.0)\n",
      "Requirement already satisfied: timm in /home/bacetiner/anaconda3/envs/brails_plus/lib/python3.11/site-packages (from brails==4.0) (1.0.9)\n",
      "Requirement already satisfied: tensorboard in /home/bacetiner/anaconda3/envs/brails_plus/lib/python3.11/site-packages (from brails==4.0) (2.18.0)\n",
      "Requirement already satisfied: tensorboardX in /home/bacetiner/anaconda3/envs/brails_plus/lib/python3.11/site-packages (from brails==4.0) (2.6.2.2)\n",
      "Requirement already satisfied: torch in /home/bacetiner/anaconda3/envs/brails_plus/lib/python3.11/site-packages (from brails==4.0) (2.4.1)\n",
      "Requirement already satisfied: torchvision in /home/bacetiner/anaconda3/envs/brails_plus/lib/python3.11/site-packages (from brails==4.0) (0.19.1)\n",
      "Requirement already satisfied: transformers in /home/bacetiner/anaconda3/envs/brails_plus/lib/python3.11/site-packages (from brails==4.0) (4.45.2)\n",
      "Requirement already satisfied: typing in /home/bacetiner/anaconda3/envs/brails_plus/lib/python3.11/site-packages (from brails==4.0) (3.7.4.3)\n",
      "Requirement already satisfied: wget in /home/bacetiner/anaconda3/envs/brails_plus/lib/python3.11/site-packages (from brails==4.0) (3.2)\n",
      "Requirement already satisfied: yapf in /home/bacetiner/anaconda3/envs/brails_plus/lib/python3.11/site-packages (from brails==4.0) (0.40.2)\n",
      "Requirement already satisfied: webcolors in /home/bacetiner/anaconda3/envs/brails_plus/lib/python3.11/site-packages (from brails==4.0) (24.8.0)\n",
      "Requirement already satisfied: opencv-python in /home/bacetiner/anaconda3/envs/brails_plus/lib/python3.11/site-packages (from brails==4.0) (4.10.0.84)\n",
      "Requirement already satisfied: pandas in /home/bacetiner/anaconda3/envs/brails_plus/lib/python3.11/site-packages (from brails==4.0) (2.2.3)\n",
      "Requirement already satisfied: wcwidth<0.3.0,>=0.2.12 in /home/bacetiner/anaconda3/envs/brails_plus/lib/python3.11/site-packages (from ftfy->brails==4.0) (0.2.13)\n",
      "Requirement already satisfied: contourpy>=1.0.1 in /home/bacetiner/anaconda3/envs/brails_plus/lib/python3.11/site-packages (from matplotlib->brails==4.0) (1.3.0)\n",
      "Requirement already satisfied: cycler>=0.10 in /home/bacetiner/anaconda3/envs/brails_plus/lib/python3.11/site-packages (from matplotlib->brails==4.0) (0.12.1)\n",
      "Requirement already satisfied: fonttools>=4.22.0 in /home/bacetiner/anaconda3/envs/brails_plus/lib/python3.11/site-packages (from matplotlib->brails==4.0) (4.54.1)\n",
      "Requirement already satisfied: kiwisolver>=1.3.1 in /home/bacetiner/anaconda3/envs/brails_plus/lib/python3.11/site-packages (from matplotlib->brails==4.0) (1.4.7)\n",
      "Requirement already satisfied: numpy>=1.23 in /home/bacetiner/anaconda3/envs/brails_plus/lib/python3.11/site-packages (from matplotlib->brails==4.0) (2.1.2)\n",
      "Requirement already satisfied: packaging>=20.0 in /home/bacetiner/anaconda3/envs/brails_plus/lib/python3.11/site-packages (from matplotlib->brails==4.0) (24.1)\n",
      "Requirement already satisfied: pyparsing>=2.3.1 in /home/bacetiner/anaconda3/envs/brails_plus/lib/python3.11/site-packages (from matplotlib->brails==4.0) (3.1.4)\n",
      "Requirement already satisfied: python-dateutil>=2.7 in /home/bacetiner/anaconda3/envs/brails_plus/lib/python3.11/site-packages (from matplotlib->brails==4.0) (2.9.0.post0)\n",
      "Requirement already satisfied: pytz>=2020.1 in /home/bacetiner/anaconda3/envs/brails_plus/lib/python3.11/site-packages (from pandas->brails==4.0) (2024.2)\n",
      "Requirement already satisfied: tzdata>=2022.7 in /home/bacetiner/anaconda3/envs/brails_plus/lib/python3.11/site-packages (from pandas->brails==4.0) (2024.2)\n",
      "Requirement already satisfied: tenacity>=6.2.0 in /home/bacetiner/anaconda3/envs/brails_plus/lib/python3.11/site-packages (from plotly->brails==4.0) (9.0.0)\n",
      "Requirement already satisfied: charset-normalizer<4,>=2 in /home/bacetiner/anaconda3/envs/brails_plus/lib/python3.11/site-packages (from requests->brails==4.0) (3.3.2)\n",
      "Requirement already satisfied: idna<4,>=2.5 in /home/bacetiner/anaconda3/envs/brails_plus/lib/python3.11/site-packages (from requests->brails==4.0) (3.7)\n",
      "Requirement already satisfied: urllib3<3,>=1.21.1 in /home/bacetiner/anaconda3/envs/brails_plus/lib/python3.11/site-packages (from requests->brails==4.0) (2.2.3)\n",
      "Requirement already satisfied: certifi>=2017.4.17 in /home/bacetiner/anaconda3/envs/brails_plus/lib/python3.11/site-packages (from requests->brails==4.0) (2024.8.30)\n",
      "Requirement already satisfied: defusedxml<0.8.0,>=0.7.1 in /home/bacetiner/anaconda3/envs/brails_plus/lib/python3.11/site-packages (from supervision->brails==4.0) (0.7.1)\n",
      "Requirement already satisfied: pyyaml>=5.3 in /home/bacetiner/anaconda3/envs/brails_plus/lib/python3.11/site-packages (from supervision->brails==4.0) (6.0.2)\n",
      "Requirement already satisfied: scipy<2.0.0,>=1.10.0 in /home/bacetiner/anaconda3/envs/brails_plus/lib/python3.11/site-packages (from supervision->brails==4.0) (1.14.1)\n",
      "Requirement already satisfied: absl-py>=0.4 in /home/bacetiner/anaconda3/envs/brails_plus/lib/python3.11/site-packages (from tensorboard->brails==4.0) (2.1.0)\n",
      "Requirement already satisfied: grpcio>=1.48.2 in /home/bacetiner/anaconda3/envs/brails_plus/lib/python3.11/site-packages (from tensorboard->brails==4.0) (1.67.1)\n",
      "Requirement already satisfied: markdown>=2.6.8 in /home/bacetiner/anaconda3/envs/brails_plus/lib/python3.11/site-packages (from tensorboard->brails==4.0) (3.7)\n",
      "Requirement already satisfied: protobuf!=4.24.0,>=3.19.6 in /home/bacetiner/anaconda3/envs/brails_plus/lib/python3.11/site-packages (from tensorboard->brails==4.0) (5.28.3)\n",
      "Requirement already satisfied: setuptools>=41.0.0 in /home/bacetiner/anaconda3/envs/brails_plus/lib/python3.11/site-packages (from tensorboard->brails==4.0) (75.1.0)\n",
      "Requirement already satisfied: six>1.9 in /home/bacetiner/anaconda3/envs/brails_plus/lib/python3.11/site-packages (from tensorboard->brails==4.0) (1.16.0)\n",
      "Requirement already satisfied: tensorboard-data-server<0.8.0,>=0.7.0 in /home/bacetiner/anaconda3/envs/brails_plus/lib/python3.11/site-packages (from tensorboard->brails==4.0) (0.7.2)\n",
      "Requirement already satisfied: werkzeug>=1.0.1 in /home/bacetiner/anaconda3/envs/brails_plus/lib/python3.11/site-packages (from tensorboard->brails==4.0) (3.1.3)\n",
      "Requirement already satisfied: huggingface_hub in /home/bacetiner/anaconda3/envs/brails_plus/lib/python3.11/site-packages (from timm->brails==4.0) (0.25.2)\n",
      "Requirement already satisfied: safetensors in /home/bacetiner/anaconda3/envs/brails_plus/lib/python3.11/site-packages (from timm->brails==4.0) (0.4.5)\n",
      "Requirement already satisfied: filelock in /home/bacetiner/anaconda3/envs/brails_plus/lib/python3.11/site-packages (from torch->brails==4.0) (3.16.1)\n",
      "Requirement already satisfied: typing-extensions>=4.8.0 in /home/bacetiner/anaconda3/envs/brails_plus/lib/python3.11/site-packages (from torch->brails==4.0) (4.12.2)\n",
      "Requirement already satisfied: sympy in /home/bacetiner/anaconda3/envs/brails_plus/lib/python3.11/site-packages (from torch->brails==4.0) (1.13.3)\n",
      "Requirement already satisfied: networkx in /home/bacetiner/anaconda3/envs/brails_plus/lib/python3.11/site-packages (from torch->brails==4.0) (3.3)\n",
      "Requirement already satisfied: jinja2 in /home/bacetiner/anaconda3/envs/brails_plus/lib/python3.11/site-packages (from torch->brails==4.0) (3.1.4)\n",
      "Requirement already satisfied: fsspec in /home/bacetiner/anaconda3/envs/brails_plus/lib/python3.11/site-packages (from torch->brails==4.0) (2024.9.0)\n",
      "Requirement already satisfied: nvidia-cuda-nvrtc-cu12==12.1.105 in /home/bacetiner/anaconda3/envs/brails_plus/lib/python3.11/site-packages (from torch->brails==4.0) (12.1.105)\n",
      "Requirement already satisfied: nvidia-cuda-runtime-cu12==12.1.105 in /home/bacetiner/anaconda3/envs/brails_plus/lib/python3.11/site-packages (from torch->brails==4.0) (12.1.105)\n",
      "Requirement already satisfied: nvidia-cuda-cupti-cu12==12.1.105 in /home/bacetiner/anaconda3/envs/brails_plus/lib/python3.11/site-packages (from torch->brails==4.0) (12.1.105)\n",
      "Requirement already satisfied: nvidia-cudnn-cu12==9.1.0.70 in /home/bacetiner/anaconda3/envs/brails_plus/lib/python3.11/site-packages (from torch->brails==4.0) (9.1.0.70)\n",
      "Requirement already satisfied: nvidia-cublas-cu12==12.1.3.1 in /home/bacetiner/anaconda3/envs/brails_plus/lib/python3.11/site-packages (from torch->brails==4.0) (12.1.3.1)\n",
      "Requirement already satisfied: nvidia-cufft-cu12==11.0.2.54 in /home/bacetiner/anaconda3/envs/brails_plus/lib/python3.11/site-packages (from torch->brails==4.0) (11.0.2.54)\n",
      "Requirement already satisfied: nvidia-curand-cu12==10.3.2.106 in /home/bacetiner/anaconda3/envs/brails_plus/lib/python3.11/site-packages (from torch->brails==4.0) (10.3.2.106)\n",
      "Requirement already satisfied: nvidia-cusolver-cu12==11.4.5.107 in /home/bacetiner/anaconda3/envs/brails_plus/lib/python3.11/site-packages (from torch->brails==4.0) (11.4.5.107)\n",
      "Requirement already satisfied: nvidia-cusparse-cu12==12.1.0.106 in /home/bacetiner/anaconda3/envs/brails_plus/lib/python3.11/site-packages (from torch->brails==4.0) (12.1.0.106)\n",
      "Requirement already satisfied: nvidia-nccl-cu12==2.20.5 in /home/bacetiner/anaconda3/envs/brails_plus/lib/python3.11/site-packages (from torch->brails==4.0) (2.20.5)\n",
      "Requirement already satisfied: nvidia-nvtx-cu12==12.1.105 in /home/bacetiner/anaconda3/envs/brails_plus/lib/python3.11/site-packages (from torch->brails==4.0) (12.1.105)\n",
      "Requirement already satisfied: triton==3.0.0 in /home/bacetiner/anaconda3/envs/brails_plus/lib/python3.11/site-packages (from torch->brails==4.0) (3.0.0)\n",
      "Requirement already satisfied: nvidia-nvjitlink-cu12 in /home/bacetiner/anaconda3/envs/brails_plus/lib/python3.11/site-packages (from nvidia-cusolver-cu12==11.4.5.107->torch->brails==4.0) (12.6.77)\n",
      "Requirement already satisfied: regex!=2019.12.17 in /home/bacetiner/anaconda3/envs/brails_plus/lib/python3.11/site-packages (from transformers->brails==4.0) (2024.9.11)\n",
      "Requirement already satisfied: tokenizers<0.21,>=0.20 in /home/bacetiner/anaconda3/envs/brails_plus/lib/python3.11/site-packages (from transformers->brails==4.0) (0.20.1)\n",
      "Requirement already satisfied: tqdm>=4.27 in /home/bacetiner/anaconda3/envs/brails_plus/lib/python3.11/site-packages (from transformers->brails==4.0) (4.66.5)\n",
      "Requirement already satisfied: importlib-metadata>=6.6.0 in /home/bacetiner/anaconda3/envs/brails_plus/lib/python3.11/site-packages (from yapf->brails==4.0) (7.0.1)\n",
      "Requirement already satisfied: platformdirs>=3.5.1 in /home/bacetiner/anaconda3/envs/brails_plus/lib/python3.11/site-packages (from yapf->brails==4.0) (4.3.6)\n",
      "Requirement already satisfied: tomli>=2.0.1 in /home/bacetiner/anaconda3/envs/brails_plus/lib/python3.11/site-packages (from yapf->brails==4.0) (2.0.1)\n",
      "Requirement already satisfied: zipp>=0.5 in /home/bacetiner/anaconda3/envs/brails_plus/lib/python3.11/site-packages (from importlib-metadata>=6.6.0->yapf->brails==4.0) (3.20.2)\n",
      "Requirement already satisfied: MarkupSafe>=2.1.1 in /home/bacetiner/anaconda3/envs/brails_plus/lib/python3.11/site-packages (from werkzeug>=1.0.1->tensorboard->brails==4.0) (3.0.1)\n",
      "Requirement already satisfied: mpmath<1.4,>=1.1.0 in /home/bacetiner/anaconda3/envs/brails_plus/lib/python3.11/site-packages (from sympy->torch->brails==4.0) (1.3.0)\n"
     ]
    }
   ],
   "source": [
    "!pip install git+https://github.com/NHERI-SimCenter/BrailsPlusPlus"
   ]
  },
  {
   "cell_type": "markdown",
   "metadata": {
    "id": "sqCVhpcm-ePA"
   },
   "source": [
    "## **Import ImageSet and Importer Methods of BRAILS++**"
   ]
  },
  {
   "cell_type": "code",
   "execution_count": 2,
   "metadata": {
    "id": "hKRsVFR4-M1b"
   },
   "outputs": [],
   "source": [
    "from brails.types.image_set import ImageSet\n",
    "from brails import Importer"
   ]
  },
  {
   "cell_type": "markdown",
   "metadata": {
    "id": "WWtc71tt-rbt"
   },
   "source": [
    "## **Load Aerial Imagery**\n",
    "The `RoofShapeClassifier` class is designed to identify roof types of buildings based on aerial imagery. In this option, BRAILS++ retrieves the required imagery by following the steps below.\n",
    "\n",
    "1. <strong>Call the `RegionBoundary` class with the necessary details to specify the region of interest.</strong> In this example, aerial imagery of buildings in Pinellas County, FL, are downloaded. Therefore, the required information includes the `type` of information provided and the `data` itself, which are the `locationName` and `Pinellas County, FL`.\n",
    "\n",
    "2. <strong>Download the footprint inventory for the `RegionBoundary` saved in `region_boundary_object` by downloading the OpenStreetMap footprint data through the `USA_FootprintScraper`.</strong> The only information required to initialize `USA_FootprintScraper` is the desired output unit for `length`, which, in this case, is `ft`. The output of `USA_FootprintScraper` is an `AssetInventory` saved in `usa_fp_data`.\n",
    "\n",
    "3. <strong>Get a randomly selected `150` building subset of the footprint inventory obtained using `USA_FootprintScraper`. </strong> This subset is obtained using the `get_random_sample` method of an `AssetInventory` object and is stored in `atlantic_fp_subset`. For this example, the random seed is set to `75` for reproducibility of the results.\n",
    "\n",
    "4. <strong>Get the street-level imagery for the selected subset using `get_images` method of `GoogleSatellite` module.</strong> `get_images` requires two inputs 1) AssetInventory for which the images will be retrieved (in this example, `usa_fp_subset`) and 2) the path to the folder where the retrieved images will be saved, which in this case is `tmp/satellite/`."
   ]
  },
  {
   "cell_type": "code",
   "execution_count": 3,
   "metadata": {
    "id": "nAYEbgmj6GxA"
   },
   "outputs": [
    {
     "name": "stdout",
     "output_type": "stream",
     "text": [
      "\n",
      "Searching for Pinellas County, FL...\n",
      "Found Pinellas County, Florida, United States\n",
      "\n",
      "Meshing the defined area...\n"
     ]
    },
    {
     "name": "stderr",
     "output_type": "stream",
     "text": [
      "Obtaining the number of buildings in each cell: 100%|███████████████████████████████████████████████████████████████████████████████████████████████████████| 128/128 [00:02<00:00, 57.72it/s]\n",
      "Obtaining the number of buildings in each cell: 100%|█████████████████████████████████████████████████████████████████████████████████████████████████████| 1176/1176 [00:13<00:00, 84.40it/s]\n"
     ]
    },
    {
     "name": "stdout",
     "output_type": "stream",
     "text": [
      "\n",
      "Meshing complete. Split Pinellas County into 1230 cells\n"
     ]
    },
    {
     "name": "stderr",
     "output_type": "stream",
     "text": [
      "Obtaining the building attributes for each cell: 100%|████████████████████████████████████████████████████████████████████████████████████████████████████| 1230/1230 [00:27<00:00, 44.58it/s]\n",
      "100%|██████████████████████████████████████████████████████████████████████████████████████████████████████████████████████████████████████████████████| 1230/1230 [00:00<00:00, 36563.20it/s]\n"
     ]
    },
    {
     "name": "stdout",
     "output_type": "stream",
     "text": [
      "\n",
      "Found a total of 345057 building footprints in Pinellas County\n"
     ]
    },
    {
     "name": "stderr",
     "output_type": "stream",
     "text": [
      "INFO:brails.scrapers.google_satellite.google_satellite:Images will be saved to: /home/bacetiner/Documents/BrailsPlusPlus/examples/image_processor/tmp/satellite\n",
      "Obtaining satellite imagery: 100%|██████████████████████████████████████████████████████████████████████████████████████████████████████████████████████████| 150/150 [00:03<00:00, 47.05it/s]\n"
     ]
    }
   ],
   "source": [
    "# Select a region and create its RegionBoundary:\n",
    "importer = Importer()\n",
    "\n",
    "region_data = {\"type\": \"locationName\", \"data\": \"Pinellas County, FL\"}\n",
    "region_boundary_class = importer.get_class(\"RegionBoundary\")\n",
    "region_boundary_object = region_boundary_class(region_data)\n",
    "\n",
    "usa_fp_class = importer.get_class(\"USA_FootprintScraper\")\n",
    "usa_fp_data = {\"length\": \"ft\"}\n",
    "footprint_scraper = usa_fp_class(usa_fp_data)\n",
    "usa_fp_inventory = footprint_scraper.get_footprints(region_boundary_object)\n",
    "\n",
    "# Subsample from the extracted assets to keep the image downloading step quick.\n",
    "# Here, we are randomly sampling 150 buildings using a random seed value of 75:\n",
    "usa_fp_subset = usa_fp_inventory.get_random_sample(150, 75)\n",
    "\n",
    "# Get aerial imagery for the selected subset using GoogleSatellite:\n",
    "google_aerial_class = importer.get_class(\"GoogleSatellite\")\n",
    "google_aerial = google_aerial_class()\n",
    "images_aerial = google_aerial.get_images(\n",
    "    usa_fp_subset, \"tmp/satellite/\")"
   ]
  },
  {
   "cell_type": "markdown",
   "metadata": {
    "id": "-Ce9IL05AMqD"
   },
   "source": [
    "## **Predict Roof Types of Buildings Using RoofShapeClassifier Module**\n",
    "`RoofShapeClassifier` includes a pre-trained EfficientNet_V2_M model that has been trained on a custom dataset of 100,000 images. This model is capable of classifying roofs seen in aerial imagery into three categories: `Flat`, `Hip`, and `Gable`."
   ]
  },
  {
   "cell_type": "code",
   "execution_count": 4,
   "metadata": {
    "id": "XWG53_xtFa_F"
   },
   "outputs": [
    {
     "name": "stdout",
     "output_type": "stream",
     "text": [
      "\n",
      "Default roof classifier model in tmp/models/roofTypeClassifier_v1.pth loaded\n"
     ]
    },
    {
     "name": "stderr",
     "output_type": "stream",
     "text": [
      "/home/bacetiner/anaconda3/envs/brails_plus/lib/python3.11/site-packages/torch/cuda/__init__.py:128: UserWarning: CUDA initialization: CUDA unknown error - this may be due to an incorrectly set up environment, e.g. changing env variable CUDA_VISIBLE_DEVICES after program start. Setting the available devices to be zero. (Triggered internally at ../c10/cuda/CUDAFunctions.cpp:108.)\n",
      "  return torch._C._cuda_getDeviceCount() > 0\n",
      "/home/bacetiner/anaconda3/envs/brails_plus/lib/python3.11/site-packages/brails/processors/image_classifier/image_classifier.py:734: FutureWarning: You are using `torch.load` with `weights_only=False` (the current default value), which uses the default pickle module implicitly. It is possible to construct malicious pickle data which will execute arbitrary code during unpickling (See https://github.com/pytorch/pytorch/blob/main/SECURITY.md#untrusted-models for more details). In a future release, the default value for `weights_only` will be flipped to `True`. This limits the functions that could be executed during unpickling. Arbitrary objects will no longer be allowed to be loaded via this mode unless they are explicitly allowlisted by the user via `torch.serialization.add_safe_globals`. We recommend you start setting `weights_only=True` for any use case where you don't have full control of the loaded file. Please open an issue on GitHub for any issues related to this experimental feature.\n",
      "  model = torch.load(self.model_path, map_location=self.device)\n"
     ]
    }
   ],
   "source": [
    "importer = Importer()\n",
    "roof_shape_classifier_class = importer.get_class('RoofShapeClassifier')\n",
    "roof_shape_classifier = roof_shape_classifier_class()\n",
    "predictions = roof_shape_classifier.predict(images_aerial)"
   ]
  },
  {
   "cell_type": "markdown",
   "metadata": {
    "id": "oKSebGtqGEb_"
   },
   "source": [
    "## **Show Prediction Results**"
   ]
  },
  {
   "cell_type": "code",
   "execution_count": 5,
   "metadata": {
    "id": "dNLUWp3IEq74"
   },
   "outputs": [
    {
     "name": "stdout",
     "output_type": "stream",
     "text": [
      "{236372: 'Gable', 306602: 'Flat', 228914: 'Gable', 238213: 'Gable', 21828: 'Gable', 269513: 'Hip', 247812: 'Gable', 181216: 'Gable', 52449: 'Gable', 166196: 'Gable', 43926: 'Gable', 131692: 'Gable', 143959: 'Gable', 260327: 'Gable', 182303: 'Gable', 318066: 'Hip', 254682: 'Flat', 140542: 'Gable', 214279: 'Gable', 14413: 'Gable', 198291: 'Gable', 283876: 'Flat', 300159: 'Gable', 242636: 'Flat', 104129: 'Hip', 69037: 'Hip', 103023: 'Gable', 75259: 'Gable', 158400: 'Gable', 258331: 'Gable', 313029: 'Hip', 88325: 'Gable', 242829: 'Hip', 9387: 'Gable', 161220: 'Flat', 323016: 'Gable', 31649: 'Gable', 36801: 'Gable', 29142: 'Flat', 141687: 'Gable', 169809: 'Gable', 102055: 'Gable', 30370: 'Gable', 47265: 'Hip', 216639: 'Flat', 62489: 'Gable', 161175: 'Gable', 190133: 'Gable', 273899: 'Hip', 60007: 'Gable', 341272: 'Hip', 244401: 'Gable', 153046: 'Gable', 152905: 'Gable', 296392: 'Gable', 110760: 'Gable', 128594: 'Hip', 197130: 'Gable', 329775: 'Flat', 2474: 'Gable', 13936: 'Hip', 159459: 'Gable', 169875: 'Flat', 233275: 'Flat', 155262: 'Hip', 9841: 'Gable', 276450: 'Gable', 82352: 'Gable', 289407: 'Hip', 287235: 'Hip', 230709: 'Flat', 5104: 'Hip', 141809: 'Gable', 291940: 'Hip', 166569: 'Gable', 98225: 'Flat', 185627: 'Gable', 136180: 'Gable', 225244: 'Gable', 261794: 'Gable', 257344: 'Hip', 64126: 'Gable', 208538: 'Gable', 137104: 'Hip', 191564: 'Hip', 269839: 'Hip', 269806: 'Flat', 242074: 'Gable', 183100: 'Hip', 51037: 'Gable', 148191: 'Gable', 202614: 'Hip', 206710: 'Gable', 174398: 'Gable', 9429: 'Flat', 264912: 'Gable', 279476: 'Gable', 254453: 'Flat', 171622: 'Gable', 323237: 'Gable', 193006: 'Gable', 215122: 'Gable', 316412: 'Flat', 40026: 'Gable', 194094: 'Flat', 295234: 'Flat', 69144: 'Gable', 295569: 'Flat', 15058: 'Gable', 209204: 'Gable', 263857: 'Gable', 321203: 'Flat', 294661: 'Gable', 150840: 'Gable', 102368: 'Flat', 185972: 'Hip', 235239: 'Flat', 98970: 'Hip', 75003: 'Gable', 278394: 'Flat', 129477: 'Hip', 20162: 'Gable', 223521: 'Hip', 231255: 'Gable', 173838: 'Flat', 341058: 'Gable', 253305: 'Gable', 109956: 'Gable', 3554: 'Gable', 228744: 'Gable', 185718: 'Gable', 43169: 'Gable', 189481: 'Flat', 81372: 'Gable', 79798: 'Gable', 132130: 'Hip', 110889: 'Gable', 133772: 'Gable', 255625: 'Hip', 224686: 'Hip', 261299: 'Gable', 288548: 'Gable', 97491: 'Gable', 201393: 'Flat', 77578: 'Gable', 212451: 'Gable', 64316: 'Gable', 180451: 'Gable', 129143: 'Gable', 114015: 'Gable'}\n"
     ]
    }
   ],
   "source": [
    "print(predictions)"
   ]
  }
 ],
 "metadata": {
  "colab": {
   "authorship_tag": "ABX9TyPgTrGXDsoY3ncaNdDN4ft3",
   "include_colab_link": true,
   "provenance": []
  },
  "kernelspec": {
   "display_name": "Python 3 (ipykernel)",
   "language": "python",
   "name": "python3"
  },
  "language_info": {
   "codemirror_mode": {
    "name": "ipython",
    "version": 3
   },
   "file_extension": ".py",
   "mimetype": "text/x-python",
   "name": "python",
   "nbconvert_exporter": "python",
   "pygments_lexer": "ipython3",
   "version": "3.11.10"
  }
 },
 "nbformat": 4,
 "nbformat_minor": 4
}
