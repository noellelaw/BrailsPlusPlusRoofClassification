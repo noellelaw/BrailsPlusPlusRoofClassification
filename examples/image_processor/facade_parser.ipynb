{
  "nbformat": 4,
  "nbformat_minor": 0,
  "metadata": {
    "colab": {
      "provenance": [],
      "authorship_tag": "ABX9TyOFVkZ6eTKzRd5pUhX9fiDh",
      "include_colab_link": true
    },
    "kernelspec": {
      "name": "python3",
      "display_name": "Python 3"
    },
    "language_info": {
      "name": "python"
    }
  },
  "cells": [
    {
      "cell_type": "markdown",
      "metadata": {
        "id": "view-in-github",
        "colab_type": "text"
      },
      "source": [
        "<a href=\"https://colab.research.google.com/github/bacetiner/BrailsPlusPlus/blob/master/examples/image_processor/facade_parser.ipynb\" target=\"_parent\"><img src=\"https://colab.research.google.com/assets/colab-badge.svg\" alt=\"Open In Colab\"/></a>"
      ]
    },
    {
      "cell_type": "markdown",
      "source": [
        "## **Install BRAILS++**\n",
        "BRAILS++ is not yet available on PyPi. The following line installs the latest version from the GitHub repository using `pip`."
      ],
      "metadata": {
        "id": "aFu-PB0j9_-s"
      }
    },
    {
      "cell_type": "code",
      "execution_count": null,
      "metadata": {
        "colab": {
          "base_uri": "https://localhost:8080/"
        },
        "id": "KkujirTi9oZu",
        "outputId": "56ef57fa-739d-4cea-f16f-06768c53133a"
      },
      "outputs": [
        {
          "output_type": "stream",
          "name": "stdout",
          "text": [
            "Collecting git+https://github.com/NHERI-SimCenter/BrailsPlusPlus\n",
            "  Cloning https://github.com/NHERI-SimCenter/BrailsPlusPlus to /tmp/pip-req-build-er4rdzrd\n",
            "  Running command git clone --filter=blob:none --quiet https://github.com/NHERI-SimCenter/BrailsPlusPlus /tmp/pip-req-build-er4rdzrd\n"
          ]
        },
        {
          "output_type": "stream",
          "name": "stderr",
          "text": [
            "Exception in thread Thread-5 (attachment_entry):\n",
            "Traceback (most recent call last):\n",
            "  File \"/usr/local/lib/python3.10/dist-packages/debugpy/server/api.py\", line 237, in listen\n",
            "    sock, _ = endpoints_listener.accept()\n",
            "  File \"/usr/lib/python3.10/socket.py\", line 293, in accept\n",
            "    fd, addr = self._accept()\n",
            "TimeoutError: timed out\n",
            "\n",
            "During handling of the above exception, another exception occurred:\n",
            "\n",
            "Traceback (most recent call last):\n",
            "  File \"/usr/lib/python3.10/threading.py\", line 1016, in _bootstrap_inner\n",
            "    self.run()\n",
            "  File \"/usr/lib/python3.10/threading.py\", line 953, in run\n",
            "    self._target(*self._args, **self._kwargs)\n",
            "  File \"/usr/local/lib/python3.10/dist-packages/google/colab/_debugpy.py\", line 52, in attachment_entry\n",
            "    debugpy.listen(_dap_port)\n",
            "  File \"/usr/local/lib/python3.10/dist-packages/debugpy/public_api.py\", line 31, in wrapper\n",
            "    return wrapped(*args, **kwargs)\n",
            "  File \"/usr/local/lib/python3.10/dist-packages/debugpy/server/api.py\", line 143, in debug\n",
            "    log.reraise_exception(\"{0}() failed:\", func.__name__, level=\"info\")\n",
            "  File \"/usr/local/lib/python3.10/dist-packages/debugpy/server/api.py\", line 141, in debug\n",
            "    return func(address, settrace_kwargs, **kwargs)\n",
            "  File \"/usr/local/lib/python3.10/dist-packages/debugpy/server/api.py\", line 251, in listen\n",
            "    raise RuntimeError(\"timed out waiting for adapter to connect\")\n",
            "RuntimeError: timed out waiting for adapter to connect\n"
          ]
        },
        {
          "output_type": "stream",
          "name": "stdout",
          "text": [
            "  Resolved https://github.com/NHERI-SimCenter/BrailsPlusPlus to commit 1c734ed6a87a26d0a25c180c2df41ca6400ddfc4\n",
            "  Preparing metadata (setup.py) ... \u001b[?25l\u001b[?25hdone\n",
            "Requirement already satisfied: pandas in /usr/local/lib/python3.10/dist-packages (from brails==4.0) (2.2.2)\n",
            "Requirement already satisfied: requests in /usr/local/lib/python3.10/dist-packages (from brails==4.0) (2.32.3)\n",
            "Requirement already satisfied: wget in /usr/local/lib/python3.10/dist-packages (from brails==4.0) (3.2)\n",
            "Requirement already satisfied: shapely in /usr/local/lib/python3.10/dist-packages (from brails==4.0) (2.0.6)\n",
            "Requirement already satisfied: tqdm in /usr/local/lib/python3.10/dist-packages (from brails==4.0) (4.66.5)\n",
            "Requirement already satisfied: torch>=1.12 in /usr/local/lib/python3.10/dist-packages (from brails==4.0) (2.4.1+cu121)\n",
            "Requirement already satisfied: torchvision>0.13 in /usr/local/lib/python3.10/dist-packages (from brails==4.0) (0.19.1+cu121)\n",
            "Requirement already satisfied: Pillow in /usr/local/lib/python3.10/dist-packages (from brails==4.0) (10.4.0)\n",
            "Requirement already satisfied: matplotlib in /usr/local/lib/python3.10/dist-packages (from brails==4.0) (3.7.1)\n",
            "Requirement already satisfied: seaborn in /usr/local/lib/python3.10/dist-packages (from brails==4.0) (0.13.2)\n",
            "Requirement already satisfied: plotly in /usr/local/lib/python3.10/dist-packages (from brails==4.0) (5.24.1)\n",
            "Requirement already satisfied: ftfy in /usr/local/lib/python3.10/dist-packages (from brails==4.0) (6.3.0)\n",
            "Requirement already satisfied: supervision in /usr/local/lib/python3.10/dist-packages (from brails==4.0) (0.24.0)\n",
            "Requirement already satisfied: opencv-python in /usr/local/lib/python3.10/dist-packages (from brails==4.0) (4.10.0.84)\n",
            "Requirement already satisfied: addict in /usr/local/lib/python3.10/dist-packages (from brails==4.0) (2.4.0)\n",
            "Requirement already satisfied: yapf in /usr/local/lib/python3.10/dist-packages (from brails==4.0) (0.40.2)\n",
            "Requirement already satisfied: timm in /usr/local/lib/python3.10/dist-packages (from brails==4.0) (1.0.9)\n",
            "Requirement already satisfied: transformers in /usr/local/lib/python3.10/dist-packages (from brails==4.0) (4.44.2)\n",
            "Requirement already satisfied: pycocotools in /usr/local/lib/python3.10/dist-packages (from brails==4.0) (2.0.8)\n",
            "Requirement already satisfied: Cython in /usr/local/lib/python3.10/dist-packages (from brails==4.0) (3.0.11)\n",
            "Requirement already satisfied: webcolors in /usr/local/lib/python3.10/dist-packages (from brails==4.0) (24.8.0)\n",
            "Requirement already satisfied: typing in /usr/local/lib/python3.10/dist-packages (from brails==4.0) (3.7.4.3)\n",
            "Requirement already satisfied: filelock in /usr/local/lib/python3.10/dist-packages (from torch>=1.12->brails==4.0) (3.16.1)\n",
            "Requirement already satisfied: typing-extensions>=4.8.0 in /usr/local/lib/python3.10/dist-packages (from torch>=1.12->brails==4.0) (4.12.2)\n",
            "Requirement already satisfied: sympy in /usr/local/lib/python3.10/dist-packages (from torch>=1.12->brails==4.0) (1.13.3)\n",
            "Requirement already satisfied: networkx in /usr/local/lib/python3.10/dist-packages (from torch>=1.12->brails==4.0) (3.4)\n",
            "Requirement already satisfied: jinja2 in /usr/local/lib/python3.10/dist-packages (from torch>=1.12->brails==4.0) (3.1.4)\n",
            "Requirement already satisfied: fsspec in /usr/local/lib/python3.10/dist-packages (from torch>=1.12->brails==4.0) (2024.6.1)\n",
            "Requirement already satisfied: numpy in /usr/local/lib/python3.10/dist-packages (from torchvision>0.13->brails==4.0) (1.26.4)\n",
            "Requirement already satisfied: wcwidth in /usr/local/lib/python3.10/dist-packages (from ftfy->brails==4.0) (0.2.13)\n",
            "Requirement already satisfied: contourpy>=1.0.1 in /usr/local/lib/python3.10/dist-packages (from matplotlib->brails==4.0) (1.3.0)\n",
            "Requirement already satisfied: cycler>=0.10 in /usr/local/lib/python3.10/dist-packages (from matplotlib->brails==4.0) (0.12.1)\n",
            "Requirement already satisfied: fonttools>=4.22.0 in /usr/local/lib/python3.10/dist-packages (from matplotlib->brails==4.0) (4.54.1)\n",
            "Requirement already satisfied: kiwisolver>=1.0.1 in /usr/local/lib/python3.10/dist-packages (from matplotlib->brails==4.0) (1.4.7)\n",
            "Requirement already satisfied: packaging>=20.0 in /usr/local/lib/python3.10/dist-packages (from matplotlib->brails==4.0) (24.1)\n",
            "Requirement already satisfied: pyparsing>=2.3.1 in /usr/local/lib/python3.10/dist-packages (from matplotlib->brails==4.0) (3.1.4)\n",
            "Requirement already satisfied: python-dateutil>=2.7 in /usr/local/lib/python3.10/dist-packages (from matplotlib->brails==4.0) (2.8.2)\n",
            "Requirement already satisfied: pytz>=2020.1 in /usr/local/lib/python3.10/dist-packages (from pandas->brails==4.0) (2024.2)\n",
            "Requirement already satisfied: tzdata>=2022.7 in /usr/local/lib/python3.10/dist-packages (from pandas->brails==4.0) (2024.2)\n",
            "Requirement already satisfied: tenacity>=6.2.0 in /usr/local/lib/python3.10/dist-packages (from plotly->brails==4.0) (9.0.0)\n",
            "Requirement already satisfied: charset-normalizer<4,>=2 in /usr/local/lib/python3.10/dist-packages (from requests->brails==4.0) (3.4.0)\n",
            "Requirement already satisfied: idna<4,>=2.5 in /usr/local/lib/python3.10/dist-packages (from requests->brails==4.0) (3.10)\n",
            "Requirement already satisfied: urllib3<3,>=1.21.1 in /usr/local/lib/python3.10/dist-packages (from requests->brails==4.0) (2.2.3)\n",
            "Requirement already satisfied: certifi>=2017.4.17 in /usr/local/lib/python3.10/dist-packages (from requests->brails==4.0) (2024.8.30)\n",
            "Requirement already satisfied: defusedxml<0.8.0,>=0.7.1 in /usr/local/lib/python3.10/dist-packages (from supervision->brails==4.0) (0.7.1)\n",
            "Requirement already satisfied: pyyaml>=5.3 in /usr/local/lib/python3.10/dist-packages (from supervision->brails==4.0) (6.0.2)\n",
            "Requirement already satisfied: scipy<2.0.0,>=1.10.0 in /usr/local/lib/python3.10/dist-packages (from supervision->brails==4.0) (1.13.1)\n",
            "Requirement already satisfied: huggingface_hub in /usr/local/lib/python3.10/dist-packages (from timm->brails==4.0) (0.24.7)\n",
            "Requirement already satisfied: safetensors in /usr/local/lib/python3.10/dist-packages (from timm->brails==4.0) (0.4.5)\n",
            "Requirement already satisfied: regex!=2019.12.17 in /usr/local/lib/python3.10/dist-packages (from transformers->brails==4.0) (2024.9.11)\n",
            "Requirement already satisfied: tokenizers<0.20,>=0.19 in /usr/local/lib/python3.10/dist-packages (from transformers->brails==4.0) (0.19.1)\n",
            "Requirement already satisfied: importlib-metadata>=6.6.0 in /usr/local/lib/python3.10/dist-packages (from yapf->brails==4.0) (8.5.0)\n",
            "Requirement already satisfied: platformdirs>=3.5.1 in /usr/local/lib/python3.10/dist-packages (from yapf->brails==4.0) (4.3.6)\n",
            "Requirement already satisfied: tomli>=2.0.1 in /usr/local/lib/python3.10/dist-packages (from yapf->brails==4.0) (2.0.2)\n",
            "Requirement already satisfied: zipp>=3.20 in /usr/local/lib/python3.10/dist-packages (from importlib-metadata>=6.6.0->yapf->brails==4.0) (3.20.2)\n",
            "Requirement already satisfied: six>=1.5 in /usr/local/lib/python3.10/dist-packages (from python-dateutil>=2.7->matplotlib->brails==4.0) (1.16.0)\n",
            "Requirement already satisfied: MarkupSafe>=2.0 in /usr/local/lib/python3.10/dist-packages (from jinja2->torch>=1.12->brails==4.0) (3.0.1)\n",
            "Requirement already satisfied: mpmath<1.4,>=1.1.0 in /usr/local/lib/python3.10/dist-packages (from sympy->torch>=1.12->brails==4.0) (1.3.0)\n"
          ]
        }
      ],
      "source": [
        "pip install git+https://github.com/NHERI-SimCenter/BrailsPlusPlus"
      ]
    },
    {
      "cell_type": "markdown",
      "source": [
        "## **Import ImageSet and Importer Methods of BRAILS++**\n",
        "BRAILS++ offers various Artificial Intelligence-powered modules for predicting building and infrastructure attributes from images, such as the RoofShapeClassifier demonstrated in this example.\n",
        "\n",
        "The `Importer` class provides the main methods to load these modules. The `ImageSet` class and BRAILS++ scrapers dedicated to this purpose can be utilized to get the images needed to predict attributes. This example will illustrate both approaches."
      ],
      "metadata": {
        "id": "sqCVhpcm-ePA"
      }
    },
    {
      "cell_type": "code",
      "source": [
        "from brails.types.image_set import ImageSet\n",
        "from brails.utils.utils import Importer"
      ],
      "metadata": {
        "id": "hKRsVFR4-M1b"
      },
      "execution_count": null,
      "outputs": []
    },
    {
      "cell_type": "markdown",
      "source": [
        "## **Load Street-Level Imagery: (Option 1) Download Imagery by Specifying the Region Name**\n",
        "The `YearBuiltClassifier` class is created to identify the roof types of buildings using satellite or aerial imagery. In this option, BRAILS++ retrieves the required imagery by following the steps below.\n",
        "1. Call the `RegionBoundary` class with the necessary details to specify the region of interest. In this example, bird's eye imagery of buildings in Pinellas County, FL are downloaded. Therefore, the required information includes the `type` of information provided and the `data` itself, which are the `locationName` and `Lake Charles, LA`.\n",
        "2. Download the footprint inventory for the `RegionBoundary` saved in `region_boundary_object` by downloading the Microsoft footprint data through the `MS_FootprintScraper`. The only information required to initialize `MS_FootprintScraper` is the desired output unit for `length`, which, in this case, is `ft` . The output of `MS_FootprintScraper` is an `AssetInventory` saved in `ms_fp_inventory`.\n",
        "3. Get a randomly selected `100` building subset of the footprint inventory obtained using `MS_FootprintScraper`. This subset is obtained using the `get_random_sample` method of an `AssetInventory` object and is stored in `lake_charles_subset`. For this example, the random seed is set to `40` for reproducability of the results.\n",
        "4. Get the satellite imagery for the selected subset\n"
      ],
      "metadata": {
        "id": "WWtc71tt-rbt"
      }
    },
    {
      "cell_type": "code",
      "source": [
        "# Select a region and create its RegionBoundary:\n",
        "region_data = {\"type\": \"locationName\",\n",
        "               \"data\": \"Lake Charles, LA\"}\n",
        "region_boundary_class = importer.get_class(\"RegionBoundary\")\n",
        "region_boundary_object = region_boundary_class(region_data)\n",
        "\n",
        "ms_fp_class = importer.get_class(\"MS_FootprintScraper\")\n",
        "ms_fp_data = {\"length\": \"ft\"}\n",
        "footprint_scraper = ms_fp_class(ms_fp_data)\n",
        "lake_charles_fp = footprint_scraper.get_footprints(region_boundary_object)\n",
        "\n",
        "# Subsample from the extracted assets to keep the image downloading step quick.\n",
        "# Here, we are randomly sampling 20 buildings using a random seed value of 40:\n",
        "lake_charles_fp_subset = lake_charles_fp.get_random_sample(100, 40)\n",
        "\n",
        "# Get aerial imagery for the selected subset using GoogleSatellite:\n",
        "google_street_class = importer.get_class(\"GoogleStreet\")\n",
        "google_street = google_street_class()\n",
        "images_street = google_street.get_images(\n",
        "    lake_charles_fp_subset, \"tmp/street/\")"
      ],
      "metadata": {
        "id": "nAYEbgmj6GxA"
      },
      "execution_count": null,
      "outputs": []
    },
    {
      "cell_type": "markdown",
      "source": [
        "## **Predict Building Occupancies Using FacadeParser Module**\n",
        "`FacadeParser` includes a pre-trained EfficientNet_V2_M model that has been trained on a custom dataset of 100,000 images. This model is capable of predicting building height, roof pitch, foundation height, and window density."
      ],
      "metadata": {
        "id": "-Ce9IL05AMqD"
      }
    },
    {
      "cell_type": "code",
      "source": [
        "importer = Importer()\n",
        "facade_parser_class = importer.get_class('FacadeParser')\n",
        "facade_parser = facade_parser_class()\n",
        "predictions = facade_parser.predict(images_street)"
      ],
      "metadata": {
        "id": "XWG53_xtFa_F"
      },
      "execution_count": null,
      "outputs": []
    },
    {
      "cell_type": "markdown",
      "source": [
        "## **Load Street Imagery**\n",
        "The `facade_parser` class is designed to identify roof types of buildings based on aerial imagery. In this example, we will load images from the `examples/image_processor/images/street_easy` directory of BRAILS++ to showcase how to use the `facade_parser`.\n",
        "\n",
        "To load these images, you first need to initialize an `ImageSet` object, which will be assigned to aerial_images. This object can then load the target images by scanning the specified directory using the set_directory method. The second argument in set_directory is necessary for loading the images; otherwise, the default behavior of `ImageSet` is to simply set the directory to the string value provided in the first argument (in this case, `images/street`)."
      ],
      "metadata": {
        "id": "JunwEpGi6MWg"
      }
    },
    {
      "cell_type": "markdown",
      "source": [
        "## **Retrain Default FacadeParser Module**"
      ],
      "metadata": {
        "id": "oKSebGtqGEb_"
      }
    },
    {
      "cell_type": "code",
      "source": [
        "facade_parser.retrain(images_street)"
      ],
      "metadata": {
        "id": "dNLUWp3IEq74"
      },
      "execution_count": null,
      "outputs": []
    }
  ]
}