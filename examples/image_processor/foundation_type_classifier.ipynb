{
 "cells": [
  {
   "cell_type": "markdown",
   "metadata": {
    "colab_type": "text",
    "id": "view-in-github"
   },
   "source": [
    "<span style=\"display: inline-block; margin-right: 10px; vertical-align: middle; border: 1px solid #F8F8F8; border-radius: 8px; padding: 5px; background-color: #F8F8F8;\">\n",
    "    <a href=\"https://www.designsafe-ci.org/workspace/jupyter-lab-hpc-cuda-ds?appVersion=1.1.1\" target=\"_parent\" style=\"text-decoration: none;\">\n",
    "        <span style=\"font-family: Helvetica, sans-serif; font-size: 13px; color: #565656; margin-right: 5px; vertical-align: middle; font-weight: 600;\">Open in</span>\n",
    "        <img src=\"https://www.designsafe-ci.org/media/filer_public/2d/d3/2dd37fbf-289e-49cf-9c1a-879c864c4e17/nsf_nheri-ds.png\" alt=\"Open in DesignSafe\" style=\"width: 100px; height: auto; vertical-align: middle;\">\n",
    "    </a>\n",
    "</span>\n",
    "\n",
    "<span style=\"display: inline-block; margin-right: 10px; vertical-align: middle;\">\n",
    "    <a href=\"https://colab.research.google.com/github/NHERI-SimCenter/BrailsPlusPlus/blob/master/examples/image_processor/foundation_type_classifier.ipynb\" target=\"_parent\">\n",
    "        <img src=\"https://colab.research.google.com/assets/colab-badge.svg\" alt=\"Open In Colab\" style=\"width: 130px; height: auto; vertical-align: middle;\"/>\n",
    "    </a>\n",
    "</span>\n",
    "\n",
    "<span style=\"display: inline-block; vertical-align: middle; margin-top: 6px;\">\n",
    "    <a target=\"_blank\" href=\"https://lightning.ai/new?repo_url=https%3A//github.com/NHERI-SimCenter/BrailsPlusPlus/blob/master/examples/image_processor/foundation_type_classifier.ipynb\">\n",
    "        <img src=\"https://pl-bolts-doc-images.s3.us-east-2.amazonaws.com/app-2/studio-badge.svg\" alt=\"Open in Studio\" style=\"width: 120px; height: auto; vertical-align: middle;\"/>\n",
    "    </a>\n",
    "</span>"
   ]
  },
  {
   "cell_type": "markdown",
   "metadata": {
    "id": "aFu-PB0j9_-s"
   },
   "source": [
    "## **Install BRAILS++**\n",
    "BRAILS++ is not yet available on PyPi. The following line installs the latest version from the GitHub repository using `pip`."
   ]
  },
  {
   "cell_type": "code",
   "execution_count": 1,
   "metadata": {
    "colab": {
     "base_uri": "https://localhost:8080/"
    },
    "id": "KkujirTi9oZu",
    "outputId": "56ef57fa-739d-4cea-f16f-06768c53133a"
   },
   "outputs": [
    {
     "name": "stdout",
     "output_type": "stream",
     "text": [
      "Collecting git+https://github.com/bacetiner/BrailsPlusPlus\n",
      "  Cloning https://github.com/bacetiner/BrailsPlusPlus to /tmp/pip-req-build-tkk_xs5z\n",
      "  Running command git clone --filter=blob:none --quiet https://github.com/bacetiner/BrailsPlusPlus /tmp/pip-req-build-tkk_xs5z\n",
      "  Resolved https://github.com/bacetiner/BrailsPlusPlus to commit ab696f6b0ede68c9488ed253403f87d8f7c5ff61\n",
      "  Preparing metadata (setup.py) ... \u001b[?25ldone\n",
      "\u001b[?25hRequirement already satisfied: addict in /home/bacetiner/anaconda3/envs/brails_plus/lib/python3.11/site-packages (from brails==4.0) (2.4.0)\n",
      "Requirement already satisfied: Cython in /home/bacetiner/anaconda3/envs/brails_plus/lib/python3.11/site-packages (from brails==4.0) (3.0.11)\n",
      "Requirement already satisfied: ftfy in /home/bacetiner/anaconda3/envs/brails_plus/lib/python3.11/site-packages (from brails==4.0) (6.2.3)\n",
      "Requirement already satisfied: matplotlib in /home/bacetiner/anaconda3/envs/brails_plus/lib/python3.11/site-packages (from brails==4.0) (3.9.2)\n",
      "Requirement already satisfied: pillow in /home/bacetiner/anaconda3/envs/brails_plus/lib/python3.11/site-packages (from brails==4.0) (10.4.0)\n",
      "Requirement already satisfied: plotly in /home/bacetiner/anaconda3/envs/brails_plus/lib/python3.11/site-packages (from brails==4.0) (5.24.1)\n",
      "Requirement already satisfied: pycocotools in /home/bacetiner/anaconda3/envs/brails_plus/lib/python3.11/site-packages (from brails==4.0) (2.0.8)\n",
      "Requirement already satisfied: requests in /home/bacetiner/anaconda3/envs/brails_plus/lib/python3.11/site-packages (from brails==4.0) (2.32.3)\n",
      "Requirement already satisfied: seaborn in /home/bacetiner/anaconda3/envs/brails_plus/lib/python3.11/site-packages (from brails==4.0) (0.13.2)\n",
      "Requirement already satisfied: shapely in /home/bacetiner/anaconda3/envs/brails_plus/lib/python3.11/site-packages (from brails==4.0) (2.0.6)\n",
      "Requirement already satisfied: supervision in /home/bacetiner/anaconda3/envs/brails_plus/lib/python3.11/site-packages (from brails==4.0) (0.24.0)\n",
      "Requirement already satisfied: timm in /home/bacetiner/anaconda3/envs/brails_plus/lib/python3.11/site-packages (from brails==4.0) (1.0.9)\n",
      "Requirement already satisfied: tensorboard in /home/bacetiner/anaconda3/envs/brails_plus/lib/python3.11/site-packages (from brails==4.0) (2.18.0)\n",
      "Requirement already satisfied: tensorboardX in /home/bacetiner/anaconda3/envs/brails_plus/lib/python3.11/site-packages (from brails==4.0) (2.6.2.2)\n",
      "Requirement already satisfied: torch in /home/bacetiner/anaconda3/envs/brails_plus/lib/python3.11/site-packages (from brails==4.0) (2.4.1)\n",
      "Requirement already satisfied: torchvision in /home/bacetiner/anaconda3/envs/brails_plus/lib/python3.11/site-packages (from brails==4.0) (0.19.1)\n",
      "Requirement already satisfied: transformers in /home/bacetiner/anaconda3/envs/brails_plus/lib/python3.11/site-packages (from brails==4.0) (4.45.2)\n",
      "Requirement already satisfied: typing in /home/bacetiner/anaconda3/envs/brails_plus/lib/python3.11/site-packages (from brails==4.0) (3.7.4.3)\n",
      "Requirement already satisfied: wget in /home/bacetiner/anaconda3/envs/brails_plus/lib/python3.11/site-packages (from brails==4.0) (3.2)\n",
      "Requirement already satisfied: yapf in /home/bacetiner/anaconda3/envs/brails_plus/lib/python3.11/site-packages (from brails==4.0) (0.40.2)\n",
      "Requirement already satisfied: yacs in /home/bacetiner/anaconda3/envs/brails_plus/lib/python3.11/site-packages (from brails==4.0) (0.1.8)\n",
      "Requirement already satisfied: webcolors in /home/bacetiner/anaconda3/envs/brails_plus/lib/python3.11/site-packages (from brails==4.0) (24.8.0)\n",
      "Requirement already satisfied: opencv-python in /home/bacetiner/anaconda3/envs/brails_plus/lib/python3.11/site-packages (from brails==4.0) (4.10.0.84)\n",
      "Requirement already satisfied: pandas in /home/bacetiner/anaconda3/envs/brails_plus/lib/python3.11/site-packages (from brails==4.0) (2.2.3)\n",
      "Requirement already satisfied: wcwidth<0.3.0,>=0.2.12 in /home/bacetiner/anaconda3/envs/brails_plus/lib/python3.11/site-packages (from ftfy->brails==4.0) (0.2.13)\n",
      "Requirement already satisfied: contourpy>=1.0.1 in /home/bacetiner/anaconda3/envs/brails_plus/lib/python3.11/site-packages (from matplotlib->brails==4.0) (1.3.0)\n",
      "Requirement already satisfied: cycler>=0.10 in /home/bacetiner/anaconda3/envs/brails_plus/lib/python3.11/site-packages (from matplotlib->brails==4.0) (0.12.1)\n",
      "Requirement already satisfied: fonttools>=4.22.0 in /home/bacetiner/anaconda3/envs/brails_plus/lib/python3.11/site-packages (from matplotlib->brails==4.0) (4.54.1)\n",
      "Requirement already satisfied: kiwisolver>=1.3.1 in /home/bacetiner/anaconda3/envs/brails_plus/lib/python3.11/site-packages (from matplotlib->brails==4.0) (1.4.7)\n",
      "Requirement already satisfied: numpy>=1.23 in /home/bacetiner/anaconda3/envs/brails_plus/lib/python3.11/site-packages (from matplotlib->brails==4.0) (2.1.2)\n",
      "Requirement already satisfied: packaging>=20.0 in /home/bacetiner/anaconda3/envs/brails_plus/lib/python3.11/site-packages (from matplotlib->brails==4.0) (24.1)\n",
      "Requirement already satisfied: pyparsing>=2.3.1 in /home/bacetiner/anaconda3/envs/brails_plus/lib/python3.11/site-packages (from matplotlib->brails==4.0) (3.1.4)\n",
      "Requirement already satisfied: python-dateutil>=2.7 in /home/bacetiner/anaconda3/envs/brails_plus/lib/python3.11/site-packages (from matplotlib->brails==4.0) (2.9.0.post0)\n",
      "Requirement already satisfied: pytz>=2020.1 in /home/bacetiner/anaconda3/envs/brails_plus/lib/python3.11/site-packages (from pandas->brails==4.0) (2024.2)\n",
      "Requirement already satisfied: tzdata>=2022.7 in /home/bacetiner/anaconda3/envs/brails_plus/lib/python3.11/site-packages (from pandas->brails==4.0) (2024.2)\n",
      "Requirement already satisfied: tenacity>=6.2.0 in /home/bacetiner/anaconda3/envs/brails_plus/lib/python3.11/site-packages (from plotly->brails==4.0) (9.0.0)\n",
      "Requirement already satisfied: charset-normalizer<4,>=2 in /home/bacetiner/anaconda3/envs/brails_plus/lib/python3.11/site-packages (from requests->brails==4.0) (3.3.2)\n",
      "Requirement already satisfied: idna<4,>=2.5 in /home/bacetiner/anaconda3/envs/brails_plus/lib/python3.11/site-packages (from requests->brails==4.0) (3.7)\n",
      "Requirement already satisfied: urllib3<3,>=1.21.1 in /home/bacetiner/anaconda3/envs/brails_plus/lib/python3.11/site-packages (from requests->brails==4.0) (2.2.3)\n",
      "Requirement already satisfied: certifi>=2017.4.17 in /home/bacetiner/anaconda3/envs/brails_plus/lib/python3.11/site-packages (from requests->brails==4.0) (2024.8.30)\n",
      "Requirement already satisfied: defusedxml<0.8.0,>=0.7.1 in /home/bacetiner/anaconda3/envs/brails_plus/lib/python3.11/site-packages (from supervision->brails==4.0) (0.7.1)\n",
      "Requirement already satisfied: pyyaml>=5.3 in /home/bacetiner/anaconda3/envs/brails_plus/lib/python3.11/site-packages (from supervision->brails==4.0) (6.0.2)\n",
      "Requirement already satisfied: scipy<2.0.0,>=1.10.0 in /home/bacetiner/anaconda3/envs/brails_plus/lib/python3.11/site-packages (from supervision->brails==4.0) (1.14.1)\n",
      "Requirement already satisfied: absl-py>=0.4 in /home/bacetiner/anaconda3/envs/brails_plus/lib/python3.11/site-packages (from tensorboard->brails==4.0) (2.1.0)\n",
      "Requirement already satisfied: grpcio>=1.48.2 in /home/bacetiner/anaconda3/envs/brails_plus/lib/python3.11/site-packages (from tensorboard->brails==4.0) (1.67.1)\n",
      "Requirement already satisfied: markdown>=2.6.8 in /home/bacetiner/anaconda3/envs/brails_plus/lib/python3.11/site-packages (from tensorboard->brails==4.0) (3.7)\n",
      "Requirement already satisfied: protobuf!=4.24.0,>=3.19.6 in /home/bacetiner/anaconda3/envs/brails_plus/lib/python3.11/site-packages (from tensorboard->brails==4.0) (5.28.3)\n",
      "Requirement already satisfied: setuptools>=41.0.0 in /home/bacetiner/anaconda3/envs/brails_plus/lib/python3.11/site-packages (from tensorboard->brails==4.0) (75.1.0)\n",
      "Requirement already satisfied: six>1.9 in /home/bacetiner/anaconda3/envs/brails_plus/lib/python3.11/site-packages (from tensorboard->brails==4.0) (1.16.0)\n",
      "Requirement already satisfied: tensorboard-data-server<0.8.0,>=0.7.0 in /home/bacetiner/anaconda3/envs/brails_plus/lib/python3.11/site-packages (from tensorboard->brails==4.0) (0.7.2)\n",
      "Requirement already satisfied: werkzeug>=1.0.1 in /home/bacetiner/anaconda3/envs/brails_plus/lib/python3.11/site-packages (from tensorboard->brails==4.0) (3.1.3)\n",
      "Requirement already satisfied: huggingface_hub in /home/bacetiner/anaconda3/envs/brails_plus/lib/python3.11/site-packages (from timm->brails==4.0) (0.25.2)\n",
      "Requirement already satisfied: safetensors in /home/bacetiner/anaconda3/envs/brails_plus/lib/python3.11/site-packages (from timm->brails==4.0) (0.4.5)\n",
      "Requirement already satisfied: filelock in /home/bacetiner/anaconda3/envs/brails_plus/lib/python3.11/site-packages (from torch->brails==4.0) (3.16.1)\n",
      "Requirement already satisfied: typing-extensions>=4.8.0 in /home/bacetiner/anaconda3/envs/brails_plus/lib/python3.11/site-packages (from torch->brails==4.0) (4.12.2)\n",
      "Requirement already satisfied: sympy in /home/bacetiner/anaconda3/envs/brails_plus/lib/python3.11/site-packages (from torch->brails==4.0) (1.13.3)\n",
      "Requirement already satisfied: networkx in /home/bacetiner/anaconda3/envs/brails_plus/lib/python3.11/site-packages (from torch->brails==4.0) (3.3)\n",
      "Requirement already satisfied: jinja2 in /home/bacetiner/anaconda3/envs/brails_plus/lib/python3.11/site-packages (from torch->brails==4.0) (3.1.4)\n",
      "Requirement already satisfied: fsspec in /home/bacetiner/anaconda3/envs/brails_plus/lib/python3.11/site-packages (from torch->brails==4.0) (2024.9.0)\n",
      "Requirement already satisfied: nvidia-cuda-nvrtc-cu12==12.1.105 in /home/bacetiner/anaconda3/envs/brails_plus/lib/python3.11/site-packages (from torch->brails==4.0) (12.1.105)\n",
      "Requirement already satisfied: nvidia-cuda-runtime-cu12==12.1.105 in /home/bacetiner/anaconda3/envs/brails_plus/lib/python3.11/site-packages (from torch->brails==4.0) (12.1.105)\n",
      "Requirement already satisfied: nvidia-cuda-cupti-cu12==12.1.105 in /home/bacetiner/anaconda3/envs/brails_plus/lib/python3.11/site-packages (from torch->brails==4.0) (12.1.105)\n",
      "Requirement already satisfied: nvidia-cudnn-cu12==9.1.0.70 in /home/bacetiner/anaconda3/envs/brails_plus/lib/python3.11/site-packages (from torch->brails==4.0) (9.1.0.70)\n",
      "Requirement already satisfied: nvidia-cublas-cu12==12.1.3.1 in /home/bacetiner/anaconda3/envs/brails_plus/lib/python3.11/site-packages (from torch->brails==4.0) (12.1.3.1)\n",
      "Requirement already satisfied: nvidia-cufft-cu12==11.0.2.54 in /home/bacetiner/anaconda3/envs/brails_plus/lib/python3.11/site-packages (from torch->brails==4.0) (11.0.2.54)\n",
      "Requirement already satisfied: nvidia-curand-cu12==10.3.2.106 in /home/bacetiner/anaconda3/envs/brails_plus/lib/python3.11/site-packages (from torch->brails==4.0) (10.3.2.106)\n",
      "Requirement already satisfied: nvidia-cusolver-cu12==11.4.5.107 in /home/bacetiner/anaconda3/envs/brails_plus/lib/python3.11/site-packages (from torch->brails==4.0) (11.4.5.107)\n",
      "Requirement already satisfied: nvidia-cusparse-cu12==12.1.0.106 in /home/bacetiner/anaconda3/envs/brails_plus/lib/python3.11/site-packages (from torch->brails==4.0) (12.1.0.106)\n",
      "Requirement already satisfied: nvidia-nccl-cu12==2.20.5 in /home/bacetiner/anaconda3/envs/brails_plus/lib/python3.11/site-packages (from torch->brails==4.0) (2.20.5)\n",
      "Requirement already satisfied: nvidia-nvtx-cu12==12.1.105 in /home/bacetiner/anaconda3/envs/brails_plus/lib/python3.11/site-packages (from torch->brails==4.0) (12.1.105)\n",
      "Requirement already satisfied: triton==3.0.0 in /home/bacetiner/anaconda3/envs/brails_plus/lib/python3.11/site-packages (from torch->brails==4.0) (3.0.0)\n",
      "Requirement already satisfied: nvidia-nvjitlink-cu12 in /home/bacetiner/anaconda3/envs/brails_plus/lib/python3.11/site-packages (from nvidia-cusolver-cu12==11.4.5.107->torch->brails==4.0) (12.6.77)\n",
      "Requirement already satisfied: regex!=2019.12.17 in /home/bacetiner/anaconda3/envs/brails_plus/lib/python3.11/site-packages (from transformers->brails==4.0) (2024.9.11)\n",
      "Requirement already satisfied: tokenizers<0.21,>=0.20 in /home/bacetiner/anaconda3/envs/brails_plus/lib/python3.11/site-packages (from transformers->brails==4.0) (0.20.1)\n",
      "Requirement already satisfied: tqdm>=4.27 in /home/bacetiner/anaconda3/envs/brails_plus/lib/python3.11/site-packages (from transformers->brails==4.0) (4.66.5)\n",
      "Requirement already satisfied: importlib-metadata>=6.6.0 in /home/bacetiner/anaconda3/envs/brails_plus/lib/python3.11/site-packages (from yapf->brails==4.0) (7.0.1)\n",
      "Requirement already satisfied: platformdirs>=3.5.1 in /home/bacetiner/anaconda3/envs/brails_plus/lib/python3.11/site-packages (from yapf->brails==4.0) (4.3.6)\n",
      "Requirement already satisfied: tomli>=2.0.1 in /home/bacetiner/anaconda3/envs/brails_plus/lib/python3.11/site-packages (from yapf->brails==4.0) (2.0.1)\n",
      "Requirement already satisfied: zipp>=0.5 in /home/bacetiner/anaconda3/envs/brails_plus/lib/python3.11/site-packages (from importlib-metadata>=6.6.0->yapf->brails==4.0) (3.20.2)\n",
      "Requirement already satisfied: MarkupSafe>=2.1.1 in /home/bacetiner/anaconda3/envs/brails_plus/lib/python3.11/site-packages (from werkzeug>=1.0.1->tensorboard->brails==4.0) (3.0.1)\n",
      "Requirement already satisfied: mpmath<1.4,>=1.1.0 in /home/bacetiner/anaconda3/envs/brails_plus/lib/python3.11/site-packages (from sympy->torch->brails==4.0) (1.3.0)\n",
      "Building wheels for collected packages: brails\n",
      "  Building wheel for brails (setup.py) ... \u001b[?25ldone\n",
      "\u001b[?25h  Created wheel for brails: filename=brails-4.0-py3-none-any.whl size=2020188 sha256=b30ed1d18b406411da1079cff6b79a839320f0dbc5e762c435474d58f524448b\n",
      "  Stored in directory: /tmp/pip-ephem-wheel-cache-ziaf1xg9/wheels/65/0b/aa/a9113e0557b48ca6dfe52e54ff2df5af4aa9945a3736b53797\n",
      "Successfully built brails\n",
      "Installing collected packages: brails\n",
      "Successfully installed brails-4.0\n",
      "Note: you may need to restart the kernel to use updated packages.\n"
     ]
    }
   ],
   "source": [
    "!pip install git+https://github.com/NHERI-SimCenter/BrailsPlusPlus"
   ]
  },
  {
   "cell_type": "markdown",
   "metadata": {
    "id": "sqCVhpcm-ePA"
   },
   "source": [
    "## **Import ImageSet and Importer Methods of BRAILS++**\n",
    "BRAILS++ offers various Artificial Intelligence-powered modules for predicting building and infrastructure attributes from images, such as the `FoundationElevationClassifier` demonstrated in this example.\n",
    "\n",
    "The `Importer` class provides the main methods to load these modules. To gather the images needed for attribute prediction, users can use the ImageSet class or BRAILS++ scrapers, which facilitate automated asset geometry and image retrieval. This example illustrates both methods for sourcing imagery for use with the `FoundationElevationClassifier` module."
   ]
  },
  {
   "cell_type": "code",
   "execution_count": 2,
   "metadata": {
    "id": "hKRsVFR4-M1b"
   },
   "outputs": [],
   "source": [
    "from brails import Importer\n",
    "from brails.types.image_set import ImageSet"
   ]
  },
  {
   "cell_type": "markdown",
   "metadata": {},
   "source": [
    "## **Define Google API Key**\n",
    "You need a Google API Key with Street View Static API enabled to download the Google Street View imagery required for this example. Please follow this [link](https://support.google.com/googleapi/answer/6158862?hl=en) for instructions on setting up a Google API key."
   ]
  },
  {
   "cell_type": "code",
   "execution_count": 3,
   "metadata": {},
   "outputs": [],
   "source": [
    "API_KEY = 'YOUR-API-KEY-HERE'"
   ]
  },
  {
   "cell_type": "markdown",
   "metadata": {
    "id": "WWtc71tt-rbt"
   },
   "source": [
    "## **Load Street-Level Imagery: (Option 1) Download Imagery by Specifying the Region Name**\n",
    "The `FoundationElevationClassifier` class identifies if a building is elevated or not from street-level imagery. In this option, BRAILS++ retrieves the required imagery by following the steps below.\n",
    "1. <strong>Call the `RegionBoundary` class with the necessary details to specify the region of interest.</strong> In this example, street-level imagery of buildings in Fort Myers, FL, are downloaded. Therefore, the required information includes the `type` of information provided and the `data` itself, which are the `locationName` and `Fort Myers, FL`.\n",
    "\n",
    "2. <strong>Download the footprint inventory for the `RegionBoundary` saved in `region_boundary_object` by downloading the OpenStreetMap footprint data through the `OSM_FootprintScraper`.</strong> The only information required to initialize `OSM_FootprintScraper` is the desired output unit for `length`, which, in this case, is `ft`. The output of `OSM_FootprintScraper` is an `AssetInventory` saved in `ft_myers_fp`.\n",
    "\n",
    "3. <strong>Get a randomly selected `50` building subset of the footprint inventory obtained using `OSM_FootprintScraper`. </strong> This subset is obtained using the `get_random_sample` method of an `AssetInventory` object and is stored in `ft_myers_fp_subset`. For this example, the random seed is set to `5` for reproducibility of the results.\n",
    "\n",
    "4. <strong>Get the street-level imagery for the selected subset using `get_images` method of `GoogleStreetview` module.</strong> `get_images` requires two inputs 1) AssetInventory for which the images will be retrieved (in this example, `ft_myers_fp_subset`) and 2) the path to the folder where the retrieved images will be saved, which in this case is `tmp/street/`."
   ]
  },
  {
   "cell_type": "code",
   "execution_count": 4,
   "metadata": {
    "id": "nAYEbgmj6GxA"
   },
   "outputs": [
    {
     "name": "stdout",
     "output_type": "stream",
     "text": [
      "\n",
      "Searching for Fort Myers Beach, FL...\n",
      "Found Fort Myers Beach, Lee County, Florida, 33931, United States\n",
      "\n",
      "Found a total of 2768 building footprints in Fort Myers Beach\n"
     ]
    },
    {
     "name": "stderr",
     "output_type": "stream",
     "text": [
      "INFO:brails.scrapers.google_streetview.google_streetview:\n",
      "Images will be saved to: /home/bacetiner/Documents/BrailsPlusPlus/examples/image_processor/tmp/street\n",
      "\n",
      "Obtaining street-level imagery:   0%|                                                                                                                            | 0/50 [00:00<?, ?it/s]INFO:brails.scrapers.google_streetview.google_streetview:No street-level imagery found for the building located at 26.4136, -81.8942\n",
      "Obtaining street-level imagery:   2%|██▎                                                                                                                 | 1/50 [00:00<00:07,  6.39it/s]INFO:brails.scrapers.google_streetview.google_streetview:No street-level imagery found for the building located at 26.4135, -81.8969\n",
      "Obtaining street-level imagery:  22%|█████████████████████████▎                                                                                         | 11/50 [00:02<00:04,  9.17it/s]INFO:brails.scrapers.google_streetview.google_streetview:No street-level imagery found for the building located at 26.4570, -81.9596\n",
      "Obtaining street-level imagery: 100%|███████████████████████████████████████████████████████████████████████████████████████████████████████████████████| 50/50 [00:06<00:00,  7.19it/s]\n"
     ]
    }
   ],
   "source": [
    "# Select a region and create its RegionBoundary:\n",
    "importer = Importer()\n",
    "\n",
    "region_data = {\"type\": \"locationName\",\n",
    "               \"data\": \"Fort Myers Beach, FL\"}\n",
    "region_boundary_class = importer.get_class(\"RegionBoundary\")\n",
    "region_boundary_object = region_boundary_class(region_data)\n",
    "\n",
    "osm_fp_class = importer.get_class(\"OSM_FootprintScraper\")\n",
    "osm_fp_data = {\"length\": \"ft\"}\n",
    "footprint_scraper = osm_fp_class(osm_fp_data)\n",
    "ft_myers_fp = footprint_scraper.get_footprints(region_boundary_object)\n",
    "\n",
    "# Subsample from the extracted assets to keep the image downloading step quick.\n",
    "# Here, we are randomly sampling 50 buildings using a random seed value of 5:\n",
    "ft_myers_fp_subset = ft_myers_fp.get_random_sample(50, 5)\n",
    "\n",
    "# Get aerial imagery for the selected subset using GoogleSatellite:\n",
    "google_street_class = importer.get_class(\"GoogleStreetview\")\n",
    "google_street = google_street_class({'apiKey': API_KEY})\n",
    "images_street = google_street.get_images(\n",
    "    ft_myers_fp_subset, \"tmp/street/\")"
   ]
  },
  {
   "cell_type": "markdown",
   "metadata": {
    "id": "-Ce9IL05AMqD"
   },
   "source": [
    "## **Predict If Building Foundations Are Elevated Using FoundationElevationClassifier Module**\n",
    "`FoundationElevationClassifier` includes a pre-trained ResNet-50 model that has been trained on a custom dataset of 8,000 images. This model is capable of classifying street-level imagery of buildings into two classes: `Elevated`, and `Non-elevated`."
   ]
  },
  {
   "cell_type": "code",
   "execution_count": 5,
   "metadata": {
    "id": "XWG53_xtFa_F"
   },
   "outputs": [
    {
     "name": "stderr",
     "output_type": "stream",
     "text": [
      "/home/bacetiner/anaconda3/envs/brails_plus/lib/python3.11/site-packages/brails/processors/foundation_classifier/foundation_classifier.py:343: FutureWarning: You are using `torch.load` with `weights_only=False` (the current default value), which uses the default pickle module implicitly. It is possible to construct malicious pickle data which will execute arbitrary code during unpickling (See https://github.com/pytorch/pytorch/blob/main/SECURITY.md#untrusted-models for more details). In a future release, the default value for `weights_only` will be flipped to `True`. This limits the functions that could be executed during unpickling. Arbitrary objects will no longer be allowed to be loaded via this mode unless they are explicitly allowlisted by the user via `torch.serialization.add_safe_globals`. We recommend you start setting `weights_only=True` for any use case where you don't have full control of the loaded file. Please open an issue on GitHub for any issues related to this experimental feature.\n",
      "  state_dict = torch.load(self.model_file)\n"
     ]
    },
    {
     "name": "stdout",
     "output_type": "stream",
     "text": [
      "Missing or unexpected keys: ['conv1.weight', 'bn1.weight', 'bn1.bias', 'bn1.running_mean', 'bn1.running_var', 'layer1.0.conv1.weight', 'layer1.0.bn1.weight', 'layer1.0.bn1.bias', 'layer1.0.bn1.running_mean', 'layer1.0.bn1.running_var', 'layer1.0.conv2.weight', 'layer1.0.bn2.weight', 'layer1.0.bn2.bias', 'layer1.0.bn2.running_mean', 'layer1.0.bn2.running_var', 'layer1.0.conv3.weight', 'layer1.0.bn3.weight', 'layer1.0.bn3.bias', 'layer1.0.bn3.running_mean', 'layer1.0.bn3.running_var', 'layer1.0.downsample.0.weight', 'layer1.0.downsample.1.weight', 'layer1.0.downsample.1.bias', 'layer1.0.downsample.1.running_mean', 'layer1.0.downsample.1.running_var', 'layer1.1.conv1.weight', 'layer1.1.bn1.weight', 'layer1.1.bn1.bias', 'layer1.1.bn1.running_mean', 'layer1.1.bn1.running_var', 'layer1.1.conv2.weight', 'layer1.1.bn2.weight', 'layer1.1.bn2.bias', 'layer1.1.bn2.running_mean', 'layer1.1.bn2.running_var', 'layer1.1.conv3.weight', 'layer1.1.bn3.weight', 'layer1.1.bn3.bias', 'layer1.1.bn3.running_mean', 'layer1.1.bn3.running_var', 'layer1.2.conv1.weight', 'layer1.2.bn1.weight', 'layer1.2.bn1.bias', 'layer1.2.bn1.running_mean', 'layer1.2.bn1.running_var', 'layer1.2.conv2.weight', 'layer1.2.bn2.weight', 'layer1.2.bn2.bias', 'layer1.2.bn2.running_mean', 'layer1.2.bn2.running_var', 'layer1.2.conv3.weight', 'layer1.2.bn3.weight', 'layer1.2.bn3.bias', 'layer1.2.bn3.running_mean', 'layer1.2.bn3.running_var', 'layer2.0.conv1.weight', 'layer2.0.bn1.weight', 'layer2.0.bn1.bias', 'layer2.0.bn1.running_mean', 'layer2.0.bn1.running_var', 'layer2.0.conv2.weight', 'layer2.0.bn2.weight', 'layer2.0.bn2.bias', 'layer2.0.bn2.running_mean', 'layer2.0.bn2.running_var', 'layer2.0.conv3.weight', 'layer2.0.bn3.weight', 'layer2.0.bn3.bias', 'layer2.0.bn3.running_mean', 'layer2.0.bn3.running_var', 'layer2.0.downsample.0.weight', 'layer2.0.downsample.1.weight', 'layer2.0.downsample.1.bias', 'layer2.0.downsample.1.running_mean', 'layer2.0.downsample.1.running_var', 'layer2.1.conv1.weight', 'layer2.1.bn1.weight', 'layer2.1.bn1.bias', 'layer2.1.bn1.running_mean', 'layer2.1.bn1.running_var', 'layer2.1.conv2.weight', 'layer2.1.bn2.weight', 'layer2.1.bn2.bias', 'layer2.1.bn2.running_mean', 'layer2.1.bn2.running_var', 'layer2.1.conv3.weight', 'layer2.1.bn3.weight', 'layer2.1.bn3.bias', 'layer2.1.bn3.running_mean', 'layer2.1.bn3.running_var', 'layer2.2.conv1.weight', 'layer2.2.bn1.weight', 'layer2.2.bn1.bias', 'layer2.2.bn1.running_mean', 'layer2.2.bn1.running_var', 'layer2.2.conv2.weight', 'layer2.2.bn2.weight', 'layer2.2.bn2.bias', 'layer2.2.bn2.running_mean', 'layer2.2.bn2.running_var', 'layer2.2.conv3.weight', 'layer2.2.bn3.weight', 'layer2.2.bn3.bias', 'layer2.2.bn3.running_mean', 'layer2.2.bn3.running_var', 'layer2.3.conv1.weight', 'layer2.3.bn1.weight', 'layer2.3.bn1.bias', 'layer2.3.bn1.running_mean', 'layer2.3.bn1.running_var', 'layer2.3.conv2.weight', 'layer2.3.bn2.weight', 'layer2.3.bn2.bias', 'layer2.3.bn2.running_mean', 'layer2.3.bn2.running_var', 'layer2.3.conv3.weight', 'layer2.3.bn3.weight', 'layer2.3.bn3.bias', 'layer2.3.bn3.running_mean', 'layer2.3.bn3.running_var', 'layer3.0.conv1.weight', 'layer3.0.bn1.weight', 'layer3.0.bn1.bias', 'layer3.0.bn1.running_mean', 'layer3.0.bn1.running_var', 'layer3.0.conv2.weight', 'layer3.0.bn2.weight', 'layer3.0.bn2.bias', 'layer3.0.bn2.running_mean', 'layer3.0.bn2.running_var', 'layer3.0.conv3.weight', 'layer3.0.bn3.weight', 'layer3.0.bn3.bias', 'layer3.0.bn3.running_mean', 'layer3.0.bn3.running_var', 'layer3.0.downsample.0.weight', 'layer3.0.downsample.1.weight', 'layer3.0.downsample.1.bias', 'layer3.0.downsample.1.running_mean', 'layer3.0.downsample.1.running_var', 'layer3.1.conv1.weight', 'layer3.1.bn1.weight', 'layer3.1.bn1.bias', 'layer3.1.bn1.running_mean', 'layer3.1.bn1.running_var', 'layer3.1.conv2.weight', 'layer3.1.bn2.weight', 'layer3.1.bn2.bias', 'layer3.1.bn2.running_mean', 'layer3.1.bn2.running_var', 'layer3.1.conv3.weight', 'layer3.1.bn3.weight', 'layer3.1.bn3.bias', 'layer3.1.bn3.running_mean', 'layer3.1.bn3.running_var', 'layer3.2.conv1.weight', 'layer3.2.bn1.weight', 'layer3.2.bn1.bias', 'layer3.2.bn1.running_mean', 'layer3.2.bn1.running_var', 'layer3.2.conv2.weight', 'layer3.2.bn2.weight', 'layer3.2.bn2.bias', 'layer3.2.bn2.running_mean', 'layer3.2.bn2.running_var', 'layer3.2.conv3.weight', 'layer3.2.bn3.weight', 'layer3.2.bn3.bias', 'layer3.2.bn3.running_mean', 'layer3.2.bn3.running_var', 'layer3.3.conv1.weight', 'layer3.3.bn1.weight', 'layer3.3.bn1.bias', 'layer3.3.bn1.running_mean', 'layer3.3.bn1.running_var', 'layer3.3.conv2.weight', 'layer3.3.bn2.weight', 'layer3.3.bn2.bias', 'layer3.3.bn2.running_mean', 'layer3.3.bn2.running_var', 'layer3.3.conv3.weight', 'layer3.3.bn3.weight', 'layer3.3.bn3.bias', 'layer3.3.bn3.running_mean', 'layer3.3.bn3.running_var', 'layer3.4.conv1.weight', 'layer3.4.bn1.weight', 'layer3.4.bn1.bias', 'layer3.4.bn1.running_mean', 'layer3.4.bn1.running_var', 'layer3.4.conv2.weight', 'layer3.4.bn2.weight', 'layer3.4.bn2.bias', 'layer3.4.bn2.running_mean', 'layer3.4.bn2.running_var', 'layer3.4.conv3.weight', 'layer3.4.bn3.weight', 'layer3.4.bn3.bias', 'layer3.4.bn3.running_mean', 'layer3.4.bn3.running_var', 'layer3.5.conv1.weight', 'layer3.5.bn1.weight', 'layer3.5.bn1.bias', 'layer3.5.bn1.running_mean', 'layer3.5.bn1.running_var', 'layer3.5.conv2.weight', 'layer3.5.bn2.weight', 'layer3.5.bn2.bias', 'layer3.5.bn2.running_mean', 'layer3.5.bn2.running_var', 'layer3.5.conv3.weight', 'layer3.5.bn3.weight', 'layer3.5.bn3.bias', 'layer3.5.bn3.running_mean', 'layer3.5.bn3.running_var', 'layer4.0.conv1.weight', 'layer4.0.bn1.weight', 'layer4.0.bn1.bias', 'layer4.0.bn1.running_mean', 'layer4.0.bn1.running_var', 'layer4.0.conv2.weight', 'layer4.0.bn2.weight', 'layer4.0.bn2.bias', 'layer4.0.bn2.running_mean', 'layer4.0.bn2.running_var', 'layer4.0.conv3.weight', 'layer4.0.bn3.weight', 'layer4.0.bn3.bias', 'layer4.0.bn3.running_mean', 'layer4.0.bn3.running_var', 'layer4.0.downsample.0.weight', 'layer4.0.downsample.1.weight', 'layer4.0.downsample.1.bias', 'layer4.0.downsample.1.running_mean', 'layer4.0.downsample.1.running_var', 'layer4.1.conv1.weight', 'layer4.1.bn1.weight', 'layer4.1.bn1.bias', 'layer4.1.bn1.running_mean', 'layer4.1.bn1.running_var', 'layer4.1.conv2.weight', 'layer4.1.bn2.weight', 'layer4.1.bn2.bias', 'layer4.1.bn2.running_mean', 'layer4.1.bn2.running_var', 'layer4.1.conv3.weight', 'layer4.1.bn3.weight', 'layer4.1.bn3.bias', 'layer4.1.bn3.running_mean', 'layer4.1.bn3.running_var', 'layer4.2.conv1.weight', 'layer4.2.bn1.weight', 'layer4.2.bn1.bias', 'layer4.2.bn1.running_mean', 'layer4.2.bn1.running_var', 'layer4.2.conv2.weight', 'layer4.2.bn2.weight', 'layer4.2.bn2.bias', 'layer4.2.bn2.running_mean', 'layer4.2.bn2.running_var', 'layer4.2.conv3.weight', 'layer4.2.bn3.weight', 'layer4.2.bn3.bias', 'layer4.2.bn3.running_mean', 'layer4.2.bn3.running_var', 'fc.weight', 'fc.bias'],['module.conv1.weight', 'module.bn1.weight', 'module.bn1.bias', 'module.bn1.running_mean', 'module.bn1.running_var', 'module.bn1.num_batches_tracked', 'module.layer1.0.conv1.weight', 'module.layer1.0.bn1.weight', 'module.layer1.0.bn1.bias', 'module.layer1.0.bn1.running_mean', 'module.layer1.0.bn1.running_var', 'module.layer1.0.bn1.num_batches_tracked', 'module.layer1.0.conv2.weight', 'module.layer1.0.bn2.weight', 'module.layer1.0.bn2.bias', 'module.layer1.0.bn2.running_mean', 'module.layer1.0.bn2.running_var', 'module.layer1.0.bn2.num_batches_tracked', 'module.layer1.0.conv3.weight', 'module.layer1.0.bn3.weight', 'module.layer1.0.bn3.bias', 'module.layer1.0.bn3.running_mean', 'module.layer1.0.bn3.running_var', 'module.layer1.0.bn3.num_batches_tracked', 'module.layer1.0.downsample.0.weight', 'module.layer1.0.downsample.1.weight', 'module.layer1.0.downsample.1.bias', 'module.layer1.0.downsample.1.running_mean', 'module.layer1.0.downsample.1.running_var', 'module.layer1.0.downsample.1.num_batches_tracked', 'module.layer1.1.conv1.weight', 'module.layer1.1.bn1.weight', 'module.layer1.1.bn1.bias', 'module.layer1.1.bn1.running_mean', 'module.layer1.1.bn1.running_var', 'module.layer1.1.bn1.num_batches_tracked', 'module.layer1.1.conv2.weight', 'module.layer1.1.bn2.weight', 'module.layer1.1.bn2.bias', 'module.layer1.1.bn2.running_mean', 'module.layer1.1.bn2.running_var', 'module.layer1.1.bn2.num_batches_tracked', 'module.layer1.1.conv3.weight', 'module.layer1.1.bn3.weight', 'module.layer1.1.bn3.bias', 'module.layer1.1.bn3.running_mean', 'module.layer1.1.bn3.running_var', 'module.layer1.1.bn3.num_batches_tracked', 'module.layer1.2.conv1.weight', 'module.layer1.2.bn1.weight', 'module.layer1.2.bn1.bias', 'module.layer1.2.bn1.running_mean', 'module.layer1.2.bn1.running_var', 'module.layer1.2.bn1.num_batches_tracked', 'module.layer1.2.conv2.weight', 'module.layer1.2.bn2.weight', 'module.layer1.2.bn2.bias', 'module.layer1.2.bn2.running_mean', 'module.layer1.2.bn2.running_var', 'module.layer1.2.bn2.num_batches_tracked', 'module.layer1.2.conv3.weight', 'module.layer1.2.bn3.weight', 'module.layer1.2.bn3.bias', 'module.layer1.2.bn3.running_mean', 'module.layer1.2.bn3.running_var', 'module.layer1.2.bn3.num_batches_tracked', 'module.layer2.0.conv1.weight', 'module.layer2.0.bn1.weight', 'module.layer2.0.bn1.bias', 'module.layer2.0.bn1.running_mean', 'module.layer2.0.bn1.running_var', 'module.layer2.0.bn1.num_batches_tracked', 'module.layer2.0.conv2.weight', 'module.layer2.0.bn2.weight', 'module.layer2.0.bn2.bias', 'module.layer2.0.bn2.running_mean', 'module.layer2.0.bn2.running_var', 'module.layer2.0.bn2.num_batches_tracked', 'module.layer2.0.conv3.weight', 'module.layer2.0.bn3.weight', 'module.layer2.0.bn3.bias', 'module.layer2.0.bn3.running_mean', 'module.layer2.0.bn3.running_var', 'module.layer2.0.bn3.num_batches_tracked', 'module.layer2.0.downsample.0.weight', 'module.layer2.0.downsample.1.weight', 'module.layer2.0.downsample.1.bias', 'module.layer2.0.downsample.1.running_mean', 'module.layer2.0.downsample.1.running_var', 'module.layer2.0.downsample.1.num_batches_tracked', 'module.layer2.1.conv1.weight', 'module.layer2.1.bn1.weight', 'module.layer2.1.bn1.bias', 'module.layer2.1.bn1.running_mean', 'module.layer2.1.bn1.running_var', 'module.layer2.1.bn1.num_batches_tracked', 'module.layer2.1.conv2.weight', 'module.layer2.1.bn2.weight', 'module.layer2.1.bn2.bias', 'module.layer2.1.bn2.running_mean', 'module.layer2.1.bn2.running_var', 'module.layer2.1.bn2.num_batches_tracked', 'module.layer2.1.conv3.weight', 'module.layer2.1.bn3.weight', 'module.layer2.1.bn3.bias', 'module.layer2.1.bn3.running_mean', 'module.layer2.1.bn3.running_var', 'module.layer2.1.bn3.num_batches_tracked', 'module.layer2.2.conv1.weight', 'module.layer2.2.bn1.weight', 'module.layer2.2.bn1.bias', 'module.layer2.2.bn1.running_mean', 'module.layer2.2.bn1.running_var', 'module.layer2.2.bn1.num_batches_tracked', 'module.layer2.2.conv2.weight', 'module.layer2.2.bn2.weight', 'module.layer2.2.bn2.bias', 'module.layer2.2.bn2.running_mean', 'module.layer2.2.bn2.running_var', 'module.layer2.2.bn2.num_batches_tracked', 'module.layer2.2.conv3.weight', 'module.layer2.2.bn3.weight', 'module.layer2.2.bn3.bias', 'module.layer2.2.bn3.running_mean', 'module.layer2.2.bn3.running_var', 'module.layer2.2.bn3.num_batches_tracked', 'module.layer2.3.conv1.weight', 'module.layer2.3.bn1.weight', 'module.layer2.3.bn1.bias', 'module.layer2.3.bn1.running_mean', 'module.layer2.3.bn1.running_var', 'module.layer2.3.bn1.num_batches_tracked', 'module.layer2.3.conv2.weight', 'module.layer2.3.bn2.weight', 'module.layer2.3.bn2.bias', 'module.layer2.3.bn2.running_mean', 'module.layer2.3.bn2.running_var', 'module.layer2.3.bn2.num_batches_tracked', 'module.layer2.3.conv3.weight', 'module.layer2.3.bn3.weight', 'module.layer2.3.bn3.bias', 'module.layer2.3.bn3.running_mean', 'module.layer2.3.bn3.running_var', 'module.layer2.3.bn3.num_batches_tracked', 'module.layer3.0.conv1.weight', 'module.layer3.0.bn1.weight', 'module.layer3.0.bn1.bias', 'module.layer3.0.bn1.running_mean', 'module.layer3.0.bn1.running_var', 'module.layer3.0.bn1.num_batches_tracked', 'module.layer3.0.conv2.weight', 'module.layer3.0.bn2.weight', 'module.layer3.0.bn2.bias', 'module.layer3.0.bn2.running_mean', 'module.layer3.0.bn2.running_var', 'module.layer3.0.bn2.num_batches_tracked', 'module.layer3.0.conv3.weight', 'module.layer3.0.bn3.weight', 'module.layer3.0.bn3.bias', 'module.layer3.0.bn3.running_mean', 'module.layer3.0.bn3.running_var', 'module.layer3.0.bn3.num_batches_tracked', 'module.layer3.0.downsample.0.weight', 'module.layer3.0.downsample.1.weight', 'module.layer3.0.downsample.1.bias', 'module.layer3.0.downsample.1.running_mean', 'module.layer3.0.downsample.1.running_var', 'module.layer3.0.downsample.1.num_batches_tracked', 'module.layer3.1.conv1.weight', 'module.layer3.1.bn1.weight', 'module.layer3.1.bn1.bias', 'module.layer3.1.bn1.running_mean', 'module.layer3.1.bn1.running_var', 'module.layer3.1.bn1.num_batches_tracked', 'module.layer3.1.conv2.weight', 'module.layer3.1.bn2.weight', 'module.layer3.1.bn2.bias', 'module.layer3.1.bn2.running_mean', 'module.layer3.1.bn2.running_var', 'module.layer3.1.bn2.num_batches_tracked', 'module.layer3.1.conv3.weight', 'module.layer3.1.bn3.weight', 'module.layer3.1.bn3.bias', 'module.layer3.1.bn3.running_mean', 'module.layer3.1.bn3.running_var', 'module.layer3.1.bn3.num_batches_tracked', 'module.layer3.2.conv1.weight', 'module.layer3.2.bn1.weight', 'module.layer3.2.bn1.bias', 'module.layer3.2.bn1.running_mean', 'module.layer3.2.bn1.running_var', 'module.layer3.2.bn1.num_batches_tracked', 'module.layer3.2.conv2.weight', 'module.layer3.2.bn2.weight', 'module.layer3.2.bn2.bias', 'module.layer3.2.bn2.running_mean', 'module.layer3.2.bn2.running_var', 'module.layer3.2.bn2.num_batches_tracked', 'module.layer3.2.conv3.weight', 'module.layer3.2.bn3.weight', 'module.layer3.2.bn3.bias', 'module.layer3.2.bn3.running_mean', 'module.layer3.2.bn3.running_var', 'module.layer3.2.bn3.num_batches_tracked', 'module.layer3.3.conv1.weight', 'module.layer3.3.bn1.weight', 'module.layer3.3.bn1.bias', 'module.layer3.3.bn1.running_mean', 'module.layer3.3.bn1.running_var', 'module.layer3.3.bn1.num_batches_tracked', 'module.layer3.3.conv2.weight', 'module.layer3.3.bn2.weight', 'module.layer3.3.bn2.bias', 'module.layer3.3.bn2.running_mean', 'module.layer3.3.bn2.running_var', 'module.layer3.3.bn2.num_batches_tracked', 'module.layer3.3.conv3.weight', 'module.layer3.3.bn3.weight', 'module.layer3.3.bn3.bias', 'module.layer3.3.bn3.running_mean', 'module.layer3.3.bn3.running_var', 'module.layer3.3.bn3.num_batches_tracked', 'module.layer3.4.conv1.weight', 'module.layer3.4.bn1.weight', 'module.layer3.4.bn1.bias', 'module.layer3.4.bn1.running_mean', 'module.layer3.4.bn1.running_var', 'module.layer3.4.bn1.num_batches_tracked', 'module.layer3.4.conv2.weight', 'module.layer3.4.bn2.weight', 'module.layer3.4.bn2.bias', 'module.layer3.4.bn2.running_mean', 'module.layer3.4.bn2.running_var', 'module.layer3.4.bn2.num_batches_tracked', 'module.layer3.4.conv3.weight', 'module.layer3.4.bn3.weight', 'module.layer3.4.bn3.bias', 'module.layer3.4.bn3.running_mean', 'module.layer3.4.bn3.running_var', 'module.layer3.4.bn3.num_batches_tracked', 'module.layer3.5.conv1.weight', 'module.layer3.5.bn1.weight', 'module.layer3.5.bn1.bias', 'module.layer3.5.bn1.running_mean', 'module.layer3.5.bn1.running_var', 'module.layer3.5.bn1.num_batches_tracked', 'module.layer3.5.conv2.weight', 'module.layer3.5.bn2.weight', 'module.layer3.5.bn2.bias', 'module.layer3.5.bn2.running_mean', 'module.layer3.5.bn2.running_var', 'module.layer3.5.bn2.num_batches_tracked', 'module.layer3.5.conv3.weight', 'module.layer3.5.bn3.weight', 'module.layer3.5.bn3.bias', 'module.layer3.5.bn3.running_mean', 'module.layer3.5.bn3.running_var', 'module.layer3.5.bn3.num_batches_tracked', 'module.layer4.0.conv1.weight', 'module.layer4.0.bn1.weight', 'module.layer4.0.bn1.bias', 'module.layer4.0.bn1.running_mean', 'module.layer4.0.bn1.running_var', 'module.layer4.0.bn1.num_batches_tracked', 'module.layer4.0.conv2.weight', 'module.layer4.0.bn2.weight', 'module.layer4.0.bn2.bias', 'module.layer4.0.bn2.running_mean', 'module.layer4.0.bn2.running_var', 'module.layer4.0.bn2.num_batches_tracked', 'module.layer4.0.conv3.weight', 'module.layer4.0.bn3.weight', 'module.layer4.0.bn3.bias', 'module.layer4.0.bn3.running_mean', 'module.layer4.0.bn3.running_var', 'module.layer4.0.bn3.num_batches_tracked', 'module.layer4.0.downsample.0.weight', 'module.layer4.0.downsample.1.weight', 'module.layer4.0.downsample.1.bias', 'module.layer4.0.downsample.1.running_mean', 'module.layer4.0.downsample.1.running_var', 'module.layer4.0.downsample.1.num_batches_tracked', 'module.layer4.1.conv1.weight', 'module.layer4.1.bn1.weight', 'module.layer4.1.bn1.bias', 'module.layer4.1.bn1.running_mean', 'module.layer4.1.bn1.running_var', 'module.layer4.1.bn1.num_batches_tracked', 'module.layer4.1.conv2.weight', 'module.layer4.1.bn2.weight', 'module.layer4.1.bn2.bias', 'module.layer4.1.bn2.running_mean', 'module.layer4.1.bn2.running_var', 'module.layer4.1.bn2.num_batches_tracked', 'module.layer4.1.conv3.weight', 'module.layer4.1.bn3.weight', 'module.layer4.1.bn3.bias', 'module.layer4.1.bn3.running_mean', 'module.layer4.1.bn3.running_var', 'module.layer4.1.bn3.num_batches_tracked', 'module.layer4.2.conv1.weight', 'module.layer4.2.bn1.weight', 'module.layer4.2.bn1.bias', 'module.layer4.2.bn1.running_mean', 'module.layer4.2.bn1.running_var', 'module.layer4.2.bn1.num_batches_tracked', 'module.layer4.2.conv2.weight', 'module.layer4.2.bn2.weight', 'module.layer4.2.bn2.bias', 'module.layer4.2.bn2.running_mean', 'module.layer4.2.bn2.running_var', 'module.layer4.2.bn2.num_batches_tracked', 'module.layer4.2.conv3.weight', 'module.layer4.2.bn3.weight', 'module.layer4.2.bn3.bias', 'module.layer4.2.bn3.running_mean', 'module.layer4.2.bn3.running_var', 'module.layer4.2.bn3.num_batches_tracked', 'module.fc.weight', 'module.fc.bias']\n",
      "This should not happen. Check if checkpoint is correct\n"
     ]
    }
   ],
   "source": [
    "importer = Importer()\n",
    "found_elev_classifier_class = importer.get_class('FoundationElevationClassifier')\n",
    "found_elev_classifier_class = found_elev_classifier_class()\n",
    "predictions = found_elev_classifier_class.predict(images_street)"
   ]
  },
  {
   "cell_type": "markdown",
   "metadata": {
    "id": "oKSebGtqGEb_"
   },
   "source": [
    "## **Show Prediction Results**"
   ]
  },
  {
   "cell_type": "code",
   "execution_count": 6,
   "metadata": {
    "id": "dNLUWp3IEq74"
   },
   "outputs": [
    {
     "name": "stdout",
     "output_type": "stream",
     "text": [
      "{212: 'Elevated', 417: 'Elevated', 21: 'Elevated', 653: 'Elevated', 745: 'Elevated', 744: 'Elevated', 642: 'Non-elevated', 2531: 'Elevated', 2658: 'Non-elevated', 2562: 'Non-elevated', 2529: 'Non-elevated', 53: 'Elevated', 2227: 'Elevated', 2350: 'Elevated', 806: 'Elevated', 2208: 'Non-elevated', 2171: 'Elevated', 1907: 'Non-elevated', 7: 'Elevated', 1921: 'Elevated', 1284: 'Non-elevated', 681: 'Elevated', 679: 'Elevated', 882: 'Elevated', 1009: 'Non-elevated', 838: 'Elevated', 568: 'Elevated', 1046: 'Non-elevated', 887: 'Elevated', 857: 'Non-elevated', 463: 'Elevated', 1184: 'Non-elevated', 1020: 'Elevated', 1468: 'Non-elevated', 118: 'Elevated', 1144: 'Non-elevated', 1223: 'Non-elevated', 1822: 'Elevated', 541: 'Elevated', 814: 'Non-elevated', 1021: 'Elevated', 518: 'Elevated', 1671: 'Non-elevated', 1569: 'Elevated', 1522: 'Elevated', 1559: 'Elevated', 1595: 'Non-elevated'}\n"
     ]
    }
   ],
   "source": [
    "print(predictions)"
   ]
  }
 ],
 "metadata": {
  "colab": {
   "authorship_tag": "ABX9TyNgcWdTGe0kSJG7UaRKyCPz",
   "include_colab_link": true,
   "provenance": []
  },
  "kernelspec": {
   "display_name": "Python 3 (ipykernel)",
   "language": "python",
   "name": "python3"
  },
  "language_info": {
   "codemirror_mode": {
    "name": "ipython",
    "version": 3
   },
   "file_extension": ".py",
   "mimetype": "text/x-python",
   "name": "python",
   "nbconvert_exporter": "python",
   "pygments_lexer": "ipython3",
   "version": "3.11.10"
  }
 },
 "nbformat": 4,
 "nbformat_minor": 4
}
