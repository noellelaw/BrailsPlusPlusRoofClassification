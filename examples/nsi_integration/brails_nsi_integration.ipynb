{
 "cells": [
  {
   "cell_type": "markdown",
   "id": "77ee23d9-c278-4ba6-a1f5-9ab882c79489",
   "metadata": {},
   "source": [
    "# NSI–BRAILS Integration Example\n",
    "Written by bacetiner, fmk, yisangriB"
   ]
  },
  {
   "cell_type": "markdown",
   "id": "3c43c1e3-9c92-47a3-9ea5-824e5d134263",
   "metadata": {},
   "source": [
    "## Install BRAILS++ and Plotly"
   ]
  },
  {
   "cell_type": "code",
   "execution_count": 1,
   "id": "24c05ac7-5d53-4186-bed9-cf650d11b6a5",
   "metadata": {},
   "outputs": [
    {
     "name": "stdout",
     "output_type": "stream",
     "text": [
      "Collecting git+https://github.com/NHERI-SimCenter/BrailsPlusPlus\n",
      "  Cloning https://github.com/NHERI-SimCenter/BrailsPlusPlus to c:\\users\\simcenter\\appdata\\local\\temp\\pip-req-build-1lzmtu6r\n",
      "  Resolved https://github.com/NHERI-SimCenter/BrailsPlusPlus to commit 753710682606be9ab95efc610f03b03b6f85fd0d\n",
      "  Preparing metadata (setup.py): started\n",
      "  Preparing metadata (setup.py): finished with status 'done'\n",
      "Requirement already satisfied: addict in c:\\users\\simcenter\\appdata\\local\\programs\\python\\python39\\lib\\site-packages (from brails==4.0) (2.4.0)\n",
      "Requirement already satisfied: Cython in c:\\users\\simcenter\\appdata\\local\\programs\\python\\python39\\lib\\site-packages (from brails==4.0) (3.0.11)\n",
      "Requirement already satisfied: ftfy in c:\\users\\simcenter\\appdata\\local\\programs\\python\\python39\\lib\\site-packages (from brails==4.0) (6.2.0)\n",
      "Requirement already satisfied: matplotlib in c:\\users\\simcenter\\appdata\\local\\programs\\python\\python39\\lib\\site-packages (from brails==4.0) (3.9.2)\n",
      "Requirement already satisfied: pillow in c:\\users\\simcenter\\appdata\\local\\programs\\python\\python39\\lib\\site-packages (from brails==4.0) (11.0.0)\n",
      "Requirement already satisfied: plotly in c:\\users\\simcenter\\appdata\\local\\programs\\python\\python39\\lib\\site-packages (from brails==4.0) (5.24.1)\n",
      "Requirement already satisfied: pycocotools in c:\\users\\simcenter\\appdata\\local\\programs\\python\\python39\\lib\\site-packages (from brails==4.0) (2.0.7)\n",
      "Requirement already satisfied: requests in c:\\users\\simcenter\\appdata\\local\\programs\\python\\python39\\lib\\site-packages (from brails==4.0) (2.32.3)\n",
      "Requirement already satisfied: seaborn in c:\\users\\simcenter\\appdata\\local\\programs\\python\\python39\\lib\\site-packages (from brails==4.0) (0.13.2)\n",
      "Requirement already satisfied: shapely in c:\\users\\simcenter\\appdata\\local\\programs\\python\\python39\\lib\\site-packages (from brails==4.0) (2.0.6)\n",
      "Requirement already satisfied: supervision in c:\\users\\simcenter\\appdata\\local\\programs\\python\\python39\\lib\\site-packages (from brails==4.0) (0.20.0)\n",
      "Requirement already satisfied: timm in c:\\users\\simcenter\\appdata\\local\\programs\\python\\python39\\lib\\site-packages (from brails==4.0) (0.9.16)\n",
      "Requirement already satisfied: tensorboard in c:\\users\\simcenter\\appdata\\local\\programs\\python\\python39\\lib\\site-packages (from brails==4.0) (2.17.0)\n",
      "Requirement already satisfied: tensorboardX in c:\\users\\simcenter\\appdata\\local\\programs\\python\\python39\\lib\\site-packages (from brails==4.0) (2.6.2.2)\n",
      "Requirement already satisfied: torch in c:\\users\\simcenter\\appdata\\local\\programs\\python\\python39\\lib\\site-packages (from brails==4.0) (2.3.1)\n",
      "Requirement already satisfied: torchvision in c:\\users\\simcenter\\appdata\\local\\programs\\python\\python39\\lib\\site-packages (from brails==4.0) (0.18.1)\n",
      "Requirement already satisfied: transformers in c:\\users\\simcenter\\appdata\\local\\programs\\python\\python39\\lib\\site-packages (from brails==4.0) (4.40.2)\n",
      "Requirement already satisfied: typing in c:\\users\\simcenter\\appdata\\local\\programs\\python\\python39\\lib\\site-packages (from brails==4.0) (3.7.4.3)\n",
      "Requirement already satisfied: wget in c:\\users\\simcenter\\appdata\\local\\programs\\python\\python39\\lib\\site-packages (from brails==4.0) (3.2)\n",
      "Requirement already satisfied: yapf in c:\\users\\simcenter\\appdata\\local\\programs\\python\\python39\\lib\\site-packages (from brails==4.0) (0.40.2)\n",
      "Requirement already satisfied: yacs in c:\\users\\simcenter\\appdata\\local\\programs\\python\\python39\\lib\\site-packages (from brails==4.0) (0.1.8)\n",
      "Requirement already satisfied: webcolors in c:\\users\\simcenter\\appdata\\local\\programs\\python\\python39\\lib\\site-packages (from brails==4.0) (24.8.0)\n",
      "Requirement already satisfied: opencv-python in c:\\users\\simcenter\\appdata\\local\\programs\\python\\python39\\lib\\site-packages (from brails==4.0) (4.10.0.84)\n",
      "Requirement already satisfied: pandas in c:\\users\\simcenter\\appdata\\local\\programs\\python\\python39\\lib\\site-packages (from brails==4.0) (1.5.2)\n",
      "Requirement already satisfied: wcwidth<0.3.0,>=0.2.12 in c:\\users\\simcenter\\appdata\\local\\programs\\python\\python39\\lib\\site-packages (from ftfy->brails==4.0) (0.2.13)\n",
      "Requirement already satisfied: contourpy>=1.0.1 in c:\\users\\simcenter\\appdata\\local\\programs\\python\\python39\\lib\\site-packages (from matplotlib->brails==4.0) (1.3.0)\n",
      "Requirement already satisfied: cycler>=0.10 in c:\\users\\simcenter\\appdata\\local\\programs\\python\\python39\\lib\\site-packages (from matplotlib->brails==4.0) (0.12.1)\n",
      "Requirement already satisfied: fonttools>=4.22.0 in c:\\users\\simcenter\\appdata\\local\\programs\\python\\python39\\lib\\site-packages (from matplotlib->brails==4.0) (4.54.1)\n",
      "Requirement already satisfied: kiwisolver>=1.3.1 in c:\\users\\simcenter\\appdata\\local\\programs\\python\\python39\\lib\\site-packages (from matplotlib->brails==4.0) (1.4.7)\n",
      "Requirement already satisfied: numpy>=1.23 in c:\\users\\simcenter\\appdata\\local\\programs\\python\\python39\\lib\\site-packages (from matplotlib->brails==4.0) (1.25.2)\n",
      "Requirement already satisfied: packaging>=20.0 in c:\\users\\simcenter\\appdata\\local\\programs\\python\\python39\\lib\\site-packages (from matplotlib->brails==4.0) (24.1)\n",
      "Requirement already satisfied: pyparsing>=2.3.1 in c:\\users\\simcenter\\appdata\\local\\programs\\python\\python39\\lib\\site-packages (from matplotlib->brails==4.0) (3.2.0)\n",
      "Requirement already satisfied: python-dateutil>=2.7 in c:\\users\\simcenter\\appdata\\local\\programs\\python\\python39\\lib\\site-packages (from matplotlib->brails==4.0) (2.9.0.post0)\n",
      "Requirement already satisfied: importlib-resources>=3.2.0 in c:\\users\\simcenter\\appdata\\local\\programs\\python\\python39\\lib\\site-packages (from matplotlib->brails==4.0) (6.4.5)\n",
      "Requirement already satisfied: pytz>=2020.1 in c:\\users\\simcenter\\appdata\\local\\programs\\python\\python39\\lib\\site-packages (from pandas->brails==4.0) (2024.2)\n",
      "Requirement already satisfied: tenacity>=6.2.0 in c:\\users\\simcenter\\appdata\\local\\programs\\python\\python39\\lib\\site-packages (from plotly->brails==4.0) (9.0.0)\n",
      "Requirement already satisfied: charset-normalizer<4,>=2 in c:\\users\\simcenter\\appdata\\local\\programs\\python\\python39\\lib\\site-packages (from requests->brails==4.0) (3.4.0)\n",
      "Requirement already satisfied: idna<4,>=2.5 in c:\\users\\simcenter\\appdata\\local\\programs\\python\\python39\\lib\\site-packages (from requests->brails==4.0) (3.10)\n",
      "Requirement already satisfied: urllib3<3,>=1.21.1 in c:\\users\\simcenter\\appdata\\local\\programs\\python\\python39\\lib\\site-packages (from requests->brails==4.0) (2.2.3)\n",
      "Requirement already satisfied: certifi>=2017.4.17 in c:\\users\\simcenter\\appdata\\local\\programs\\python\\python39\\lib\\site-packages (from requests->brails==4.0) (2024.8.30)\n",
      "Requirement already satisfied: defusedxml<0.8.0,>=0.7.1 in c:\\users\\simcenter\\appdata\\local\\programs\\python\\python39\\lib\\site-packages (from supervision->brails==4.0) (0.7.1)\n",
      "Requirement already satisfied: opencv-python-headless>=4.5.5.64 in c:\\users\\simcenter\\appdata\\local\\programs\\python\\python39\\lib\\site-packages (from supervision->brails==4.0) (4.9.0.80)\n",
      "Requirement already satisfied: pyyaml>=5.3 in c:\\users\\simcenter\\appdata\\local\\programs\\python\\python39\\lib\\site-packages (from supervision->brails==4.0) (6.0.2)\n",
      "Requirement already satisfied: scipy<2.0.0,>=1.10.0 in c:\\users\\simcenter\\appdata\\local\\programs\\python\\python39\\lib\\site-packages (from supervision->brails==4.0) (1.11.2)\n",
      "Requirement already satisfied: absl-py>=0.4 in c:\\users\\simcenter\\appdata\\local\\programs\\python\\python39\\lib\\site-packages (from tensorboard->brails==4.0) (2.1.0)\n",
      "Requirement already satisfied: grpcio>=1.48.2 in c:\\users\\simcenter\\appdata\\local\\programs\\python\\python39\\lib\\site-packages (from tensorboard->brails==4.0) (1.65.1)\n",
      "Requirement already satisfied: markdown>=2.6.8 in c:\\users\\simcenter\\appdata\\local\\programs\\python\\python39\\lib\\site-packages (from tensorboard->brails==4.0) (3.6)\n",
      "Requirement already satisfied: protobuf!=4.24.0,<5.0.0,>=3.19.6 in c:\\users\\simcenter\\appdata\\local\\programs\\python\\python39\\lib\\site-packages (from tensorboard->brails==4.0) (4.25.3)\n",
      "Requirement already satisfied: setuptools>=41.0.0 in c:\\users\\simcenter\\appdata\\local\\programs\\python\\python39\\lib\\site-packages (from tensorboard->brails==4.0) (75.1.0)\n",
      "Requirement already satisfied: six>1.9 in c:\\users\\simcenter\\appdata\\local\\programs\\python\\python39\\lib\\site-packages (from tensorboard->brails==4.0) (1.16.0)\n",
      "Requirement already satisfied: tensorboard-data-server<0.8.0,>=0.7.0 in c:\\users\\simcenter\\appdata\\local\\programs\\python\\python39\\lib\\site-packages (from tensorboard->brails==4.0) (0.7.2)\n",
      "Requirement already satisfied: werkzeug>=1.0.1 in c:\\users\\simcenter\\appdata\\local\\programs\\python\\python39\\lib\\site-packages (from tensorboard->brails==4.0) (3.0.3)\n",
      "Requirement already satisfied: huggingface_hub in c:\\users\\simcenter\\appdata\\local\\programs\\python\\python39\\lib\\site-packages (from timm->brails==4.0) (0.23.0)\n",
      "Requirement already satisfied: safetensors in c:\\users\\simcenter\\appdata\\local\\programs\\python\\python39\\lib\\site-packages (from timm->brails==4.0) (0.4.3)\n",
      "Requirement already satisfied: filelock in c:\\users\\simcenter\\appdata\\local\\programs\\python\\python39\\lib\\site-packages (from torch->brails==4.0) (3.16.1)\n",
      "Requirement already satisfied: typing-extensions>=4.8.0 in c:\\users\\simcenter\\appdata\\local\\programs\\python\\python39\\lib\\site-packages (from torch->brails==4.0) (4.12.2)\n",
      "Requirement already satisfied: sympy in c:\\users\\simcenter\\appdata\\local\\programs\\python\\python39\\lib\\site-packages (from torch->brails==4.0) (1.13.3)\n",
      "Requirement already satisfied: networkx in c:\\users\\simcenter\\appdata\\local\\programs\\python\\python39\\lib\\site-packages (from torch->brails==4.0) (3.2.1)\n",
      "Requirement already satisfied: jinja2 in c:\\users\\simcenter\\appdata\\local\\programs\\python\\python39\\lib\\site-packages (from torch->brails==4.0) (3.1.4)\n",
      "Requirement already satisfied: fsspec in c:\\users\\simcenter\\appdata\\local\\programs\\python\\python39\\lib\\site-packages (from torch->brails==4.0) (2024.6.1)\n",
      "Requirement already satisfied: mkl<=2021.4.0,>=2021.1.1 in c:\\users\\simcenter\\appdata\\local\\programs\\python\\python39\\lib\\site-packages (from torch->brails==4.0) (2021.4.0)\n",
      "Requirement already satisfied: regex!=2019.12.17 in c:\\users\\simcenter\\appdata\\local\\programs\\python\\python39\\lib\\site-packages (from transformers->brails==4.0) (2024.4.28)\n",
      "Requirement already satisfied: tokenizers<0.20,>=0.19 in c:\\users\\simcenter\\appdata\\local\\programs\\python\\python39\\lib\\site-packages (from transformers->brails==4.0) (0.19.1)\n",
      "Requirement already satisfied: tqdm>=4.27 in c:\\users\\simcenter\\appdata\\local\\programs\\python\\python39\\lib\\site-packages (from transformers->brails==4.0) (4.66.5)\n",
      "Requirement already satisfied: importlib-metadata>=6.6.0 in c:\\users\\simcenter\\appdata\\local\\programs\\python\\python39\\lib\\site-packages (from yapf->brails==4.0) (8.5.0)\n",
      "Requirement already satisfied: platformdirs>=3.5.1 in c:\\users\\simcenter\\appdata\\local\\programs\\python\\python39\\lib\\site-packages (from yapf->brails==4.0) (4.3.6)\n",
      "Requirement already satisfied: tomli>=2.0.1 in c:\\users\\simcenter\\appdata\\local\\programs\\python\\python39\\lib\\site-packages (from yapf->brails==4.0) (2.0.2)\n",
      "Requirement already satisfied: zipp>=3.20 in c:\\users\\simcenter\\appdata\\local\\programs\\python\\python39\\lib\\site-packages (from importlib-metadata>=6.6.0->yapf->brails==4.0) (3.20.2)\n",
      "Requirement already satisfied: intel-openmp==2021.* in c:\\users\\simcenter\\appdata\\local\\programs\\python\\python39\\lib\\site-packages (from mkl<=2021.4.0,>=2021.1.1->torch->brails==4.0) (2021.4.0)\n",
      "Requirement already satisfied: tbb==2021.* in c:\\users\\simcenter\\appdata\\local\\programs\\python\\python39\\lib\\site-packages (from mkl<=2021.4.0,>=2021.1.1->torch->brails==4.0) (2021.13.0)\n",
      "Requirement already satisfied: colorama in c:\\users\\simcenter\\appdata\\local\\programs\\python\\python39\\lib\\site-packages (from tqdm>=4.27->transformers->brails==4.0) (0.3.7)\n",
      "Requirement already satisfied: MarkupSafe>=2.1.1 in c:\\users\\simcenter\\appdata\\local\\programs\\python\\python39\\lib\\site-packages (from werkzeug>=1.0.1->tensorboard->brails==4.0) (3.0.2)\n",
      "Requirement already satisfied: mpmath<1.4,>=1.1.0 in c:\\users\\simcenter\\appdata\\local\\programs\\python\\python39\\lib\\site-packages (from sympy->torch->brails==4.0) (1.3.0)\n"
     ]
    },
    {
     "name": "stderr",
     "output_type": "stream",
     "text": [
      "  Running command git clone --filter=blob:none --quiet https://github.com/NHERI-SimCenter/BrailsPlusPlus 'C:\\Users\\SimCenter\\AppData\\Local\\Temp\\pip-req-build-1lzmtu6r'\n",
      "\n",
      "[notice] A new release of pip is available: 23.3.2 -> 24.3.1\n",
      "[notice] To update, run: python.exe -m pip install --upgrade pip\n"
     ]
    },
    {
     "name": "stdout",
     "output_type": "stream",
     "text": [
      "Requirement already satisfied: plotly in c:\\users\\simcenter\\appdata\\local\\programs\\python\\python39\\lib\\site-packages (5.24.1)\n",
      "Requirement already satisfied: tenacity>=6.2.0 in c:\\users\\simcenter\\appdata\\local\\programs\\python\\python39\\lib\\site-packages (from plotly) (9.0.0)\n",
      "Requirement already satisfied: packaging in c:\\users\\simcenter\\appdata\\local\\programs\\python\\python39\\lib\\site-packages (from plotly) (24.1)\n"
     ]
    },
    {
     "name": "stderr",
     "output_type": "stream",
     "text": [
      "\n",
      "[notice] A new release of pip is available: 23.3.2 -> 24.3.1\n",
      "[notice] To update, run: python.exe -m pip install --upgrade pip\n"
     ]
    }
   ],
   "source": [
    "!pip install git+https://github.com/NHERI-SimCenter/BrailsPlusPlus\n",
    "!pip install plotly"
   ]
  },
  {
   "cell_type": "markdown",
   "id": "114549e3-5e63-4ec0-bc06-71529a7b3897",
   "metadata": {},
   "source": [
    "## Import Required Packages"
   ]
  },
  {
   "cell_type": "code",
   "execution_count": 8,
   "id": "71cf2a7c-796b-4f5f-8b93-8452f9972850",
   "metadata": {},
   "outputs": [],
   "source": [
    "import numpy as np\n",
    "import plotly.express as px\n",
    "import plotly.graph_objects as go\n",
    "import sys\n",
    "sys.path.insert(0, \"../../\")\n",
    "from brails.utils import Importer"
   ]
  },
  {
   "cell_type": "markdown",
   "id": "567090d2-6ea4-4e12-9c1a-e01501388f75",
   "metadata": {},
   "source": [
    "## Create a RegionBoundary for Area of Interest"
   ]
  },
  {
   "cell_type": "code",
   "execution_count": 9,
   "id": "659971d9-4ac3-4efa-a7ff-cca0c82838ce",
   "metadata": {},
   "outputs": [],
   "source": [
    "LOCATION = \"Tiburon, CA\"\n",
    "\n",
    "# Create an Importer instance:\n",
    "importer = Importer()\n",
    "\n",
    "# Create a region boundary:\n",
    "region_boundary_class = importer.get_class('RegionBoundary')\n",
    "region_boundary_object = region_boundary_class({'type': 'locationName',\n",
    "                                                'data': LOCATION})"
   ]
  },
  {
   "cell_type": "markdown",
   "id": "d80e825d-bc18-4903-b58e-9a752a231560",
   "metadata": {},
   "source": [
    "## Create an NSI Inventory by Downloading Raw Data"
   ]
  },
  {
   "cell_type": "code",
   "execution_count": 10,
   "id": "10c44c06-fcdb-4e3f-b234-a94e50527338",
   "metadata": {},
   "outputs": [
    {
     "name": "stdout",
     "output_type": "stream",
     "text": [
      "\n",
      "Searching for Tiburon, CA...\n",
      "Found Tiburon, Marin County, California, 94920, United States\n",
      "\n",
      "Getting National Structure Inventory (NSI) building data for the entered location input...\n",
      "Found a total of 3597 building points in NSI that are within the entered region of interest\n",
      "Total number of assets detected using NSI is 3597\n"
     ]
    }
   ],
   "source": [
    "nsi_class = importer.get_class('NSI_Parser')\n",
    "nsi = nsi_class()\n",
    "nsi_inventory = nsi.get_raw_data(region_boundary_object)\n",
    "\n",
    "print('Total number of assets detected using NSI is '\n",
    "      f'{len(nsi_inventory.inventory)}')"
   ]
  },
  {
   "cell_type": "markdown",
   "id": "9577bd83-b5ca-44c2-8475-147ba7315b78",
   "metadata": {},
   "source": [
    "## Create an Inventory By Merging Footprint Data with NSI Raw Data"
   ]
  },
  {
   "cell_type": "code",
   "execution_count": null,
   "id": "64ade594-871c-48f9-af88-867d387a7d55",
   "metadata": {},
   "outputs": [],
   "source": [
    "# Scrape the building inventory from OSM:\n",
    "scraper_class = importer.get_class('OSM_FootprintScraper')\n",
    "scraper = scraper_class({'length': 'ft'})\n",
    "scraper_inventory = scraper.get_footprints(region_boundary_object)\n",
    "\n",
    "# Merge these footprints with the NSI raw data previously downlaoded:\n",
    "nsi_processed_data = nsi.get_filtered_data_given_inventory(scraper_inventory)"
   ]
  },
  {
   "cell_type": "markdown",
   "id": "ec5bd0db-9054-4161-bbae-7c66f99c0408",
   "metadata": {},
   "source": [
    "## Plot NSI Raw Data"
   ]
  },
  {
   "cell_type": "code",
   "execution_count": null,
   "id": "d8ce24f2-0030-4fdb-a5dd-55fbd61098cc",
   "metadata": {},
   "outputs": [],
   "source": [
    "# Table for the raw data:\n",
    "inventory_df, geom_df, nbldg = nsi_inventory.get_dataframe()\n",
    "inventory_df.replace('', np.nan, inplace=True) # for visualization\n",
    "inventory_df.replace('NA', np.nan, inplace=True) # for visualization"
   ]
  },
  {
   "cell_type": "code",
   "execution_count": null,
   "id": "e02223d4-d3ac-4d94-a697-626e9991464d",
   "metadata": {},
   "outputs": [],
   "source": [
    "fig = px.scatter_mapbox(geom_df, lat=\"Lat\", lon=\"Lon\", color=(inventory_df[\"num_story\"].astype(float)),range_color=[-1,4],zoom=12, mapbox_style='open-street-map',width=800, height=600,title='NSI Raw Data: Number of Stories')\n",
    "fig.update_geos(projection_type=\"mercator\", showland=True, landcolor=\"white\", showocean=True, oceancolor=\"lightblue\", coastlinecolor=\"gray\")\n",
    "fig.update_layout(margin={\"r\":0, \"t\":40, \"l\":0, \"b\":0}, hovermode=\"closest\", coloraxis_colorbar=dict(title=\"Number of Stories\", tickvals=[-1, 1, 2, 3, 4], ticktext=[\"-1\", \"1\", \"2\", \"3\", \"4\"]))\n",
    "fig.show()"
   ]
  },
  {
   "cell_type": "markdown",
   "id": "932525c2-0118-4e88-af29-d246eb7e80e3",
   "metadata": {},
   "source": [
    "## Merge NSI Data with the Obtained Footprint Geometries"
   ]
  },
  {
   "cell_type": "code",
   "execution_count": null,
   "id": "786233cc-2089-4097-9ed6-5b76e46d7104",
   "metadata": {},
   "outputs": [],
   "source": [
    "# Foootprints for the filtered data:\n",
    "inventory_footprints, _ = nsi_processed_data.get_coordinates()"
   ]
  },
  {
   "cell_type": "code",
   "execution_count": null,
   "id": "df9d2faa-5db7-4cc3-bae0-a9b12735749e",
   "metadata": {},
   "outputs": [],
   "source": [
    "all_coords = [coord for path in inventory_footprints for coord in path]\n",
    "center_lat = sum(point[1] for point in all_coords) / len(all_coords)\n",
    "center_lon = sum(point[0] for point in all_coords) / len(all_coords)\n",
    "\n",
    "# Prepare data for a single trace with breaks between paths\n",
    "lats = []; lons = []\n",
    "for path in inventory_footprints:\n",
    "    for point in path:\n",
    "        lats.append(point[1])\n",
    "        lons.append(point[0])\n",
    "    # Add None to break lines between paths\n",
    "    lats.append(None)\n",
    "    lons.append(None)\n",
    "\n",
    "fig = go.Figure(go.Scattermapbox(lat=lats, lon=lons, mode=\"lines\", marker=go.scattermapbox.Marker(size=8, color=\"blue\"), line=dict(color=\"red\", width=2)))\n",
    "fig.update_layout(mapbox=dict(style=\"open-street-map\",center=dict(lat=center_lat, lon=center_lon),zoom=12),width=800, height=600, title='NSI Data Merged with OSM Footprints: Footprint Geometries',showlegend=False)\n",
    "fig.update_geos(projection_type=\"mercator\", showland=True, landcolor=\"white\", showocean=True, oceancolor=\"lightblue\", coastlinecolor=\"gray\")\n",
    "fig.show()"
   ]
  }
 ],
 "metadata": {
  "kernelspec": {
   "display_name": "Python 3 (ipykernel)",
   "language": "python",
   "name": "python3"
  },
  "language_info": {
   "codemirror_mode": {
    "name": "ipython",
    "version": 3
   },
   "file_extension": ".py",
   "mimetype": "text/x-python",
   "name": "python",
   "nbconvert_exporter": "python",
   "pygments_lexer": "ipython3",
   "version": "3.11.10"
  }
 },
 "nbformat": 4,
 "nbformat_minor": 5
}
