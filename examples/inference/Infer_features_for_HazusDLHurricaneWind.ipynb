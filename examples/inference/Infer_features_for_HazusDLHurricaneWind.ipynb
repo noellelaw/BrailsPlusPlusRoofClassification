{
 "cells": [
  {
   "cell_type": "code",
   "execution_count": 1,
   "id": "bbb4d53e-334c-4533-a108-508067038215",
   "metadata": {},
   "outputs": [],
   "source": [
    "# !pip install git+https://github.com/NHERI-SimCenter/BrailsPlusPlus\n",
    "# !pip install plotly"
   ]
  },
  {
   "cell_type": "markdown",
   "id": "cbb23c97-37fc-43eb-b151-2a681c47f9aa",
   "metadata": {},
   "source": [
    "# Example 1 - Atlantic county example using the previous R2D inputs"
   ]
  },
  {
   "cell_type": "code",
   "execution_count": 2,
   "id": "338b4e7d-d077-4e70-b1f5-56533822952e",
   "metadata": {},
   "outputs": [
    {
     "name": "stderr",
     "output_type": "stream",
     "text": [
      "INFO:numexpr.utils:NumExpr defaulting to 8 threads.\n"
     ]
    }
   ],
   "source": [
    "# Written: sy Aug 2024\n",
    "# License: BSD-2\n",
    "\n",
    "\"\"\"\n",
    " Purpose: Testing Imputer\n",
    "\"\"\"\n",
    "\n",
    "import os\n",
    "import sys\n",
    "import copy\n",
    "import json\n",
    "\n",
    "import numpy as np\n",
    "\n",
    "sys.path.insert(0, \"../../\")\n",
    "from brails.utils import Importer\n",
    "from brails.types.image_set import ImageSet    \n",
    "from brails.types.asset_inventory import Asset, AssetInventory\n"
   ]
  },
  {
   "cell_type": "code",
   "execution_count": 3,
   "id": "983a2e46-1c7d-4930-b3f4-ebc9cf8e6e1b",
   "metadata": {},
   "outputs": [],
   "source": [
    "file_path = \"./nsi_altantic_minimal.csv\""
   ]
  },
  {
   "cell_type": "code",
   "execution_count": 4,
   "id": "95568d75-7054-4e0f-b953-6f91fdff70e4",
   "metadata": {},
   "outputs": [],
   "source": [
    "# create an Import to get the classes\n",
    "\n",
    "importer = Importer()\n",
    "knn_imputer_class = importer.get_class(\"KnnImputer\")"
   ]
  },
  {
   "cell_type": "code",
   "execution_count": 5,
   "id": "439a77e4-ab42-4610-b7fc-c4142e30b5d7",
   "metadata": {},
   "outputs": [
    {
     "name": "stdout",
     "output_type": "stream",
     "text": [
      "No existing inventory found. Reading in the new inventory from the file.\n"
     ]
    },
    {
     "data": {
      "text/plain": [
       "True"
      ]
     },
     "execution_count": 5,
     "metadata": {},
     "output_type": "execute_result"
    }
   ],
   "source": [
    "inventory = AssetInventory()\n",
    "inventory.read_from_csv(file_path,keep_existing=True,id_column='id') "
   ]
  },
  {
   "cell_type": "code",
   "execution_count": 6,
   "id": "4f7a5e9e",
   "metadata": {},
   "outputs": [
    {
     "data": {
      "text/plain": [
       "{'id': 4,\n",
       " 'City': 'Somers Point',\n",
       " 'OccupancyClass': 'RES1',\n",
       " 'BuildingMaterial': 'Wood',\n",
       " 'DesignLevel': 'NE',\n",
       " 'YearBuilt': 1994,\n",
       " 'NumberOfStories': 2,\n",
       " 'PlanArea': 2416,\n",
       " 'FoundationType': 3504,\n",
       " 'SplitLevel': 0,\n",
       " 'Garage': 0,\n",
       " 'FirstFloorHt': 2,\n",
       " 'FloodZone': 'X',\n",
       " 'WindZone': 'I',\n",
       " 'AvgJanTemp': 'Above',\n",
       " 'RoofShape': 'hip',\n",
       " 'RoofSlope': 0,\n",
       " 'RoofFrameType': 'trs',\n",
       " 'WindowArea': 0,\n",
       " 'DesignWindSpeed': 121.5296499,\n",
       " 'NumberOfUnits': 1,\n",
       " 'MeanRoofHt': 35.04684071,\n",
       " 'OBJECTID': 847181,\n",
       " 'geometry': 'POINT (-74.61723667499923 39.30829801705697)',\n",
       " 'type': 'building'}"
      ]
     },
     "execution_count": 6,
     "metadata": {},
     "output_type": "execute_result"
    }
   ],
   "source": [
    "inventory.get_asset_features(4)[1]  # empty or 'NA' are missing values"
   ]
  },
  {
   "cell_type": "code",
   "execution_count": 7,
   "id": "6ac98712-4e2c-4d01-a9c2-1ca6744d8e6a",
   "metadata": {},
   "outputs": [],
   "source": [
    "#inventory.remove_features(['RoofShape'])"
   ]
  },
  {
   "cell_type": "code",
   "execution_count": 8,
   "id": "a45b303c-a95b-4eb4-a573-117cf72a7a78",
   "metadata": {},
   "outputs": [],
   "source": [
    "hurricaneInferer = importer.get_class(\"HazusHurricaneInferer\")\n",
    "inferer=hurricaneInferer(input_inventory=inventory,clean_features = True)"
   ]
  },
  {
   "cell_type": "code",
   "execution_count": 9,
   "id": "315ef0a1-4b12-4bf9-83e8-2646f81ace12",
   "metadata": {},
   "outputs": [
    {
     "data": {
      "text/plain": [
       "[[-74.61718179, 39.3079507]]"
      ]
     },
     "execution_count": 9,
     "metadata": {},
     "output_type": "execute_result"
    }
   ],
   "source": [
    "inventory.get_asset_coordinates(1)[1]"
   ]
  },
  {
   "cell_type": "code",
   "execution_count": 10,
   "id": "cf9985de",
   "metadata": {},
   "outputs": [
    {
     "name": "stdout",
     "output_type": "stream",
     "text": [
      "Done inference. It took 0.16 mins\n"
     ]
    }
   ],
   "source": [
    "new_inventory = inferer.infer()"
   ]
  },
  {
   "cell_type": "code",
   "execution_count": 11,
   "id": "52eb458e-87a8-4e7a-9056-cc08b4ddb4ca",
   "metadata": {},
   "outputs": [
    {
     "data": {
      "text/plain": [
       "{'BuildingTag': 'W.SF.',\n",
       " 'TerrainRoughness': 15,\n",
       " 'NumberOfStories': 1,\n",
       " 'RoofShape': 'gab',\n",
       " 'SecondaryWaterResistance': 1,\n",
       " 'Shutters': 0,\n",
       " 'RoofDeckAttachmentW': '8d',\n",
       " 'RoofToWallConnection': 'strap',\n",
       " 'GarageDoor': 'no'}"
      ]
     },
     "execution_count": 11,
     "metadata": {},
     "output_type": "execute_result"
    }
   ],
   "source": [
    "new_inventory.get_asset_features(156)[1]  # empty or 'NA' are missing values"
   ]
  },
  {
   "cell_type": "code",
   "execution_count": 12,
   "id": "4ac36299-915e-4a6a-90fd-55405ef721a5",
   "metadata": {},
   "outputs": [],
   "source": [
    "# Make values human readable "
   ]
  },
  {
   "cell_type": "code",
   "execution_count": 13,
   "id": "87fb926f-fd93-4d12-97d2-f910ebb5f909",
   "metadata": {},
   "outputs": [
    {
     "data": {
      "text/plain": [
       "{'BuildingTag': 'S.ECB.L',\n",
       " 'TerrainRoughness': 15,\n",
       " 'RoofCover': 'bur',\n",
       " 'WindowAreaRatio': 'low',\n",
       " 'RoofDeckAttachmentM': 'sup',\n",
       " 'Shutters': 0,\n",
       " 'WindDebrisClass': 'A'}"
      ]
     },
     "execution_count": 13,
     "metadata": {},
     "output_type": "execute_result"
    }
   ],
   "source": [
    "new_inventory.get_asset_features(100)[1]  # empty or 'NA' are missing values"
   ]
  },
  {
   "cell_type": "code",
   "execution_count": 14,
   "id": "4e29c339-119c-445d-bca6-4a3d9ae13fd3",
   "metadata": {},
   "outputs": [],
   "source": [
    "_ = new_inventory.write_to_geojson(\n",
    "    output_file=\"test.json\")"
   ]
  },
  {
   "cell_type": "markdown",
   "id": "b630b357-7c25-4af4-aaff-09a5d72bb6af",
   "metadata": {},
   "source": [
    "# Example 2 - Fort Myers Beach"
   ]
  },
  {
   "cell_type": "code",
   "execution_count": 15,
   "id": "fc0d8272-3f15-41c7-a1c2-bbff7bc47488",
   "metadata": {},
   "outputs": [],
   "source": [
    "LOCATION_NAME = 'Fort Myers Beach' #'Fort Myers Beach, FL'\n",
    "INVENTORY_OUTPUT = 'FMB.geojson' #'FortMyersInventory_HU.geojson'\n",
    "NO_POSSIBLE_WORLDS = 1"
   ]
  },
  {
   "cell_type": "code",
   "execution_count": 16,
   "id": "35898107-656a-49ee-8f6f-93f7ac324846",
   "metadata": {},
   "outputs": [],
   "source": [
    "importer = Importer()"
   ]
  },
  {
   "cell_type": "code",
   "execution_count": 17,
   "id": "e5e83fbe-d394-4b68-8cc3-57b417f4a2f5",
   "metadata": {},
   "outputs": [],
   "source": [
    "region_data = {\"type\": \"locationName\", \"data\": LOCATION_NAME}\n",
    "region_boundary_class = importer.get_class(\"RegionBoundary\")\n",
    "region_boundary_object = region_boundary_class(region_data)"
   ]
  },
  {
   "cell_type": "code",
   "execution_count": 18,
   "id": "3b8e364d-3aef-45d1-b6ad-9f506496ad47",
   "metadata": {},
   "outputs": [
    {
     "name": "stdout",
     "output_type": "stream",
     "text": [
      "\n",
      "Searching for Fort Myers Beach...\n",
      "Found Fort Myers Beach, Lee County, Florida, 33931, United States\n",
      "\n",
      "Getting National Structure Inventory (NSI) building data for the entered location input...\n",
      "Found a total of 3558 building points in NSI that are within the entered region of interest\n"
     ]
    }
   ],
   "source": [
    "nsi_class = importer.get_class('NSI_Parser')\n",
    "nsi = nsi_class()\n",
    "nsi_inventory = nsi.get_raw_data_given_boundary(region_boundary_object, 'ft')"
   ]
  },
  {
   "cell_type": "code",
   "execution_count": 19,
   "id": "0ae828dd-dfb4-4138-b9dc-865f9c3e14d3",
   "metadata": {},
   "outputs": [
    {
     "name": "stdout",
     "output_type": "stream",
     "text": [
      "\n",
      "Searching for Fort Myers Beach...\n",
      "Found Fort Myers Beach, Lee County, Florida, 33931, United States\n",
      "\n",
      "Meshing the defined area...\n",
      "\n",
      "Meshing complete. Covered Fort Myers Beach with a single rectangular cell\n"
     ]
    },
    {
     "name": "stderr",
     "output_type": "stream",
     "text": [
      "Obtaining the building attributes for each cell: 100%|███████████████████████████████████| 1/1 [00:01<00:00,  1.02s/it]\n",
      "100%|██████████████████████████████████████████████████████████████████████████████████| 1/1 [00:00<00:00, 1000.31it/s]\n"
     ]
    },
    {
     "name": "stdout",
     "output_type": "stream",
     "text": [
      "\n",
      "Found a total of 3102 building footprints in Fort Myers Beach\n"
     ]
    }
   ],
   "source": [
    "scraper_class = importer.get_class('USA_FootprintScraper')\n",
    "scraper = scraper_class({'length': 'ft'})\n",
    "scraper_inventory = scraper.get_footprints(region_boundary_object)"
   ]
  },
  {
   "cell_type": "code",
   "execution_count": 20,
   "id": "a277b0cd-9ee7-44b7-aae8-98d44451b5bb",
   "metadata": {},
   "outputs": [
    {
     "name": "stdout",
     "output_type": "stream",
     "text": [
      "\n",
      "Getting National Structure Inventory (NSI) building data for the entered location input...\n",
      "Found a total of 2797 building points in NSI that match the footprint data.\n"
     ]
    }
   ],
   "source": [
    "nsi_inventory = nsi.get_filtered_data_given_inventory(\n",
    "    scraper_inventory, \"ft\", get_extended_features=True)"
   ]
  },
  {
   "cell_type": "code",
   "execution_count": 21,
   "id": "94540d97-fee9-4a36-b704-258df06272c3",
   "metadata": {},
   "outputs": [
    {
     "name": "stdout",
     "output_type": "stream",
     "text": [
      "Features with no reference data cannot be imputed. Removing them from the imputation target: buildingheight\n",
      "Missing percentages among 3102 assets\n",
      "fparea: 9.83%\n",
      "numstories: 9.83%\n",
      "erabuilt: 9.83%\n",
      "repaircost: 9.83%\n",
      "constype: 9.83%\n",
      "occupancy: 9.83%\n",
      "splitlevel: 9.83%\n",
      "basement: 28.05%\n",
      "Primitive imputation done.\n",
      "Running the main imputation. This may take a while.\n",
      "Done imputation. It took 0.01 mins\n"
     ]
    }
   ],
   "source": [
    "knn_imputer_class = importer.get_class(\"KnnImputer\")\n",
    "\n",
    "imputer = knn_imputer_class(\n",
    "    nsi_inventory, n_possible_worlds=NO_POSSIBLE_WORLDS,\n",
    "    exclude_features=['lat', 'lon', 'fd_id'])\n",
    "imputed_inventory = imputer.impute()"
   ]
  },
  {
   "cell_type": "markdown",
   "id": "e76dfc81-af6b-486a-9ef0-0db5d766467c",
   "metadata": {},
   "source": [
    "## Assigning feature temporarily"
   ]
  },
  {
   "cell_type": "code",
   "execution_count": 22,
   "id": "085799e3-1178-427f-84e4-918b25cd1a85",
   "metadata": {},
   "outputs": [],
   "source": [
    "for key, val in imputed_inventory.inventory.items():\n",
    "    val.add_features({\"DesignWindSpeed\":30,\n",
    "                     \"RoofShape\":'hip',\n",
    "                     \"AvgJanTemp\":'above',\n",
    "                     \"DesignLevel\":'E'})"
   ]
  },
  {
   "cell_type": "code",
   "execution_count": 23,
   "id": "7445c04c-4036-40df-939e-1a3de348dcfa",
   "metadata": {},
   "outputs": [
    {
     "name": "stdout",
     "output_type": "stream",
     "text": [
      "Done inference. It took 0.00 mins\n"
     ]
    }
   ],
   "source": [
    "imputed_inventory.change_feature_names({'erabuilt': 'YearBuilt',\n",
    "                                        'constype': 'BuildingMaterial',\n",
    "                                        'fpAreas': 'PlanArea',\n",
    "                                        'numstories': 'NumberOfStories',\n",
    "                                        'occupancy': 'OccupancyClass'\n",
    "                                       })\n",
    "hurricaneInferer = importer.get_class(\"HazusHurricaneInferer\")\n",
    "inferer = hurricaneInferer(input_inventory=imputed_inventory, clean_features=True)\n",
    "hazus_inferred_inventory = inferer.infer()"
   ]
  },
  {
   "cell_type": "code",
   "execution_count": 24,
   "id": "b4e27a69-a5aa-437b-b2f7-e84e354cf672",
   "metadata": {},
   "outputs": [
    {
     "data": {
      "text/plain": [
       "{'BuildingTag': 'W.MUH.',\n",
       " 'TerrainRoughness': 15,\n",
       " 'RoofShape': 'hip',\n",
       " 'NumberOfStories': 1,\n",
       " 'RoofQuality': 'null',\n",
       " 'Shutters': 0,\n",
       " 'RoofToWallConnection': 'tnail',\n",
       " 'RoofDeckAttachmentW': '8d',\n",
       " 'RoofCover': 'null',\n",
       " 'SecondaryWaterResistance': 1}"
      ]
     },
     "execution_count": 24,
     "metadata": {},
     "output_type": "execute_result"
    }
   ],
   "source": [
    "hazus_inferred_inventory.inventory[125].features\n"
   ]
  },
  {
   "cell_type": "code",
   "execution_count": 25,
   "id": "0dd7a3da-1714-46c9-a56d-b8e5f0f65a24",
   "metadata": {},
   "outputs": [
    {
     "data": {
      "text/plain": [
       "{'BuildingTag': 'W.SF.',\n",
       " 'TerrainRoughness': 15,\n",
       " 'NumberOfStories': 1,\n",
       " 'RoofShape': 'hip',\n",
       " 'SecondaryWaterResistance': 0,\n",
       " 'Shutters': 0,\n",
       " 'RoofDeckAttachmentW': '8d',\n",
       " 'RoofToWallConnection': 'tnail',\n",
       " 'GarageDoor': 'std'}"
      ]
     },
     "execution_count": 25,
     "metadata": {},
     "output_type": "execute_result"
    }
   ],
   "source": [
    "hazus_inferred_inventory.inventory[10].features\n"
   ]
  }
 ],
 "metadata": {
  "kernelspec": {
   "display_name": "Python 3 (ipykernel)",
   "language": "python",
   "name": "python3"
  },
  "language_info": {
   "codemirror_mode": {
    "name": "ipython",
    "version": 3
   },
   "file_extension": ".py",
   "mimetype": "text/x-python",
   "name": "python",
   "nbconvert_exporter": "python",
   "pygments_lexer": "ipython3",
   "version": "3.10.10"
  }
 },
 "nbformat": 4,
 "nbformat_minor": 5
}
